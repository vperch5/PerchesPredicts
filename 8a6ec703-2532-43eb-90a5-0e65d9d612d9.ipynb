{
 "cells": [
  {
   "cell_type": "markdown",
   "id": "2bf5661e",
   "metadata": {},
   "source": [
    "<div class=\"alert alert-success\"; style=\"border-left: 7px solid green\">\n",
    "<b>✅ Reviewer's comment, v. 4</b> \n",
    "    \n",
    "Great, Vivian! You've done a great job and now your project has been accepted.\n",
    "    \n",
    "Thank you for your work and I wish you success in the following projects!"
   ]
  },
  {
   "cell_type": "markdown",
   "id": "26091bee",
   "metadata": {},
   "source": [
    "<div class=\"alert alert-danger\"; style=\"border-left: 7px solid red\">\n",
    "<b>⛔️ Reviewer's comment, v. 3</b> \n",
    "    \n",
    "Vivian, hello!\n",
    "    \n",
    "Please **delete all duplicates in the dataset**, a more detailed comment on how and where to do this is marked in red and v 3.0"
   ]
  },
  {
   "cell_type": "markdown",
   "id": "210ce484",
   "metadata": {},
   "source": [
    "<div class=\"alert alert-danger\"; style=\"border-left: 7px solid red\">\n",
    "<b>⛔️ Reviewer's comment, v. 2</b> \n",
    "    \n",
    "You did a good job on the comments, but I still have one more comment, it is marked v 2.0 and red. Please fix it and I will accept your project)"
   ]
  },
  {
   "cell_type": "markdown",
   "id": "b78e536e",
   "metadata": {},
   "source": [
    "<div style=\"border:solid blue 2px; padding: 20px\">\n",
    "  \n",
    "**Hello Vivian**\n",
    "\n",
    "I am happy to review your project today!\n",
    "\n",
    "You will find my comments in coloured cells marked as 'Reviewer's comment'. The cell colour will vary based on the contents - I am explaining it further below. \n",
    "\n",
    "**Note:** Please do not remove or change my comments - they will help me in my future reviews and will make the process smoother for both of us. \n",
    "\n",
    "<div class=\"alert alert-success\"; style=\"border-left: 7px solid green\">\n",
    "<b>✅ Reviewer's comment</b> \n",
    "    \n",
    "Such comment will mark efficient solutions and good ideas that can be used in other projects.\n",
    "</div>\n",
    "\n",
    "<div class=\"alert alert-warning\"; style=\"border-left: 7px solid gold\">\n",
    "<b>⚠️ Reviewer's comment</b> \n",
    "    \n",
    "The parts marked with yellow comments indicate that there is room for optimisation. Though the correction is not necessary it is good if you implement it.\n",
    "</div>\n",
    "\n",
    "<div class=\"alert alert-danger\"; style=\"border-left: 7px solid red\">\n",
    "<b>⛔️ Reviewer's comment</b> \n",
    "    \n",
    "If you see such a comment, it means that there is a problem that needs to be fixed. Please note that I won't be able to accept your project until the issue is resolved.\n",
    "</div>\n",
    "\n",
    "You are also very welcome to leave your comments / describe the corrections you've done / ask me questions, marking them with a different colour. You can use the example below: \n",
    "\n",
    "<div class=\"alert alert-info\"; style=\"border-left: 7px solid blue\">\n",
    "<b>Student's comment</b>"
   ]
  },
  {
   "cell_type": "markdown",
   "id": "f85a80d2",
   "metadata": {},
   "source": [
    "## Basic Python - Project <a id='intro'></a>"
   ]
  },
  {
   "cell_type": "markdown",
   "id": "9f1cc834",
   "metadata": {},
   "source": [
    "<div style=\"border:solid green 2px; padding: 20px\">\n",
    "    \n",
    "<div class=\"alert alert-success\">\n",
    "<b>Review summary</b> \n",
    "    \n",
    "Vivian, thanks for submitting the project. You've done a very good job and I enjoyed reviewing it.\n",
    "\n",
    "    \n",
    "There are only a few critical comments that need to be corrected. You will find them in the red-colored cells in relevant sections. If you have any questions please write them when you return your project. \n",
    "    \n",
    "I'll be looking forward to getting your updated notebook."
   ]
  },
  {
   "cell_type": "markdown",
   "id": "0a27cf5a",
   "metadata": {},
   "source": [
    "<div class=\"alert alert-danger\"; style=\"border-left: 7px solid red\">\n",
    "<b>⛔️ Reviewer's comment, v. 1</b> \n",
    "    \n",
    "Before sending a new version, please click `Kernel - > Restart & Run all` to make sure that your code is working"
   ]
  },
  {
   "cell_type": "markdown",
   "id": "a1262df4",
   "metadata": {},
   "source": [
    "## Introduction <a id='intro'></a>\n",
    "In this project, you will work with data from the entertainment industry. You will study a dataset with records on movies and shows. The research will focus on the \"Golden Age\" of television, which began in 1999 with the release of *The Sopranos* and is still ongoing.\n",
    "\n",
    "The aim of this project is to investigate how the number of votes a title receives impacts its ratings. The assumption is that highly-rated shows (we will focus on TV shows, ignoring movies) released during the \"Golden Age\" of television also have the most votes.\n",
    "\n",
    "### Stages \n",
    "Data on movies and shows is stored in the `/datasets/movies_and_shows.csv` file. There is no information about the quality of the data, so you will need to explore it before doing the analysis.\n",
    "\n",
    "First, you'll evaluate the quality of the data and see whether its issues are significant. Then, during data preprocessing, you will try to account for the most critical problems.\n",
    " \n",
    "Your project will consist of three stages:\n",
    " 1. Data overview\n",
    " 2. Data preprocessing\n",
    " 3. Data analysis"
   ]
  },
  {
   "cell_type": "markdown",
   "id": "e55a0e60",
   "metadata": {},
   "source": [
    "<div class=\"alert alert-success\"; style=\"border-left: 7px solid green\">\n",
    "<b>✅ Reviewer's comment, v. 1</b> \n",
    "    \n",
    "Title and introduction are essential parts of the project. Make sure you do not forget to include it in your further projects. \n",
    "    \n",
    "It is optimal if introduction consists of:\n",
    "    \n",
    "- brief description of the situation;\n",
    "- goal of the project;\n",
    "- description of the data we are going to use.\n",
    "</div>\n"
   ]
  },
  {
   "cell_type": "markdown",
   "id": "ac0593ac",
   "metadata": {},
   "source": [
    "## Stage 1. Data overview <a id='data_review'></a>\n",
    "\n",
    "Open and explore the data."
   ]
  },
  {
   "cell_type": "markdown",
   "id": "e86ed00e",
   "metadata": {},
   "source": [
    "You'll need `pandas`, so import it."
   ]
  },
  {
   "cell_type": "code",
   "execution_count": 1,
   "id": "1727d3f8",
   "metadata": {},
   "outputs": [],
   "source": [
    "# importing pandas\n",
    "import pandas as pd "
   ]
  },
  {
   "cell_type": "markdown",
   "id": "38da25bb",
   "metadata": {},
   "source": [
    "<div class=\"alert alert-success\"; style=\"border-left: 7px solid green\">\n",
    "<b>✅ Reviewer's comment, v. 1</b> Needed library has been added </div>"
   ]
  },
  {
   "cell_type": "markdown",
   "id": "9821beeb",
   "metadata": {},
   "source": [
    "Read the `movies_and_shows.csv` file from the `datasets` folder and save it in the `df` variable:"
   ]
  },
  {
   "cell_type": "code",
   "execution_count": 2,
   "id": "fc5a1402",
   "metadata": {},
   "outputs": [],
   "source": [
    "# reading the files and storing them to df\n",
    "df = pd.read_csv('/datasets/movies_and_shows.csv')"
   ]
  },
  {
   "cell_type": "markdown",
   "id": "ee30cb56",
   "metadata": {},
   "source": [
    "<div class=\"alert alert-success\"; style=\"border-left: 7px solid green\">\n",
    "<b>✅ Reviewer's comment, v. 1</b> The correct path to the file is specified: the slash at the beginning of the path is very important, as it indicates that you need to search for the file in the root folder. </div>"
   ]
  },
  {
   "cell_type": "markdown",
   "id": "1cd0a96d",
   "metadata": {},
   "source": [
    "Print the first 10 table rows:"
   ]
  },
  {
   "cell_type": "code",
   "execution_count": 3,
   "id": "acd92001",
   "metadata": {},
   "outputs": [
    {
     "data": {
      "text/html": [
       "<div>\n",
       "<style scoped>\n",
       "    .dataframe tbody tr th:only-of-type {\n",
       "        vertical-align: middle;\n",
       "    }\n",
       "\n",
       "    .dataframe tbody tr th {\n",
       "        vertical-align: top;\n",
       "    }\n",
       "\n",
       "    .dataframe thead th {\n",
       "        text-align: right;\n",
       "    }\n",
       "</style>\n",
       "<table border=\"1\" class=\"dataframe\">\n",
       "  <thead>\n",
       "    <tr style=\"text-align: right;\">\n",
       "      <th></th>\n",
       "      <th>name</th>\n",
       "      <th>Character</th>\n",
       "      <th>r0le</th>\n",
       "      <th>TITLE</th>\n",
       "      <th>Type</th>\n",
       "      <th>release Year</th>\n",
       "      <th>genres</th>\n",
       "      <th>imdb sc0re</th>\n",
       "      <th>imdb v0tes</th>\n",
       "    </tr>\n",
       "  </thead>\n",
       "  <tbody>\n",
       "    <tr>\n",
       "      <th>0</th>\n",
       "      <td>Robert De Niro</td>\n",
       "      <td>Travis Bickle</td>\n",
       "      <td>ACTOR</td>\n",
       "      <td>Taxi Driver</td>\n",
       "      <td>MOVIE</td>\n",
       "      <td>1976</td>\n",
       "      <td>['drama', 'crime']</td>\n",
       "      <td>8.2</td>\n",
       "      <td>808582.0</td>\n",
       "    </tr>\n",
       "    <tr>\n",
       "      <th>1</th>\n",
       "      <td>Jodie Foster</td>\n",
       "      <td>Iris Steensma</td>\n",
       "      <td>ACTOR</td>\n",
       "      <td>Taxi Driver</td>\n",
       "      <td>MOVIE</td>\n",
       "      <td>1976</td>\n",
       "      <td>['drama', 'crime']</td>\n",
       "      <td>8.2</td>\n",
       "      <td>808582.0</td>\n",
       "    </tr>\n",
       "    <tr>\n",
       "      <th>2</th>\n",
       "      <td>Albert Brooks</td>\n",
       "      <td>Tom</td>\n",
       "      <td>ACTOR</td>\n",
       "      <td>Taxi Driver</td>\n",
       "      <td>MOVIE</td>\n",
       "      <td>1976</td>\n",
       "      <td>['drama', 'crime']</td>\n",
       "      <td>8.2</td>\n",
       "      <td>808582.0</td>\n",
       "    </tr>\n",
       "    <tr>\n",
       "      <th>3</th>\n",
       "      <td>Harvey Keitel</td>\n",
       "      <td>Matthew 'Sport' Higgins</td>\n",
       "      <td>ACTOR</td>\n",
       "      <td>Taxi Driver</td>\n",
       "      <td>MOVIE</td>\n",
       "      <td>1976</td>\n",
       "      <td>['drama', 'crime']</td>\n",
       "      <td>8.2</td>\n",
       "      <td>808582.0</td>\n",
       "    </tr>\n",
       "    <tr>\n",
       "      <th>4</th>\n",
       "      <td>Cybill Shepherd</td>\n",
       "      <td>Betsy</td>\n",
       "      <td>ACTOR</td>\n",
       "      <td>Taxi Driver</td>\n",
       "      <td>MOVIE</td>\n",
       "      <td>1976</td>\n",
       "      <td>['drama', 'crime']</td>\n",
       "      <td>8.2</td>\n",
       "      <td>808582.0</td>\n",
       "    </tr>\n",
       "    <tr>\n",
       "      <th>5</th>\n",
       "      <td>Peter Boyle</td>\n",
       "      <td>Wizard</td>\n",
       "      <td>ACTOR</td>\n",
       "      <td>Taxi Driver</td>\n",
       "      <td>MOVIE</td>\n",
       "      <td>1976</td>\n",
       "      <td>['drama', 'crime']</td>\n",
       "      <td>8.2</td>\n",
       "      <td>808582.0</td>\n",
       "    </tr>\n",
       "    <tr>\n",
       "      <th>6</th>\n",
       "      <td>Leonard Harris</td>\n",
       "      <td>Senator Charles Palantine</td>\n",
       "      <td>ACTOR</td>\n",
       "      <td>Taxi Driver</td>\n",
       "      <td>MOVIE</td>\n",
       "      <td>1976</td>\n",
       "      <td>['drama', 'crime']</td>\n",
       "      <td>8.2</td>\n",
       "      <td>808582.0</td>\n",
       "    </tr>\n",
       "    <tr>\n",
       "      <th>7</th>\n",
       "      <td>Diahnne Abbott</td>\n",
       "      <td>Concession Girl</td>\n",
       "      <td>ACTOR</td>\n",
       "      <td>Taxi Driver</td>\n",
       "      <td>MOVIE</td>\n",
       "      <td>1976</td>\n",
       "      <td>['drama', 'crime']</td>\n",
       "      <td>8.2</td>\n",
       "      <td>808582.0</td>\n",
       "    </tr>\n",
       "    <tr>\n",
       "      <th>8</th>\n",
       "      <td>Gino Ardito</td>\n",
       "      <td>Policeman at Rally</td>\n",
       "      <td>ACTOR</td>\n",
       "      <td>Taxi Driver</td>\n",
       "      <td>MOVIE</td>\n",
       "      <td>1976</td>\n",
       "      <td>['drama', 'crime']</td>\n",
       "      <td>8.2</td>\n",
       "      <td>808582.0</td>\n",
       "    </tr>\n",
       "    <tr>\n",
       "      <th>9</th>\n",
       "      <td>Martin Scorsese</td>\n",
       "      <td>Passenger Watching Silhouette</td>\n",
       "      <td>ACTOR</td>\n",
       "      <td>Taxi Driver</td>\n",
       "      <td>MOVIE</td>\n",
       "      <td>1976</td>\n",
       "      <td>['drama', 'crime']</td>\n",
       "      <td>8.2</td>\n",
       "      <td>808582.0</td>\n",
       "    </tr>\n",
       "  </tbody>\n",
       "</table>\n",
       "</div>"
      ],
      "text/plain": [
       "              name                      Character   r0le        TITLE   Type  \\\n",
       "0   Robert De Niro                  Travis Bickle  ACTOR  Taxi Driver  MOVIE   \n",
       "1     Jodie Foster                  Iris Steensma  ACTOR  Taxi Driver  MOVIE   \n",
       "2    Albert Brooks                            Tom  ACTOR  Taxi Driver  MOVIE   \n",
       "3    Harvey Keitel        Matthew 'Sport' Higgins  ACTOR  Taxi Driver  MOVIE   \n",
       "4  Cybill Shepherd                          Betsy  ACTOR  Taxi Driver  MOVIE   \n",
       "5      Peter Boyle                         Wizard  ACTOR  Taxi Driver  MOVIE   \n",
       "6   Leonard Harris      Senator Charles Palantine  ACTOR  Taxi Driver  MOVIE   \n",
       "7   Diahnne Abbott                Concession Girl  ACTOR  Taxi Driver  MOVIE   \n",
       "8      Gino Ardito             Policeman at Rally  ACTOR  Taxi Driver  MOVIE   \n",
       "9  Martin Scorsese  Passenger Watching Silhouette  ACTOR  Taxi Driver  MOVIE   \n",
       "\n",
       "   release Year              genres  imdb sc0re  imdb v0tes  \n",
       "0          1976  ['drama', 'crime']         8.2    808582.0  \n",
       "1          1976  ['drama', 'crime']         8.2    808582.0  \n",
       "2          1976  ['drama', 'crime']         8.2    808582.0  \n",
       "3          1976  ['drama', 'crime']         8.2    808582.0  \n",
       "4          1976  ['drama', 'crime']         8.2    808582.0  \n",
       "5          1976  ['drama', 'crime']         8.2    808582.0  \n",
       "6          1976  ['drama', 'crime']         8.2    808582.0  \n",
       "7          1976  ['drama', 'crime']         8.2    808582.0  \n",
       "8          1976  ['drama', 'crime']         8.2    808582.0  \n",
       "9          1976  ['drama', 'crime']         8.2    808582.0  "
      ]
     },
     "execution_count": 3,
     "metadata": {},
     "output_type": "execute_result"
    }
   ],
   "source": [
    "# obtaining the first 10 rows from the df table\n",
    "# hint: you can use head() and tail() in Jupyter Notebook without wrapping them into print()\n",
    "df.head(10)"
   ]
  },
  {
   "cell_type": "markdown",
   "id": "e579aa91",
   "metadata": {},
   "source": [
    "Obtain the general information about the table with one command:"
   ]
  },
  {
   "cell_type": "code",
   "execution_count": 4,
   "id": "7bf66d2a",
   "metadata": {},
   "outputs": [
    {
     "name": "stdout",
     "output_type": "stream",
     "text": [
      "<class 'pandas.core.frame.DataFrame'>\n",
      "RangeIndex: 85579 entries, 0 to 85578\n",
      "Data columns (total 9 columns):\n",
      " #   Column        Non-Null Count  Dtype  \n",
      "---  ------        --------------  -----  \n",
      " 0      name       85579 non-null  object \n",
      " 1   Character     85579 non-null  object \n",
      " 2   r0le          85579 non-null  object \n",
      " 3   TITLE         85578 non-null  object \n",
      " 4     Type        85579 non-null  object \n",
      " 5   release Year  85579 non-null  int64  \n",
      " 6   genres        85579 non-null  object \n",
      " 7   imdb sc0re    80970 non-null  float64\n",
      " 8   imdb v0tes    80853 non-null  float64\n",
      "dtypes: float64(2), int64(1), object(6)\n",
      "memory usage: 5.9+ MB\n"
     ]
    }
   ],
   "source": [
    "# obtaining general information about the data in df\n",
    "df.info()"
   ]
  },
  {
   "cell_type": "markdown",
   "id": "3286de18",
   "metadata": {},
   "source": [
    "<div class=\"alert alert-success\"; style=\"border-left: 7px solid green\">\n",
    "<b>✅ Reviewer's comment, v. 1</b> \n",
    "    \n",
    "Great - you've used a comprehensive set of methods to have a first look at the data.\n",
    "    "
   ]
  },
  {
   "cell_type": "markdown",
   "id": "e91f62a7",
   "metadata": {},
   "source": [
    "The table contains nine columns. The majority store the same data type: object. The only exceptions are `'release Year'` (int64 type), `'imdb sc0re'` (float64 type) and `'imdb v0tes'` (float64 type). Scores and votes will be used in our analysis, so it's important to verify that they are present in the dataframe in the appropriate numeric format. Three columns (`'TITLE'`, `'imdb sc0re'` and `'imdb v0tes'`) have missing values.\n",
    "\n",
    "According to the documentation:\n",
    "- `'name'` — actor/director's name and last name\n",
    "- `'Character'` — character played (for actors)\n",
    "- `'r0le '` — the person's contribution to the title (it can be in the capacity of either actor or director)\n",
    "- `'TITLE '` — title of the movie (show)\n",
    "- `'  Type'` — show or movie\n",
    "- `'release Year'` — year when movie (show) was released\n",
    "- `'genres'` — list of genres under which the movie (show) falls\n",
    "- `'imdb sc0re'` — score on IMDb\n",
    "- `'imdb v0tes'` — votes on IMDb\n",
    "\n",
    "We can see three issues with the column names:\n",
    "1. Some names are uppercase, while others are lowercase.\n",
    "2. There are names containing whitespace.\n",
    "3. A few column names have digit '0' instead of letter 'o'. \n"
   ]
  },
  {
   "cell_type": "markdown",
   "id": "4355de7b",
   "metadata": {},
   "source": [
    "### Conclusions <a id='data_review_conclusions'></a> \n",
    "\n",
    "Each row in the table stores data about a movie or show. The columns can be divided into two categories: the first is about the roles held by different people who worked on the movie or show (role, name of the actor or director, and character if the row is about an actor); the second category is information about the movie or show itself (title, release year, genre, imdb figures).\n",
    "\n",
    "It's clear that there is sufficient data to do the analysis and evaluate our assumption. However, to move forward, we need to preprocess the data."
   ]
  },
  {
   "cell_type": "markdown",
   "id": "4db92825",
   "metadata": {},
   "source": [
    "<div class=\"alert alert-success\"; style=\"border-left: 7px solid green\">\n",
    "<b>✅ Reviewer's comment, v. 1</b> \n",
    "    \n",
    "Please note that it is highly recommended to add a conclusion / summary after each section and describe briefly your observations and / or major outcomes of the analysis."
   ]
  },
  {
   "cell_type": "markdown",
   "id": "c5dc9111",
   "metadata": {},
   "source": [
    "## Stage 2. Data preprocessing <a id='data_preprocessing'></a>\n",
    "Correct the formatting in the column headers and deal with the missing values. Then, check whether there are duplicates in the data."
   ]
  },
  {
   "cell_type": "code",
   "execution_count": 5,
   "id": "9c850d13",
   "metadata": {},
   "outputs": [
    {
     "data": {
      "text/plain": [
       "['   name',\n",
       " 'Character',\n",
       " 'r0le',\n",
       " 'TITLE',\n",
       " '  Type',\n",
       " 'release Year',\n",
       " 'genres',\n",
       " 'imdb sc0re',\n",
       " 'imdb v0tes']"
      ]
     },
     "execution_count": 5,
     "metadata": {},
     "output_type": "execute_result"
    }
   ],
   "source": [
    "# the list of column names in the df table\n",
    "list(df.columns)"
   ]
  },
  {
   "cell_type": "markdown",
   "id": "5f966df9",
   "metadata": {},
   "source": [
    "Change the column names according to the rules of good style:\n",
    "* If the name has several words, use snake_case\n",
    "* All characters must be lowercase\n",
    "* Remove whitespace\n",
    "* Replace zero with letter 'o'"
   ]
  },
  {
   "cell_type": "code",
   "execution_count": 6,
   "id": "23a1dc11",
   "metadata": {},
   "outputs": [],
   "source": [
    "# renaming columns\n",
    "df = df.rename(columns={\n",
    "    '   name': 'name',\n",
    "    'Character': 'character',\n",
    "    'r0le': 'role',\n",
    "    'TITLE': 'title',\n",
    "    '  Type': 'type',\n",
    "    'release Year': 'release_year',\n",
    "    'imdb sc0re': 'imdb_score',\n",
    "    'imdb v0tes': 'imdb_votes'\n",
    "})\n",
    "    "
   ]
  },
  {
   "cell_type": "markdown",
   "id": "073034b0",
   "metadata": {},
   "source": [
    "<div class=\"alert alert-success\"; style=\"border-left: 7px solid green\">\n",
    "<b>✅ Reviewer's comment, v. 1</b> \n",
    "    \n",
    "This is a good way to rename the columns."
   ]
  },
  {
   "cell_type": "markdown",
   "id": "464fbd04",
   "metadata": {},
   "source": [
    "Check the result. Print the names of the columns once more:"
   ]
  },
  {
   "cell_type": "code",
   "execution_count": 7,
   "id": "0eb6527f",
   "metadata": {},
   "outputs": [
    {
     "data": {
      "text/plain": [
       "Index(['name', 'character', 'role', 'title', 'type', 'release_year', 'genres',\n",
       "       'imdb_score', 'imdb_votes'],\n",
       "      dtype='object')"
      ]
     },
     "execution_count": 7,
     "metadata": {},
     "output_type": "execute_result"
    }
   ],
   "source": [
    "# checking result: the list of column names\n",
    "df.columns"
   ]
  },
  {
   "cell_type": "markdown",
   "id": "14d9c319",
   "metadata": {},
   "source": [
    "### Missing values <a id='missing_values'></a>\n",
    "First, find the number of missing values in the table. To do so, combine two `pandas` methods:"
   ]
  },
  {
   "cell_type": "code",
   "execution_count": 8,
   "id": "21c427f2",
   "metadata": {},
   "outputs": [
    {
     "data": {
      "text/plain": [
       "name               0\n",
       "character          0\n",
       "role               0\n",
       "title              1\n",
       "type               0\n",
       "release_year       0\n",
       "genres             0\n",
       "imdb_score      4609\n",
       "imdb_votes      4726\n",
       "dtype: int64"
      ]
     },
     "execution_count": 8,
     "metadata": {},
     "output_type": "execute_result"
    }
   ],
   "source": [
    "# calculating missing values\n",
    "df.isna().sum()"
   ]
  },
  {
   "cell_type": "markdown",
   "id": "69683e8c",
   "metadata": {},
   "source": [
    "<div class=\"alert alert-success\"; style=\"border-left: 7px solid green\">\n",
    "<b>✅ Reviewer's comment, v. 1</b> \n",
    "    \n",
    "The isna() method is selected to find the missing values, it's great!"
   ]
  },
  {
   "cell_type": "markdown",
   "id": "c8272df3",
   "metadata": {},
   "source": [
    "We identified missing values in several columns. While the missing value in `'title'` isn't critical, missing values in `'imdb_score'` and `'imdb_votes'` affect around 6% of the data, which could impact our analysis. To ensure data integrity, we'll drop all rows with missing values."
   ]
  },
  {
   "cell_type": "code",
   "execution_count": 9,
   "id": "599d5550",
   "metadata": {},
   "outputs": [],
   "source": [
    "# dropping rows where columns with scores, and votes have missing values\n",
    "df = df.dropna(subset=['imdb_score', 'imdb_votes'])"
   ]
  },
  {
   "cell_type": "markdown",
   "id": "25831d9d",
   "metadata": {},
   "source": [
    "<div class=\"alert alert-danger\"; style=\"border-left: 7px solid red\">\n",
    "<b>⛔️ Reviewer's comment, v. 1</b> \n",
    "    \n",
    "Please note that we have to remove the missing values in the columns, but not the entire columns)"
   ]
  },
  {
   "cell_type": "markdown",
   "id": "7ea5ca1d",
   "metadata": {},
   "source": [
    "<div class=\"alert alert-success\"; style=\"border-left: 7px solid green\">\n",
    "<b>✅ Reviewer's comment, v. 2</b> \n",
    "    \n",
    "Perfect!"
   ]
  },
  {
   "cell_type": "markdown",
   "id": "2156887f",
   "metadata": {},
   "source": [
    "Make sure the table doesn't contain any more missing values. Count the missing values again."
   ]
  },
  {
   "cell_type": "code",
   "execution_count": 10,
   "id": "55c0b0ce",
   "metadata": {},
   "outputs": [
    {
     "data": {
      "text/plain": [
       "name            0\n",
       "character       0\n",
       "role            0\n",
       "title           0\n",
       "type            0\n",
       "release_year    0\n",
       "genres          0\n",
       "imdb_score      0\n",
       "imdb_votes      0\n",
       "dtype: int64"
      ]
     },
     "execution_count": 10,
     "metadata": {},
     "output_type": "execute_result"
    }
   ],
   "source": [
    "# counting missing values\n",
    "df.isna().sum()"
   ]
  },
  {
   "cell_type": "markdown",
   "id": "a7dc7aa0",
   "metadata": {},
   "source": [
    "### Duplicates <a id='duplicates'></a>\n",
    "Find the number of duplicate rows in the table using one command:"
   ]
  },
  {
   "cell_type": "code",
   "execution_count": 11,
   "id": "9227df01",
   "metadata": {},
   "outputs": [
    {
     "data": {
      "text/plain": [
       "6994"
      ]
     },
     "execution_count": 11,
     "metadata": {},
     "output_type": "execute_result"
    }
   ],
   "source": [
    "# counting duplicate rows\n",
    "duplicates = df.duplicated()\n",
    "duplicates.sum()"
   ]
  },
  {
   "cell_type": "markdown",
   "id": "5f6eb0fc",
   "metadata": {},
   "source": [
    "Review the duplicate rows to determine if removing them would distort our dataset."
   ]
  },
  {
   "cell_type": "code",
   "execution_count": 12,
   "id": "bcf32fcb",
   "metadata": {},
   "outputs": [
    {
     "data": {
      "text/html": [
       "<div>\n",
       "<style scoped>\n",
       "    .dataframe tbody tr th:only-of-type {\n",
       "        vertical-align: middle;\n",
       "    }\n",
       "\n",
       "    .dataframe tbody tr th {\n",
       "        vertical-align: top;\n",
       "    }\n",
       "\n",
       "    .dataframe thead th {\n",
       "        text-align: right;\n",
       "    }\n",
       "</style>\n",
       "<table border=\"1\" class=\"dataframe\">\n",
       "  <thead>\n",
       "    <tr style=\"text-align: right;\">\n",
       "      <th></th>\n",
       "      <th>name</th>\n",
       "      <th>character</th>\n",
       "      <th>role</th>\n",
       "      <th>title</th>\n",
       "      <th>type</th>\n",
       "      <th>release_year</th>\n",
       "      <th>genres</th>\n",
       "      <th>imdb_score</th>\n",
       "      <th>imdb_votes</th>\n",
       "    </tr>\n",
       "  </thead>\n",
       "  <tbody>\n",
       "    <tr>\n",
       "      <th>85569</th>\n",
       "      <td>Jessica Cediel</td>\n",
       "      <td>Liliana Navarro</td>\n",
       "      <td>ACTOR</td>\n",
       "      <td>Lokillo</td>\n",
       "      <td>MOVIE</td>\n",
       "      <td>2021</td>\n",
       "      <td>['comedy']</td>\n",
       "      <td>3.8</td>\n",
       "      <td>68.0</td>\n",
       "    </tr>\n",
       "    <tr>\n",
       "      <th>85570</th>\n",
       "      <td>Javier Gardeaz?­bal</td>\n",
       "      <td>Agust??n \"Peluca\" Ort??z</td>\n",
       "      <td>ACTOR</td>\n",
       "      <td>Lokillo</td>\n",
       "      <td>MOVIE</td>\n",
       "      <td>2021</td>\n",
       "      <td>['comedy']</td>\n",
       "      <td>3.8</td>\n",
       "      <td>68.0</td>\n",
       "    </tr>\n",
       "    <tr>\n",
       "      <th>85571</th>\n",
       "      <td>Carla Giraldo</td>\n",
       "      <td>Valery Reinoso</td>\n",
       "      <td>ACTOR</td>\n",
       "      <td>Lokillo</td>\n",
       "      <td>MOVIE</td>\n",
       "      <td>2021</td>\n",
       "      <td>['comedy']</td>\n",
       "      <td>3.8</td>\n",
       "      <td>68.0</td>\n",
       "    </tr>\n",
       "    <tr>\n",
       "      <th>85572</th>\n",
       "      <td>Ana Mar??a S?­nchez</td>\n",
       "      <td>Lourdes</td>\n",
       "      <td>ACTOR</td>\n",
       "      <td>Lokillo</td>\n",
       "      <td>MOVIE</td>\n",
       "      <td>2021</td>\n",
       "      <td>['comedy']</td>\n",
       "      <td>3.8</td>\n",
       "      <td>68.0</td>\n",
       "    </tr>\n",
       "    <tr>\n",
       "      <th>85577</th>\n",
       "      <td>Isabel Gaona</td>\n",
       "      <td>Cacica</td>\n",
       "      <td>ACTOR</td>\n",
       "      <td>Lokillo</td>\n",
       "      <td>MOVIE</td>\n",
       "      <td>2021</td>\n",
       "      <td>['comedy']</td>\n",
       "      <td>3.8</td>\n",
       "      <td>68.0</td>\n",
       "    </tr>\n",
       "  </tbody>\n",
       "</table>\n",
       "</div>"
      ],
      "text/plain": [
       "                      name                 character   role    title   type  \\\n",
       "85569       Jessica Cediel           Liliana Navarro  ACTOR  Lokillo  MOVIE   \n",
       "85570  Javier Gardeaz?­bal  Agust??n \"Peluca\" Ort??z  ACTOR  Lokillo  MOVIE   \n",
       "85571        Carla Giraldo            Valery Reinoso  ACTOR  Lokillo  MOVIE   \n",
       "85572  Ana Mar??a S?­nchez                   Lourdes  ACTOR  Lokillo  MOVIE   \n",
       "85577         Isabel Gaona                    Cacica  ACTOR  Lokillo  MOVIE   \n",
       "\n",
       "       release_year      genres  imdb_score  imdb_votes  \n",
       "85569          2021  ['comedy']         3.8        68.0  \n",
       "85570          2021  ['comedy']         3.8        68.0  \n",
       "85571          2021  ['comedy']         3.8        68.0  \n",
       "85572          2021  ['comedy']         3.8        68.0  \n",
       "85577          2021  ['comedy']         3.8        68.0  "
      ]
     },
     "execution_count": 12,
     "metadata": {},
     "output_type": "execute_result"
    }
   ],
   "source": [
    "# Produce table with duplicates (with original rows included) and review last 5 rows\n",
    "\n",
    "duplicated_rows = df[df.duplicated()]\n",
    "duplicated_rows.tail()"
   ]
  },
  {
   "cell_type": "markdown",
   "id": "a1ed6640",
   "metadata": {},
   "source": [
    "There are two clear duplicates in the printed rows. We can safely remove them.\n",
    "Call the `pandas` method for getting rid of duplicate rows:"
   ]
  },
  {
   "cell_type": "code",
   "execution_count": 13,
   "id": "724d5bc8",
   "metadata": {},
   "outputs": [
    {
     "data": {
      "text/html": [
       "<div>\n",
       "<style scoped>\n",
       "    .dataframe tbody tr th:only-of-type {\n",
       "        vertical-align: middle;\n",
       "    }\n",
       "\n",
       "    .dataframe tbody tr th {\n",
       "        vertical-align: top;\n",
       "    }\n",
       "\n",
       "    .dataframe thead th {\n",
       "        text-align: right;\n",
       "    }\n",
       "</style>\n",
       "<table border=\"1\" class=\"dataframe\">\n",
       "  <thead>\n",
       "    <tr style=\"text-align: right;\">\n",
       "      <th></th>\n",
       "      <th>name</th>\n",
       "      <th>character</th>\n",
       "      <th>role</th>\n",
       "      <th>title</th>\n",
       "      <th>type</th>\n",
       "      <th>release_year</th>\n",
       "      <th>genres</th>\n",
       "      <th>imdb_score</th>\n",
       "      <th>imdb_votes</th>\n",
       "    </tr>\n",
       "  </thead>\n",
       "  <tbody>\n",
       "    <tr>\n",
       "      <th>0</th>\n",
       "      <td>Robert De Niro</td>\n",
       "      <td>Travis Bickle</td>\n",
       "      <td>ACTOR</td>\n",
       "      <td>Taxi Driver</td>\n",
       "      <td>MOVIE</td>\n",
       "      <td>1976</td>\n",
       "      <td>['drama', 'crime']</td>\n",
       "      <td>8.2</td>\n",
       "      <td>808582.0</td>\n",
       "    </tr>\n",
       "    <tr>\n",
       "      <th>1</th>\n",
       "      <td>Jodie Foster</td>\n",
       "      <td>Iris Steensma</td>\n",
       "      <td>ACTOR</td>\n",
       "      <td>Taxi Driver</td>\n",
       "      <td>MOVIE</td>\n",
       "      <td>1976</td>\n",
       "      <td>['drama', 'crime']</td>\n",
       "      <td>8.2</td>\n",
       "      <td>808582.0</td>\n",
       "    </tr>\n",
       "    <tr>\n",
       "      <th>2</th>\n",
       "      <td>Albert Brooks</td>\n",
       "      <td>Tom</td>\n",
       "      <td>ACTOR</td>\n",
       "      <td>Taxi Driver</td>\n",
       "      <td>MOVIE</td>\n",
       "      <td>1976</td>\n",
       "      <td>['drama', 'crime']</td>\n",
       "      <td>8.2</td>\n",
       "      <td>808582.0</td>\n",
       "    </tr>\n",
       "    <tr>\n",
       "      <th>3</th>\n",
       "      <td>Harvey Keitel</td>\n",
       "      <td>Matthew 'Sport' Higgins</td>\n",
       "      <td>ACTOR</td>\n",
       "      <td>Taxi Driver</td>\n",
       "      <td>MOVIE</td>\n",
       "      <td>1976</td>\n",
       "      <td>['drama', 'crime']</td>\n",
       "      <td>8.2</td>\n",
       "      <td>808582.0</td>\n",
       "    </tr>\n",
       "    <tr>\n",
       "      <th>4</th>\n",
       "      <td>Cybill Shepherd</td>\n",
       "      <td>Betsy</td>\n",
       "      <td>ACTOR</td>\n",
       "      <td>Taxi Driver</td>\n",
       "      <td>MOVIE</td>\n",
       "      <td>1976</td>\n",
       "      <td>['drama', 'crime']</td>\n",
       "      <td>8.2</td>\n",
       "      <td>808582.0</td>\n",
       "    </tr>\n",
       "    <tr>\n",
       "      <th>...</th>\n",
       "      <td>...</td>\n",
       "      <td>...</td>\n",
       "      <td>...</td>\n",
       "      <td>...</td>\n",
       "      <td>...</td>\n",
       "      <td>...</td>\n",
       "      <td>...</td>\n",
       "      <td>...</td>\n",
       "      <td>...</td>\n",
       "    </tr>\n",
       "    <tr>\n",
       "      <th>85573</th>\n",
       "      <td>A??da Morales</td>\n",
       "      <td>Maritza</td>\n",
       "      <td>ACTOR</td>\n",
       "      <td>Lokillo</td>\n",
       "      <td>the movie</td>\n",
       "      <td>2021</td>\n",
       "      <td>['comedy']</td>\n",
       "      <td>3.8</td>\n",
       "      <td>68.0</td>\n",
       "    </tr>\n",
       "    <tr>\n",
       "      <th>85574</th>\n",
       "      <td>Adelaida Buscato</td>\n",
       "      <td>Mar??a Paz</td>\n",
       "      <td>ACTOR</td>\n",
       "      <td>Lokillo</td>\n",
       "      <td>the movie</td>\n",
       "      <td>2021</td>\n",
       "      <td>['comedy']</td>\n",
       "      <td>3.8</td>\n",
       "      <td>68.0</td>\n",
       "    </tr>\n",
       "    <tr>\n",
       "      <th>85575</th>\n",
       "      <td>Luz Stella Luengas</td>\n",
       "      <td>Karen Bayona</td>\n",
       "      <td>ACTOR</td>\n",
       "      <td>Lokillo</td>\n",
       "      <td>the movie</td>\n",
       "      <td>2021</td>\n",
       "      <td>['comedy']</td>\n",
       "      <td>3.8</td>\n",
       "      <td>68.0</td>\n",
       "    </tr>\n",
       "    <tr>\n",
       "      <th>85576</th>\n",
       "      <td>In??s Prieto</td>\n",
       "      <td>Fanny</td>\n",
       "      <td>ACTOR</td>\n",
       "      <td>Lokillo</td>\n",
       "      <td>the movie</td>\n",
       "      <td>2021</td>\n",
       "      <td>['comedy']</td>\n",
       "      <td>3.8</td>\n",
       "      <td>68.0</td>\n",
       "    </tr>\n",
       "    <tr>\n",
       "      <th>85578</th>\n",
       "      <td>Julian Gaviria</td>\n",
       "      <td>unknown</td>\n",
       "      <td>DIRECTOR</td>\n",
       "      <td>Lokillo</td>\n",
       "      <td>the movie</td>\n",
       "      <td>2021</td>\n",
       "      <td>['comedy']</td>\n",
       "      <td>3.8</td>\n",
       "      <td>68.0</td>\n",
       "    </tr>\n",
       "  </tbody>\n",
       "</table>\n",
       "<p>73859 rows × 9 columns</p>\n",
       "</div>"
      ],
      "text/plain": [
       "                     name                character      role        title  \\\n",
       "0          Robert De Niro            Travis Bickle     ACTOR  Taxi Driver   \n",
       "1            Jodie Foster            Iris Steensma     ACTOR  Taxi Driver   \n",
       "2           Albert Brooks                      Tom     ACTOR  Taxi Driver   \n",
       "3           Harvey Keitel  Matthew 'Sport' Higgins     ACTOR  Taxi Driver   \n",
       "4         Cybill Shepherd                    Betsy     ACTOR  Taxi Driver   \n",
       "...                   ...                      ...       ...          ...   \n",
       "85573       A??da Morales                  Maritza     ACTOR      Lokillo   \n",
       "85574    Adelaida Buscato               Mar??a Paz     ACTOR      Lokillo   \n",
       "85575  Luz Stella Luengas             Karen Bayona     ACTOR      Lokillo   \n",
       "85576        In??s Prieto                    Fanny     ACTOR      Lokillo   \n",
       "85578      Julian Gaviria                  unknown  DIRECTOR      Lokillo   \n",
       "\n",
       "            type  release_year              genres  imdb_score  imdb_votes  \n",
       "0          MOVIE          1976  ['drama', 'crime']         8.2    808582.0  \n",
       "1          MOVIE          1976  ['drama', 'crime']         8.2    808582.0  \n",
       "2          MOVIE          1976  ['drama', 'crime']         8.2    808582.0  \n",
       "3          MOVIE          1976  ['drama', 'crime']         8.2    808582.0  \n",
       "4          MOVIE          1976  ['drama', 'crime']         8.2    808582.0  \n",
       "...          ...           ...                 ...         ...         ...  \n",
       "85573  the movie          2021          ['comedy']         3.8        68.0  \n",
       "85574  the movie          2021          ['comedy']         3.8        68.0  \n",
       "85575  the movie          2021          ['comedy']         3.8        68.0  \n",
       "85576  the movie          2021          ['comedy']         3.8        68.0  \n",
       "85578  the movie          2021          ['comedy']         3.8        68.0  \n",
       "\n",
       "[73859 rows x 9 columns]"
      ]
     },
     "execution_count": 13,
     "metadata": {},
     "output_type": "execute_result"
    }
   ],
   "source": [
    "# removing duplicate rows\n",
    "df.drop_duplicates()"
   ]
  },
  {
   "cell_type": "markdown",
   "id": "d97d9096",
   "metadata": {},
   "source": [
    "<div class=\"alert alert-danger\"; style=\"border-left: 7px solid red\">\n",
    "<b>⛔️ Reviewer's comment, v. 1</b> \n",
    "    \n",
    "Not quite right. We just needed to drop all the duplicates in the `df` dataset itself, like:\n",
    "    \n",
    "    df = df.drop_duplicates()"
   ]
  },
  {
   "cell_type": "markdown",
   "id": "8265ec4a",
   "metadata": {},
   "source": [
    "<div class=\"alert alert-danger\"; style=\"border-left: 7px solid red\">\n",
    "<b>⛔️ Reviewer's comment, v. 2</b> \n",
    "    \n",
    "Unfortunately, the duplicates are still not deleted, please use the code above to delete duplicates in the dataset"
   ]
  },
  {
   "cell_type": "markdown",
   "id": "15e08670",
   "metadata": {},
   "source": [
    "<div class=\"alert alert-danger\"; style=\"border-left: 7px solid red\">\n",
    "<b>⛔️ Reviewer's comment, v. 3</b> \n",
    "    \n",
    "Vivian, please pay attention to the code cell below, now all the 6994 remain in the dataset, but we should **remove all of them**. Please us this code to drop all the duplicates:\n",
    "    \n",
    "    df = df.drop_duplicates()"
   ]
  },
  {
   "cell_type": "markdown",
   "id": "fc8c77ba",
   "metadata": {},
   "source": [
    "Check for duplicate rows once more to make sure you have removed all of them:"
   ]
  },
  {
   "cell_type": "code",
   "execution_count": 14,
   "id": "8091a9bc",
   "metadata": {},
   "outputs": [],
   "source": [
    "# checking for duplicates\n",
    "df = df.drop_duplicates()"
   ]
  },
  {
   "cell_type": "markdown",
   "id": "1d802b07",
   "metadata": {},
   "source": [
    "Now get rid of implicit duplicates in the `'type'` column. For example, the string `'SHOW'` can be written in different ways. These kinds of errors will also affect the result."
   ]
  },
  {
   "cell_type": "markdown",
   "id": "d5f987ed",
   "metadata": {},
   "source": [
    "Print a list of unique `'type'` names, sorted in alphabetical order. To do so:\n",
    "* Retrieve the intended dataframe column \n",
    "* Apply a sorting method to it\n",
    "* For the sorted column, call the method that will return all unique column values"
   ]
  },
  {
   "cell_type": "code",
   "execution_count": 15,
   "id": "3d7b0ac5",
   "metadata": {},
   "outputs": [
    {
     "data": {
      "text/plain": [
       "array(['MOVIE', 'SHOW', 'movies', 'shows', 'the movie', 'tv', 'tv series',\n",
       "       'tv show', 'tv shows'], dtype=object)"
      ]
     },
     "execution_count": 15,
     "metadata": {},
     "output_type": "execute_result"
    }
   ],
   "source": [
    "# viewing unique type names\n",
    "df['type'].sort_values().unique()"
   ]
  },
  {
   "cell_type": "markdown",
   "id": "6d5a0210",
   "metadata": {},
   "source": [
    "<div class=\"alert alert-danger\"; style=\"border-left: 7px solid red\">\n",
    "<b>⛔️ Reviewer's comment, v. 1</b> \n",
    "\n",
    "Please note, that according to the technical task it was asked:\n",
    "    \n",
    "* For the **sorted** column, call the method that will return all unique column values\n",
    "    \n",
    "So, we should use sorting here"
   ]
  },
  {
   "cell_type": "markdown",
   "id": "26c27de1",
   "metadata": {},
   "source": [
    "<div class=\"alert alert-success\"; style=\"border-left: 7px solid green\">\n",
    "<b>✅ Reviewer's comment, v. 2</b> \n",
    "    \n",
    "Great!"
   ]
  },
  {
   "cell_type": "markdown",
   "id": "ac6e8b18",
   "metadata": {},
   "source": [
    "Look through the list to find implicit duplicates of `'show'` (`'movie'` duplicates will be ignored since the assumption is about shows). These could be names written incorrectly or alternative names of the same genre.\n",
    "\n",
    "You will see the following implicit duplicates:\n",
    "* `'shows'`\n",
    "* `'SHOW'`\n",
    "* `'tv show'`\n",
    "* `'tv shows'`\n",
    "* `'tv series'`\n",
    "* `'tv'`\n",
    "\n",
    "To get rid of them, declare the function `replace_wrong_show()` with two parameters: \n",
    "* `wrong_shows_list=` — the list of duplicates\n",
    "* `correct_show=` — the string with the correct value\n",
    "\n",
    "The function should correct the names in the `'type'` column from the `df` table (i.e., replace each value from the `wrong_shows_list` list with the value in `correct_show`)."
   ]
  },
  {
   "cell_type": "markdown",
   "id": "bb49e37e",
   "metadata": {},
   "source": [
    "<div class=\"alert alert-danger\"; style=\"border-left: 7px solid red\">\n",
    "<b>⛔️ Reviewer's comment, v. 1</b> \n",
    "\n",
    "Please pay attention, that according to the technical task it was asked:\n",
    "    \n",
    "* declare the **function** replace_wrong_show() with two parameters\n",
    "    \n",
    "So, we should create a **function** here"
   ]
  },
  {
   "cell_type": "markdown",
   "id": "d9c02af9",
   "metadata": {},
   "source": [
    "<div class=\"alert alert-success\"; style=\"border-left: 7px solid green\">\n",
    "<b>✅ Reviewer's comment, v. 2</b> \n",
    "    \n",
    "Very well!"
   ]
  },
  {
   "cell_type": "code",
   "execution_count": 16,
   "id": "bff944f9",
   "metadata": {},
   "outputs": [],
   "source": [
    "# function for replacing implicit duplicates\n",
    "wrong_show_list = ['shows', 'SHOW', 'tv show', 'tv shows', 'tv series', 'tv']\n",
    "correct_show = 'SHOW'\n",
    "\n",
    "def replace_wrong_show(df, wrong_shows_list, correct_show):\n",
    "    for wrong_show in wrong_show_list:\n",
    "        df.loc[df['type'] == wrong_show, 'type'] = correct_show \n",
    "    return df\n",
    "    \n",
    "movies_and_shows = replace_wrong_show(df, wrong_show_list, correct_show)"
   ]
  },
  {
   "cell_type": "markdown",
   "id": "d02d13a6",
   "metadata": {},
   "source": [
    "Call `replace_wrong_show()` and pass it arguments so that it clears implicit duplicates and replaces them with `SHOW`:"
   ]
  },
  {
   "cell_type": "code",
   "execution_count": 17,
   "id": "a2217e53",
   "metadata": {},
   "outputs": [
    {
     "name": "stdout",
     "output_type": "stream",
     "text": [
      "                     name                character      role        title  \\\n",
      "0          Robert De Niro            Travis Bickle     ACTOR  Taxi Driver   \n",
      "1            Jodie Foster            Iris Steensma     ACTOR  Taxi Driver   \n",
      "2           Albert Brooks                      Tom     ACTOR  Taxi Driver   \n",
      "3           Harvey Keitel  Matthew 'Sport' Higgins     ACTOR  Taxi Driver   \n",
      "4         Cybill Shepherd                    Betsy     ACTOR  Taxi Driver   \n",
      "...                   ...                      ...       ...          ...   \n",
      "85573       A??da Morales                  Maritza     ACTOR      Lokillo   \n",
      "85574    Adelaida Buscato               Mar??a Paz     ACTOR      Lokillo   \n",
      "85575  Luz Stella Luengas             Karen Bayona     ACTOR      Lokillo   \n",
      "85576        In??s Prieto                    Fanny     ACTOR      Lokillo   \n",
      "85578      Julian Gaviria                  unknown  DIRECTOR      Lokillo   \n",
      "\n",
      "            type  release_year              genres  imdb_score  imdb_votes  \n",
      "0          MOVIE          1976  ['drama', 'crime']         8.2    808582.0  \n",
      "1          MOVIE          1976  ['drama', 'crime']         8.2    808582.0  \n",
      "2          MOVIE          1976  ['drama', 'crime']         8.2    808582.0  \n",
      "3          MOVIE          1976  ['drama', 'crime']         8.2    808582.0  \n",
      "4          MOVIE          1976  ['drama', 'crime']         8.2    808582.0  \n",
      "...          ...           ...                 ...         ...         ...  \n",
      "85573  the movie          2021          ['comedy']         3.8        68.0  \n",
      "85574  the movie          2021          ['comedy']         3.8        68.0  \n",
      "85575  the movie          2021          ['comedy']         3.8        68.0  \n",
      "85576  the movie          2021          ['comedy']         3.8        68.0  \n",
      "85578  the movie          2021          ['comedy']         3.8        68.0  \n",
      "\n",
      "[73859 rows x 9 columns]\n"
     ]
    }
   ],
   "source": [
    "# removing implicit duplicates\n",
    "print(movies_and_shows)"
   ]
  },
  {
   "cell_type": "markdown",
   "id": "318b09f7",
   "metadata": {},
   "source": [
    "Make sure the duplicate names are removed. Print the list of unique values from the `'type'` column:"
   ]
  },
  {
   "cell_type": "code",
   "execution_count": 18,
   "id": "25d49d73",
   "metadata": {},
   "outputs": [
    {
     "data": {
      "text/plain": [
       "array(['MOVIE', 'SHOW', 'movies', 'the movie'], dtype=object)"
      ]
     },
     "execution_count": 18,
     "metadata": {},
     "output_type": "execute_result"
    }
   ],
   "source": [
    "# viewing unique genre names\n",
    "df['type'].sort_values().unique()"
   ]
  },
  {
   "cell_type": "markdown",
   "id": "18b2049e",
   "metadata": {},
   "source": [
    "### Conclusions <a id='data_preprocessing_conclusions'></a>\n",
    "We detected three issues with the data:\n",
    "\n",
    "- Incorrect header styles\n",
    "- Missing values\n",
    "- Duplicate rows and implicit duplicates\n",
    "\n",
    "The headers have been cleaned up to make processing the table simpler.\n",
    "\n",
    "All rows with missing values have been removed. \n",
    "\n",
    "The absence of duplicates will make the results more precise and easier to understand.\n",
    "\n",
    "Now we can move on to our analysis of the prepared data."
   ]
  },
  {
   "cell_type": "markdown",
   "id": "1aa0f1b1",
   "metadata": {},
   "source": [
    "## Stage 3. Data analysis <a id='hypotheses'></a>"
   ]
  },
  {
   "cell_type": "markdown",
   "id": "f8fb6a0e",
   "metadata": {},
   "source": [
    "Based on the previous project stages, you can now define how the assumption will be checked. Calculate the average amount of votes for each score (this data is available in the `imdb_score` and `imdb_votes` columns), and then check how these averages relate to each other. If the averages for shows with the highest scores are bigger than those for shows with lower scores, the assumption appears to be true.\n",
    "\n",
    "Based on this, complete the following steps:\n",
    "\n",
    "- Filter the dataframe to only include shows released in 1999 or later.\n",
    "- Group scores into buckets by rounding the values of the appropriate column (a set of 1-10 integers will help us make the outcome of our calculations more evident without damaging the quality of our research).\n",
    "- Identify outliers among scores based on their number of votes, and exclude scores with few votes.\n",
    "- Calculate the average votes for each score and check whether the assumption matches the results."
   ]
  },
  {
   "cell_type": "markdown",
   "id": "0ea2cb51",
   "metadata": {},
   "source": [
    "To filter the dataframe and only include shows released in 1999 or later, you will take two steps. First, keep only titles published in 1999 or later in our dataframe. Then, filter the table to only contain shows (movies will be removed)."
   ]
  },
  {
   "cell_type": "markdown",
   "id": "8c5e7911",
   "metadata": {},
   "source": [
    "<div class=\"alert alert-danger\"; style=\"border-left: 7px solid red\">\n",
    "<b>⛔️ Reviewer's comment, v. 1</b> \n",
    "    \n",
    "Unfortunately, the code below cannot be executed and it crashes with an error. Please check its correctness"
   ]
  },
  {
   "cell_type": "markdown",
   "id": "fa35329b",
   "metadata": {},
   "source": [
    "<div class=\"alert alert-success\"; style=\"border-left: 7px solid green\">\n",
    "<b>✅ Reviewer's comment, v. 2</b> \n",
    "\n",
    "Now the code works as it should!"
   ]
  },
  {
   "cell_type": "code",
   "execution_count": 19,
   "id": "6a704aa1",
   "metadata": {},
   "outputs": [
    {
     "data": {
      "text/html": [
       "<div>\n",
       "<style scoped>\n",
       "    .dataframe tbody tr th:only-of-type {\n",
       "        vertical-align: middle;\n",
       "    }\n",
       "\n",
       "    .dataframe tbody tr th {\n",
       "        vertical-align: top;\n",
       "    }\n",
       "\n",
       "    .dataframe thead th {\n",
       "        text-align: right;\n",
       "    }\n",
       "</style>\n",
       "<table border=\"1\" class=\"dataframe\">\n",
       "  <thead>\n",
       "    <tr style=\"text-align: right;\">\n",
       "      <th></th>\n",
       "      <th>name</th>\n",
       "      <th>character</th>\n",
       "      <th>role</th>\n",
       "      <th>title</th>\n",
       "      <th>type</th>\n",
       "      <th>release_year</th>\n",
       "      <th>genres</th>\n",
       "      <th>imdb_score</th>\n",
       "      <th>imdb_votes</th>\n",
       "    </tr>\n",
       "  </thead>\n",
       "  <tbody>\n",
       "    <tr>\n",
       "      <th>1664</th>\n",
       "      <td>Jeff Probst</td>\n",
       "      <td>Himself - Host</td>\n",
       "      <td>ACTOR</td>\n",
       "      <td>Survivor</td>\n",
       "      <td>SHOW</td>\n",
       "      <td>2000</td>\n",
       "      <td>['reality']</td>\n",
       "      <td>7.4</td>\n",
       "      <td>24687.0</td>\n",
       "    </tr>\n",
       "    <tr>\n",
       "      <th>2076</th>\n",
       "      <td>Mayumi Tanaka</td>\n",
       "      <td>Monkey D. Luffy (voice)</td>\n",
       "      <td>ACTOR</td>\n",
       "      <td>One Piece</td>\n",
       "      <td>SHOW</td>\n",
       "      <td>1999</td>\n",
       "      <td>['animation', 'action', 'comedy', 'drama', 'fa...</td>\n",
       "      <td>8.8</td>\n",
       "      <td>117129.0</td>\n",
       "    </tr>\n",
       "    <tr>\n",
       "      <th>2077</th>\n",
       "      <td>Kazuya Nakai</td>\n",
       "      <td>Roronoa Zoro (voice)</td>\n",
       "      <td>ACTOR</td>\n",
       "      <td>One Piece</td>\n",
       "      <td>SHOW</td>\n",
       "      <td>1999</td>\n",
       "      <td>['animation', 'action', 'comedy', 'drama', 'fa...</td>\n",
       "      <td>8.8</td>\n",
       "      <td>117129.0</td>\n",
       "    </tr>\n",
       "    <tr>\n",
       "      <th>2078</th>\n",
       "      <td>Akemi Okamura</td>\n",
       "      <td>Nami (voice)</td>\n",
       "      <td>ACTOR</td>\n",
       "      <td>One Piece</td>\n",
       "      <td>SHOW</td>\n",
       "      <td>1999</td>\n",
       "      <td>['animation', 'action', 'comedy', 'drama', 'fa...</td>\n",
       "      <td>8.8</td>\n",
       "      <td>117129.0</td>\n",
       "    </tr>\n",
       "    <tr>\n",
       "      <th>2079</th>\n",
       "      <td>Kappei Yamaguchi</td>\n",
       "      <td>Usopp (voice)</td>\n",
       "      <td>ACTOR</td>\n",
       "      <td>One Piece</td>\n",
       "      <td>SHOW</td>\n",
       "      <td>1999</td>\n",
       "      <td>['animation', 'action', 'comedy', 'drama', 'fa...</td>\n",
       "      <td>8.8</td>\n",
       "      <td>117129.0</td>\n",
       "    </tr>\n",
       "    <tr>\n",
       "      <th>...</th>\n",
       "      <td>...</td>\n",
       "      <td>...</td>\n",
       "      <td>...</td>\n",
       "      <td>...</td>\n",
       "      <td>...</td>\n",
       "      <td>...</td>\n",
       "      <td>...</td>\n",
       "      <td>...</td>\n",
       "      <td>...</td>\n",
       "    </tr>\n",
       "    <tr>\n",
       "      <th>85433</th>\n",
       "      <td>Maneerat Kam-Uan</td>\n",
       "      <td>Ae</td>\n",
       "      <td>ACTOR</td>\n",
       "      <td>Let's Eat</td>\n",
       "      <td>SHOW</td>\n",
       "      <td>2021</td>\n",
       "      <td>['drama', 'comedy']</td>\n",
       "      <td>8.2</td>\n",
       "      <td>5.0</td>\n",
       "    </tr>\n",
       "    <tr>\n",
       "      <th>85434</th>\n",
       "      <td>Rudklao Amratisha</td>\n",
       "      <td>unknown</td>\n",
       "      <td>ACTOR</td>\n",
       "      <td>Let's Eat</td>\n",
       "      <td>SHOW</td>\n",
       "      <td>2021</td>\n",
       "      <td>['drama', 'comedy']</td>\n",
       "      <td>8.2</td>\n",
       "      <td>5.0</td>\n",
       "    </tr>\n",
       "    <tr>\n",
       "      <th>85435</th>\n",
       "      <td>Jaturong Mokjok</td>\n",
       "      <td>unknown</td>\n",
       "      <td>ACTOR</td>\n",
       "      <td>Let's Eat</td>\n",
       "      <td>SHOW</td>\n",
       "      <td>2021</td>\n",
       "      <td>['drama', 'comedy']</td>\n",
       "      <td>8.2</td>\n",
       "      <td>5.0</td>\n",
       "    </tr>\n",
       "    <tr>\n",
       "      <th>85436</th>\n",
       "      <td>Pisamai Wilaisak</td>\n",
       "      <td>unknown</td>\n",
       "      <td>ACTOR</td>\n",
       "      <td>Let's Eat</td>\n",
       "      <td>SHOW</td>\n",
       "      <td>2021</td>\n",
       "      <td>['drama', 'comedy']</td>\n",
       "      <td>8.2</td>\n",
       "      <td>5.0</td>\n",
       "    </tr>\n",
       "    <tr>\n",
       "      <th>85437</th>\n",
       "      <td>Sarawut Wichiensarn</td>\n",
       "      <td>unknown</td>\n",
       "      <td>DIRECTOR</td>\n",
       "      <td>Let's Eat</td>\n",
       "      <td>SHOW</td>\n",
       "      <td>2021</td>\n",
       "      <td>['drama', 'comedy']</td>\n",
       "      <td>8.2</td>\n",
       "      <td>5.0</td>\n",
       "    </tr>\n",
       "  </tbody>\n",
       "</table>\n",
       "<p>13430 rows × 9 columns</p>\n",
       "</div>"
      ],
      "text/plain": [
       "                      name                character      role      title  \\\n",
       "1664           Jeff Probst           Himself - Host     ACTOR   Survivor   \n",
       "2076         Mayumi Tanaka  Monkey D. Luffy (voice)     ACTOR  One Piece   \n",
       "2077          Kazuya Nakai     Roronoa Zoro (voice)     ACTOR  One Piece   \n",
       "2078         Akemi Okamura             Nami (voice)     ACTOR  One Piece   \n",
       "2079      Kappei Yamaguchi            Usopp (voice)     ACTOR  One Piece   \n",
       "...                    ...                      ...       ...        ...   \n",
       "85433     Maneerat Kam-Uan                       Ae     ACTOR  Let's Eat   \n",
       "85434    Rudklao Amratisha                  unknown     ACTOR  Let's Eat   \n",
       "85435      Jaturong Mokjok                  unknown     ACTOR  Let's Eat   \n",
       "85436     Pisamai Wilaisak                  unknown     ACTOR  Let's Eat   \n",
       "85437  Sarawut Wichiensarn                  unknown  DIRECTOR  Let's Eat   \n",
       "\n",
       "       type  release_year                                             genres  \\\n",
       "1664   SHOW          2000                                        ['reality']   \n",
       "2076   SHOW          1999  ['animation', 'action', 'comedy', 'drama', 'fa...   \n",
       "2077   SHOW          1999  ['animation', 'action', 'comedy', 'drama', 'fa...   \n",
       "2078   SHOW          1999  ['animation', 'action', 'comedy', 'drama', 'fa...   \n",
       "2079   SHOW          1999  ['animation', 'action', 'comedy', 'drama', 'fa...   \n",
       "...     ...           ...                                                ...   \n",
       "85433  SHOW          2021                                ['drama', 'comedy']   \n",
       "85434  SHOW          2021                                ['drama', 'comedy']   \n",
       "85435  SHOW          2021                                ['drama', 'comedy']   \n",
       "85436  SHOW          2021                                ['drama', 'comedy']   \n",
       "85437  SHOW          2021                                ['drama', 'comedy']   \n",
       "\n",
       "       imdb_score  imdb_votes  \n",
       "1664          7.4     24687.0  \n",
       "2076          8.8    117129.0  \n",
       "2077          8.8    117129.0  \n",
       "2078          8.8    117129.0  \n",
       "2079          8.8    117129.0  \n",
       "...           ...         ...  \n",
       "85433         8.2         5.0  \n",
       "85434         8.2         5.0  \n",
       "85435         8.2         5.0  \n",
       "85436         8.2         5.0  \n",
       "85437         8.2         5.0  \n",
       "\n",
       "[13430 rows x 9 columns]"
      ]
     },
     "execution_count": 19,
     "metadata": {},
     "output_type": "execute_result"
    }
   ],
   "source": [
    "# using conditional indexing modify df so it has only titles released after 1999 (with 1999 included)\n",
    "# give the slice of dataframe new name\n",
    "\n",
    "filtered = df[(df['release_year'] >= 1999) & (df['type'] == 'SHOW')]\n",
    "filtered"
   ]
  },
  {
   "cell_type": "markdown",
   "id": "9648040c",
   "metadata": {},
   "source": [
    "The scores that are to be grouped should be rounded. For instance, titles with scores like 7.8, 8.1, and 8.3 will all be placed in the same bucket with a score of 8."
   ]
  },
  {
   "cell_type": "code",
   "execution_count": 20,
   "id": "54bbd5c0",
   "metadata": {},
   "outputs": [
    {
     "name": "stderr",
     "output_type": "stream",
     "text": [
      "/tmp/ipykernel_51/2790141854.py:2: SettingWithCopyWarning: \n",
      "A value is trying to be set on a copy of a slice from a DataFrame.\n",
      "Try using .loc[row_indexer,col_indexer] = value instead\n",
      "\n",
      "See the caveats in the documentation: https://pandas.pydata.org/pandas-docs/stable/user_guide/indexing.html#returning-a-view-versus-a-copy\n",
      "  filtered['imdb_score'] = filtered['imdb_score'].round()\n"
     ]
    },
    {
     "data": {
      "text/html": [
       "<div>\n",
       "<style scoped>\n",
       "    .dataframe tbody tr th:only-of-type {\n",
       "        vertical-align: middle;\n",
       "    }\n",
       "\n",
       "    .dataframe tbody tr th {\n",
       "        vertical-align: top;\n",
       "    }\n",
       "\n",
       "    .dataframe thead th {\n",
       "        text-align: right;\n",
       "    }\n",
       "</style>\n",
       "<table border=\"1\" class=\"dataframe\">\n",
       "  <thead>\n",
       "    <tr style=\"text-align: right;\">\n",
       "      <th></th>\n",
       "      <th>name</th>\n",
       "      <th>character</th>\n",
       "      <th>role</th>\n",
       "      <th>title</th>\n",
       "      <th>type</th>\n",
       "      <th>release_year</th>\n",
       "      <th>genres</th>\n",
       "      <th>imdb_score</th>\n",
       "      <th>imdb_votes</th>\n",
       "    </tr>\n",
       "  </thead>\n",
       "  <tbody>\n",
       "    <tr>\n",
       "      <th>85433</th>\n",
       "      <td>Maneerat Kam-Uan</td>\n",
       "      <td>Ae</td>\n",
       "      <td>ACTOR</td>\n",
       "      <td>Let's Eat</td>\n",
       "      <td>SHOW</td>\n",
       "      <td>2021</td>\n",
       "      <td>['drama', 'comedy']</td>\n",
       "      <td>8.0</td>\n",
       "      <td>5.0</td>\n",
       "    </tr>\n",
       "    <tr>\n",
       "      <th>85434</th>\n",
       "      <td>Rudklao Amratisha</td>\n",
       "      <td>unknown</td>\n",
       "      <td>ACTOR</td>\n",
       "      <td>Let's Eat</td>\n",
       "      <td>SHOW</td>\n",
       "      <td>2021</td>\n",
       "      <td>['drama', 'comedy']</td>\n",
       "      <td>8.0</td>\n",
       "      <td>5.0</td>\n",
       "    </tr>\n",
       "    <tr>\n",
       "      <th>85435</th>\n",
       "      <td>Jaturong Mokjok</td>\n",
       "      <td>unknown</td>\n",
       "      <td>ACTOR</td>\n",
       "      <td>Let's Eat</td>\n",
       "      <td>SHOW</td>\n",
       "      <td>2021</td>\n",
       "      <td>['drama', 'comedy']</td>\n",
       "      <td>8.0</td>\n",
       "      <td>5.0</td>\n",
       "    </tr>\n",
       "    <tr>\n",
       "      <th>85436</th>\n",
       "      <td>Pisamai Wilaisak</td>\n",
       "      <td>unknown</td>\n",
       "      <td>ACTOR</td>\n",
       "      <td>Let's Eat</td>\n",
       "      <td>SHOW</td>\n",
       "      <td>2021</td>\n",
       "      <td>['drama', 'comedy']</td>\n",
       "      <td>8.0</td>\n",
       "      <td>5.0</td>\n",
       "    </tr>\n",
       "    <tr>\n",
       "      <th>85437</th>\n",
       "      <td>Sarawut Wichiensarn</td>\n",
       "      <td>unknown</td>\n",
       "      <td>DIRECTOR</td>\n",
       "      <td>Let's Eat</td>\n",
       "      <td>SHOW</td>\n",
       "      <td>2021</td>\n",
       "      <td>['drama', 'comedy']</td>\n",
       "      <td>8.0</td>\n",
       "      <td>5.0</td>\n",
       "    </tr>\n",
       "  </tbody>\n",
       "</table>\n",
       "</div>"
      ],
      "text/plain": [
       "                      name character      role      title  type  release_year  \\\n",
       "85433     Maneerat Kam-Uan        Ae     ACTOR  Let's Eat  SHOW          2021   \n",
       "85434    Rudklao Amratisha   unknown     ACTOR  Let's Eat  SHOW          2021   \n",
       "85435      Jaturong Mokjok   unknown     ACTOR  Let's Eat  SHOW          2021   \n",
       "85436     Pisamai Wilaisak   unknown     ACTOR  Let's Eat  SHOW          2021   \n",
       "85437  Sarawut Wichiensarn   unknown  DIRECTOR  Let's Eat  SHOW          2021   \n",
       "\n",
       "                    genres  imdb_score  imdb_votes  \n",
       "85433  ['drama', 'comedy']         8.0         5.0  \n",
       "85434  ['drama', 'comedy']         8.0         5.0  \n",
       "85435  ['drama', 'comedy']         8.0         5.0  \n",
       "85436  ['drama', 'comedy']         8.0         5.0  \n",
       "85437  ['drama', 'comedy']         8.0         5.0  "
      ]
     },
     "execution_count": 20,
     "metadata": {},
     "output_type": "execute_result"
    }
   ],
   "source": [
    "# rounding column with scores\n",
    "filtered['imdb_score'] = filtered['imdb_score'].round()\n",
    "\n",
    "#checking the outcome with tail()\n",
    "filtered.tail()"
   ]
  },
  {
   "cell_type": "markdown",
   "id": "36dbd00a",
   "metadata": {},
   "source": [
    "It is now time to identify outliers based on the number of votes."
   ]
  },
  {
   "cell_type": "code",
   "execution_count": 21,
   "id": "b8b55e95",
   "metadata": {},
   "outputs": [
    {
     "data": {
      "text/plain": [
       "imdb_score\n",
       "2.0       24\n",
       "3.0       27\n",
       "4.0      180\n",
       "5.0      592\n",
       "6.0     2494\n",
       "7.0     4706\n",
       "8.0     4842\n",
       "9.0      557\n",
       "10.0       8\n",
       "dtype: int64"
      ]
     },
     "execution_count": 21,
     "metadata": {},
     "output_type": "execute_result"
    }
   ],
   "source": [
    "# Use groupby() for scores and count all unique values in each group, print the result\n",
    "scores = filtered.groupby('imdb_score').size()\n",
    "scores"
   ]
  },
  {
   "cell_type": "markdown",
   "id": "d68efe40",
   "metadata": {},
   "source": [
    "<div class=\"alert alert-success\"; style=\"border-left: 7px solid green\">\n",
    "<b>✅ Reviewer's comment, v. 1</b> \n",
    "    \n",
    "The dataframe was filtered and grouped flawlessly, but the result will change after removing the duplicates"
   ]
  },
  {
   "cell_type": "markdown",
   "id": "1ba6daae",
   "metadata": {},
   "source": [
    "Based on the aggregation performed, it is evident that scores 2 (24 voted shows), 3 (27 voted shows), and 10 (only 8 voted shows) are outliers. There isn't enough data for these scores for the average number of votes to be meaningful."
   ]
  },
  {
   "cell_type": "markdown",
   "id": "bd468c46",
   "metadata": {},
   "source": [
    "To obtain the mean numbers of votes for the selected scores (we identified a range of 4-9 as acceptable), use conditional filtering and grouping."
   ]
  },
  {
   "cell_type": "code",
   "execution_count": 22,
   "id": "d1867e0e",
   "metadata": {},
   "outputs": [
    {
     "data": {
      "text/html": [
       "<div>\n",
       "<style scoped>\n",
       "    .dataframe tbody tr th:only-of-type {\n",
       "        vertical-align: middle;\n",
       "    }\n",
       "\n",
       "    .dataframe tbody tr th {\n",
       "        vertical-align: top;\n",
       "    }\n",
       "\n",
       "    .dataframe thead th {\n",
       "        text-align: right;\n",
       "    }\n",
       "</style>\n",
       "<table border=\"1\" class=\"dataframe\">\n",
       "  <thead>\n",
       "    <tr style=\"text-align: right;\">\n",
       "      <th></th>\n",
       "      <th>imdb_score</th>\n",
       "      <th>release_year</th>\n",
       "      <th>imdb_votes</th>\n",
       "    </tr>\n",
       "  </thead>\n",
       "  <tbody>\n",
       "    <tr>\n",
       "      <th>0</th>\n",
       "      <td>4.0</td>\n",
       "      <td>2018.072222</td>\n",
       "      <td>5277.583333</td>\n",
       "    </tr>\n",
       "    <tr>\n",
       "      <th>1</th>\n",
       "      <td>5.0</td>\n",
       "      <td>2018.881757</td>\n",
       "      <td>3143.942568</td>\n",
       "    </tr>\n",
       "    <tr>\n",
       "      <th>2</th>\n",
       "      <td>6.0</td>\n",
       "      <td>2018.627506</td>\n",
       "      <td>3481.717322</td>\n",
       "    </tr>\n",
       "    <tr>\n",
       "      <th>3</th>\n",
       "      <td>7.0</td>\n",
       "      <td>2018.061411</td>\n",
       "      <td>8727.068211</td>\n",
       "    </tr>\n",
       "    <tr>\n",
       "      <th>4</th>\n",
       "      <td>8.0</td>\n",
       "      <td>2017.120611</td>\n",
       "      <td>30299.460967</td>\n",
       "    </tr>\n",
       "    <tr>\n",
       "      <th>5</th>\n",
       "      <td>9.0</td>\n",
       "      <td>2015.287253</td>\n",
       "      <td>126904.109515</td>\n",
       "    </tr>\n",
       "  </tbody>\n",
       "</table>\n",
       "</div>"
      ],
      "text/plain": [
       "   imdb_score  release_year     imdb_votes\n",
       "0         4.0   2018.072222    5277.583333\n",
       "1         5.0   2018.881757    3143.942568\n",
       "2         6.0   2018.627506    3481.717322\n",
       "3         7.0   2018.061411    8727.068211\n",
       "4         8.0   2017.120611   30299.460967\n",
       "5         9.0   2015.287253  126904.109515"
      ]
     },
     "execution_count": 22,
     "metadata": {},
     "output_type": "execute_result"
    }
   ],
   "source": [
    "# filter dataframe using two conditions (scores to be in the range 4-9)\n",
    "scores = filtered[(filtered['imdb_score'] >= 4) & (filtered['imdb_score'] <= 9)]\n",
    "\n",
    "# group scores and corresponding average number of votes, reset index and print the result\n",
    "average_votes = scores.groupby('imdb_score').mean().reset_index()\n",
    "average_votes"
   ]
  },
  {
   "cell_type": "markdown",
   "id": "96a66d14",
   "metadata": {},
   "source": [
    "Now for the final step! Round the column with the averages, rename both columns, and print the dataframe in descending order."
   ]
  },
  {
   "cell_type": "code",
   "execution_count": 23,
   "id": "5999051b",
   "metadata": {},
   "outputs": [
    {
     "data": {
      "text/html": [
       "<div>\n",
       "<style scoped>\n",
       "    .dataframe tbody tr th:only-of-type {\n",
       "        vertical-align: middle;\n",
       "    }\n",
       "\n",
       "    .dataframe tbody tr th {\n",
       "        vertical-align: top;\n",
       "    }\n",
       "\n",
       "    .dataframe thead th {\n",
       "        text-align: right;\n",
       "    }\n",
       "</style>\n",
       "<table border=\"1\" class=\"dataframe\">\n",
       "  <thead>\n",
       "    <tr style=\"text-align: right;\">\n",
       "      <th></th>\n",
       "      <th>imdb_score</th>\n",
       "      <th>release_year</th>\n",
       "      <th>average_votes</th>\n",
       "    </tr>\n",
       "  </thead>\n",
       "  <tbody>\n",
       "    <tr>\n",
       "      <th>5</th>\n",
       "      <td>9.0</td>\n",
       "      <td>2015.0</td>\n",
       "      <td>126904.0</td>\n",
       "    </tr>\n",
       "    <tr>\n",
       "      <th>4</th>\n",
       "      <td>8.0</td>\n",
       "      <td>2017.0</td>\n",
       "      <td>30299.0</td>\n",
       "    </tr>\n",
       "    <tr>\n",
       "      <th>3</th>\n",
       "      <td>7.0</td>\n",
       "      <td>2018.0</td>\n",
       "      <td>8727.0</td>\n",
       "    </tr>\n",
       "    <tr>\n",
       "      <th>0</th>\n",
       "      <td>4.0</td>\n",
       "      <td>2018.0</td>\n",
       "      <td>5278.0</td>\n",
       "    </tr>\n",
       "    <tr>\n",
       "      <th>2</th>\n",
       "      <td>6.0</td>\n",
       "      <td>2019.0</td>\n",
       "      <td>3482.0</td>\n",
       "    </tr>\n",
       "    <tr>\n",
       "      <th>1</th>\n",
       "      <td>5.0</td>\n",
       "      <td>2019.0</td>\n",
       "      <td>3144.0</td>\n",
       "    </tr>\n",
       "  </tbody>\n",
       "</table>\n",
       "</div>"
      ],
      "text/plain": [
       "   imdb_score  release_year  average_votes\n",
       "5         9.0        2015.0       126904.0\n",
       "4         8.0        2017.0        30299.0\n",
       "3         7.0        2018.0         8727.0\n",
       "0         4.0        2018.0         5278.0\n",
       "2         6.0        2019.0         3482.0\n",
       "1         5.0        2019.0         3144.0"
      ]
     },
     "execution_count": 23,
     "metadata": {},
     "output_type": "execute_result"
    }
   ],
   "source": [
    "# round column with averages\n",
    "average_votes = average_votes.round(0)\n",
    "\n",
    "# rename columns\n",
    "average_votes.rename(columns={'imdb_votes': 'average_votes'}, inplace=True)\n",
    "\n",
    "# print dataframe in descending order\n",
    "average_votes = average_votes.sort_values(by='average_votes', ascending=False)\n",
    "average_votes"
   ]
  },
  {
   "cell_type": "markdown",
   "id": "6399e727",
   "metadata": {},
   "source": [
    "<div class=\"alert alert-success\"; style=\"border-left: 7px solid green\">\n",
    "<b>✅ Reviewer's comment, v. 2</b> \n",
    "    \n",
    "Great! Also correct rounding and grouping in this section"
   ]
  },
  {
   "cell_type": "markdown",
   "id": "af07386d",
   "metadata": {},
   "source": [
    "The assumption macthes the analysis: the shows with the top 3 scores have the most amounts of votes."
   ]
  },
  {
   "cell_type": "markdown",
   "id": "84e29a37",
   "metadata": {},
   "source": [
    "## Conclusion <a id='hypotheses'></a>"
   ]
  },
  {
   "cell_type": "markdown",
   "id": "984766a3",
   "metadata": {},
   "source": [
    "The research done confirms that highly-rated shows released during the \"Golden Age\" of television also have the most votes. While shows with score 4 have more votes than ones with scores 5 and 6, the top three (scores 7-9) have the largest number. The data studied represents around 94% of the original set, so we can be confident in our findings."
   ]
  }
 ],
 "metadata": {
  "ExecuteTimeLog": [
   {
    "duration": 155,
    "start_time": "2024-12-04T02:25:54.096Z"
   },
   {
    "duration": 11,
    "start_time": "2024-12-04T02:26:17.051Z"
   },
   {
    "duration": 4,
    "start_time": "2024-12-04T02:26:28.602Z"
   },
   {
    "duration": 315,
    "start_time": "2024-12-04T02:26:34.752Z"
   },
   {
    "duration": 136,
    "start_time": "2024-12-04T02:26:40.063Z"
   },
   {
    "duration": 7,
    "start_time": "2024-12-04T02:26:56.244Z"
   },
   {
    "duration": 14,
    "start_time": "2024-12-04T02:27:12.604Z"
   },
   {
    "duration": 23,
    "start_time": "2024-12-04T02:28:11.039Z"
   },
   {
    "duration": 397,
    "start_time": "2024-12-04T02:35:18.117Z"
   },
   {
    "duration": 3,
    "start_time": "2024-12-04T02:37:06.112Z"
   },
   {
    "duration": 7,
    "start_time": "2024-12-04T02:43:49.746Z"
   },
   {
    "duration": 3,
    "start_time": "2024-12-04T02:44:10.632Z"
   },
   {
    "duration": 4,
    "start_time": "2024-12-04T02:44:47.465Z"
   },
   {
    "duration": 9,
    "start_time": "2024-12-04T02:45:19.071Z"
   },
   {
    "duration": 3,
    "start_time": "2024-12-04T02:45:22.127Z"
   },
   {
    "duration": 4,
    "start_time": "2024-12-04T02:45:56.305Z"
   },
   {
    "duration": 3,
    "start_time": "2024-12-04T02:46:02.666Z"
   },
   {
    "duration": 4,
    "start_time": "2024-12-04T02:46:25.471Z"
   },
   {
    "duration": 4,
    "start_time": "2024-12-04T02:47:18.236Z"
   },
   {
    "duration": 8,
    "start_time": "2024-12-04T02:47:48.357Z"
   },
   {
    "duration": 4,
    "start_time": "2024-12-04T02:47:50.549Z"
   },
   {
    "duration": 19,
    "start_time": "2024-12-04T02:49:44.097Z"
   },
   {
    "duration": 28,
    "start_time": "2024-12-04T02:51:16.137Z"
   },
   {
    "duration": 32,
    "start_time": "2024-12-04T02:51:31.267Z"
   },
   {
    "duration": 16,
    "start_time": "2024-12-04T02:51:51.546Z"
   },
   {
    "duration": 20,
    "start_time": "2024-12-04T02:51:55.002Z"
   },
   {
    "duration": 17,
    "start_time": "2024-12-04T02:51:57.864Z"
   },
   {
    "duration": 32,
    "start_time": "2024-12-04T02:52:56.922Z"
   },
   {
    "duration": 40,
    "start_time": "2024-12-04T02:54:15.860Z"
   },
   {
    "duration": 60,
    "start_time": "2024-12-04T02:56:25.896Z"
   },
   {
    "duration": 159,
    "start_time": "2024-12-04T02:56:37.072Z"
   },
   {
    "duration": 37,
    "start_time": "2024-12-04T02:56:49.317Z"
   },
   {
    "duration": 39,
    "start_time": "2024-12-04T02:57:34.668Z"
   },
   {
    "duration": 41,
    "start_time": "2024-12-04T03:00:23.408Z"
   },
   {
    "duration": 34,
    "start_time": "2024-12-04T03:00:43.251Z"
   },
   {
    "duration": 13,
    "start_time": "2024-12-04T03:03:11.193Z"
   },
   {
    "duration": 31,
    "start_time": "2024-12-04T03:03:18.852Z"
   },
   {
    "duration": 72,
    "start_time": "2024-12-04T03:03:44.676Z"
   },
   {
    "duration": 5,
    "start_time": "2024-12-04T03:03:53.189Z"
   },
   {
    "duration": 4,
    "start_time": "2024-12-04T03:03:58.886Z"
   },
   {
    "duration": 38,
    "start_time": "2024-12-04T03:04:03.770Z"
   },
   {
    "duration": 35,
    "start_time": "2024-12-04T03:04:09.815Z"
   },
   {
    "duration": 41,
    "start_time": "2024-12-04T03:05:01.873Z"
   },
   {
    "duration": 35,
    "start_time": "2024-12-04T03:05:52.498Z"
   },
   {
    "duration": 32,
    "start_time": "2024-12-04T03:08:22.146Z"
   },
   {
    "duration": 11,
    "start_time": "2024-12-04T03:08:49.744Z"
   },
   {
    "duration": 12,
    "start_time": "2024-12-04T03:08:54.004Z"
   },
   {
    "duration": 11,
    "start_time": "2024-12-04T03:09:02.343Z"
   },
   {
    "duration": 31,
    "start_time": "2024-12-04T03:09:15.762Z"
   },
   {
    "duration": 66,
    "start_time": "2024-12-04T03:12:32.703Z"
   },
   {
    "duration": 34,
    "start_time": "2024-12-04T03:13:33.364Z"
   },
   {
    "duration": 82,
    "start_time": "2024-12-04T03:14:00.964Z"
   },
   {
    "duration": 6,
    "start_time": "2024-12-04T03:14:26.808Z"
   },
   {
    "duration": 4,
    "start_time": "2024-12-04T03:14:31.876Z"
   },
   {
    "duration": 8,
    "start_time": "2024-12-04T03:14:53.393Z"
   },
   {
    "duration": 4,
    "start_time": "2024-12-04T03:14:55.488Z"
   },
   {
    "duration": 3,
    "start_time": "2024-12-04T03:15:07.316Z"
   },
   {
    "duration": 5,
    "start_time": "2024-12-04T03:15:35.724Z"
   },
   {
    "duration": 4,
    "start_time": "2024-12-04T03:15:38.608Z"
   },
   {
    "duration": 6,
    "start_time": "2024-12-04T03:15:54.658Z"
   },
   {
    "duration": 4,
    "start_time": "2024-12-04T03:16:32.097Z"
   },
   {
    "duration": 5,
    "start_time": "2024-12-04T03:22:31.199Z"
   },
   {
    "duration": 4,
    "start_time": "2024-12-04T03:23:58.825Z"
   },
   {
    "duration": 5,
    "start_time": "2024-12-04T03:24:35.810Z"
   },
   {
    "duration": 3,
    "start_time": "2024-12-04T03:24:39.438Z"
   },
   {
    "duration": 30,
    "start_time": "2024-12-04T03:25:59.397Z"
   },
   {
    "duration": 41,
    "start_time": "2024-12-04T03:26:17.025Z"
   },
   {
    "duration": 7,
    "start_time": "2024-12-04T03:27:21.348Z"
   },
   {
    "duration": 7,
    "start_time": "2024-12-04T03:27:44.669Z"
   },
   {
    "duration": 6,
    "start_time": "2024-12-04T03:27:57.310Z"
   },
   {
    "duration": 8,
    "start_time": "2024-12-04T03:28:59.712Z"
   },
   {
    "duration": 4,
    "start_time": "2024-12-04T03:29:04.924Z"
   },
   {
    "duration": 10,
    "start_time": "2024-12-04T03:30:18.559Z"
   },
   {
    "duration": 4,
    "start_time": "2024-12-04T03:30:25.841Z"
   },
   {
    "duration": 39,
    "start_time": "2024-12-04T03:36:11.121Z"
   },
   {
    "duration": 36,
    "start_time": "2024-12-04T03:36:18.499Z"
   },
   {
    "duration": 40,
    "start_time": "2024-12-04T03:37:46.062Z"
   },
   {
    "duration": 37,
    "start_time": "2024-12-04T03:38:19.540Z"
   },
   {
    "duration": 4,
    "start_time": "2024-12-04T03:38:58.691Z"
   },
   {
    "duration": 4,
    "start_time": "2024-12-04T03:48:38.594Z"
   },
   {
    "duration": 3,
    "start_time": "2024-12-04T03:48:42.722Z"
   },
   {
    "duration": 12,
    "start_time": "2024-12-04T03:49:14.601Z"
   },
   {
    "duration": 12,
    "start_time": "2024-12-04T03:49:20.259Z"
   },
   {
    "duration": 6,
    "start_time": "2024-12-04T03:49:36.857Z"
   },
   {
    "duration": 3,
    "start_time": "2024-12-04T03:50:08.850Z"
   },
   {
    "duration": 157,
    "start_time": "2024-12-04T20:36:01.304Z"
   },
   {
    "duration": 11,
    "start_time": "2024-12-04T20:36:10.892Z"
   },
   {
    "duration": 12,
    "start_time": "2024-12-04T20:36:50.294Z"
   },
   {
    "duration": 341,
    "start_time": "2024-12-04T20:36:55.949Z"
   },
   {
    "duration": 139,
    "start_time": "2024-12-04T20:36:58.699Z"
   },
   {
    "duration": 14,
    "start_time": "2024-12-04T20:37:01.885Z"
   },
   {
    "duration": 22,
    "start_time": "2024-12-04T20:37:06.496Z"
   },
   {
    "duration": 4,
    "start_time": "2024-12-04T20:37:12.504Z"
   },
   {
    "duration": 5,
    "start_time": "2024-12-04T20:37:19.382Z"
   },
   {
    "duration": 4,
    "start_time": "2024-12-04T20:37:22.888Z"
   },
   {
    "duration": 8,
    "start_time": "2024-12-04T20:37:52.401Z"
   },
   {
    "duration": 4,
    "start_time": "2024-12-04T20:37:54.708Z"
   },
   {
    "duration": 6,
    "start_time": "2024-12-04T20:38:01.678Z"
   },
   {
    "duration": 4,
    "start_time": "2024-12-04T20:38:04.053Z"
   },
   {
    "duration": 28,
    "start_time": "2024-12-04T20:38:46.621Z"
   },
   {
    "duration": 19,
    "start_time": "2024-12-04T20:38:49.104Z"
   },
   {
    "duration": 33,
    "start_time": "2024-12-04T20:38:53.411Z"
   },
   {
    "duration": 44,
    "start_time": "2024-12-04T20:38:58.617Z"
   },
   {
    "duration": 46,
    "start_time": "2024-12-04T20:39:34.775Z"
   },
   {
    "duration": 35,
    "start_time": "2024-12-04T20:39:42.393Z"
   },
   {
    "duration": 36,
    "start_time": "2024-12-04T20:43:40.560Z"
   },
   {
    "duration": 38,
    "start_time": "2024-12-04T20:43:50.073Z"
   },
   {
    "duration": 37,
    "start_time": "2024-12-04T20:44:01.425Z"
   },
   {
    "duration": 38,
    "start_time": "2024-12-04T20:44:34.308Z"
   },
   {
    "duration": 40,
    "start_time": "2024-12-04T20:45:48.976Z"
   },
   {
    "duration": 35,
    "start_time": "2024-12-04T20:45:56.942Z"
   },
   {
    "duration": 35,
    "start_time": "2024-12-04T20:46:10.763Z"
   },
   {
    "duration": 36,
    "start_time": "2024-12-04T20:46:17.405Z"
   },
   {
    "duration": 8,
    "start_time": "2024-12-04T20:48:38.116Z"
   },
   {
    "duration": 6,
    "start_time": "2024-12-04T20:48:55.589Z"
   },
   {
    "duration": 8,
    "start_time": "2024-12-04T20:49:09.419Z"
   },
   {
    "duration": 10,
    "start_time": "2024-12-04T20:49:13.225Z"
   },
   {
    "duration": 7,
    "start_time": "2024-12-04T20:49:24.098Z"
   },
   {
    "duration": 118,
    "start_time": "2024-12-04T20:52:34.613Z"
   },
   {
    "duration": 6,
    "start_time": "2024-12-04T20:52:44.547Z"
   },
   {
    "duration": 3,
    "start_time": "2024-12-04T20:52:52.619Z"
   },
   {
    "duration": 115,
    "start_time": "2024-12-04T20:52:54.945Z"
   },
   {
    "duration": 11,
    "start_time": "2024-12-04T20:52:57.408Z"
   },
   {
    "duration": 22,
    "start_time": "2024-12-04T20:53:00.799Z"
   },
   {
    "duration": 5,
    "start_time": "2024-12-04T20:53:07.348Z"
   },
   {
    "duration": 8,
    "start_time": "2024-12-04T20:53:10.432Z"
   },
   {
    "duration": 3,
    "start_time": "2024-12-04T20:53:14.248Z"
   },
   {
    "duration": 25,
    "start_time": "2024-12-04T20:53:17.936Z"
   },
   {
    "duration": 24,
    "start_time": "2024-12-04T20:53:33.788Z"
   },
   {
    "duration": 22,
    "start_time": "2024-12-04T20:53:38.021Z"
   },
   {
    "duration": 39,
    "start_time": "2024-12-04T20:53:41.920Z"
   },
   {
    "duration": 376,
    "start_time": "2024-12-04T20:54:02.548Z"
   },
   {
    "duration": 37,
    "start_time": "2024-12-04T20:54:14.380Z"
   },
   {
    "duration": 42,
    "start_time": "2024-12-04T20:54:30.732Z"
   },
   {
    "duration": 35,
    "start_time": "2024-12-04T20:54:39.076Z"
   },
   {
    "duration": 43,
    "start_time": "2024-12-04T20:55:38.015Z"
   },
   {
    "duration": 36,
    "start_time": "2024-12-04T20:59:02.042Z"
   },
   {
    "duration": 40,
    "start_time": "2024-12-04T20:59:08.323Z"
   },
   {
    "duration": 35,
    "start_time": "2024-12-04T20:59:12.331Z"
   },
   {
    "duration": 40,
    "start_time": "2024-12-04T20:59:44.836Z"
   },
   {
    "duration": 36,
    "start_time": "2024-12-04T20:59:50.956Z"
   },
   {
    "duration": 40,
    "start_time": "2024-12-04T21:01:06.649Z"
   },
   {
    "duration": 32,
    "start_time": "2024-12-04T21:02:18.808Z"
   },
   {
    "duration": 33,
    "start_time": "2024-12-04T21:02:29.087Z"
   },
   {
    "duration": 35,
    "start_time": "2024-12-04T21:03:23.733Z"
   },
   {
    "duration": 6,
    "start_time": "2024-12-04T21:06:38.623Z"
   },
   {
    "duration": 5,
    "start_time": "2024-12-04T21:07:03.893Z"
   },
   {
    "duration": 5,
    "start_time": "2024-12-04T21:08:40.911Z"
   },
   {
    "duration": 5,
    "start_time": "2024-12-04T21:09:06.890Z"
   },
   {
    "duration": 5,
    "start_time": "2024-12-04T21:09:54.919Z"
   },
   {
    "duration": 8,
    "start_time": "2024-12-04T21:11:18.300Z"
   },
   {
    "duration": 27,
    "start_time": "2024-12-04T21:11:31.198Z"
   },
   {
    "duration": 18,
    "start_time": "2024-12-04T21:11:34.308Z"
   },
   {
    "duration": 17,
    "start_time": "2024-12-04T21:11:36.994Z"
   },
   {
    "duration": 32,
    "start_time": "2024-12-04T21:11:40.433Z"
   },
   {
    "duration": 4,
    "start_time": "2024-12-04T21:11:43.769Z"
   },
   {
    "duration": 7,
    "start_time": "2024-12-04T21:12:31.137Z"
   },
   {
    "duration": 9,
    "start_time": "2024-12-04T21:12:35.283Z"
   },
   {
    "duration": 47,
    "start_time": "2024-12-04T21:13:03.359Z"
   },
   {
    "duration": 38,
    "start_time": "2024-12-04T21:13:13.323Z"
   },
   {
    "duration": 37,
    "start_time": "2024-12-04T21:13:22.072Z"
   },
   {
    "duration": 44,
    "start_time": "2024-12-04T21:13:41.426Z"
   },
   {
    "duration": 37,
    "start_time": "2024-12-04T21:14:01.288Z"
   },
   {
    "duration": 44,
    "start_time": "2024-12-04T21:14:22.362Z"
   },
   {
    "duration": 41,
    "start_time": "2024-12-04T21:14:28.816Z"
   },
   {
    "duration": 32,
    "start_time": "2024-12-04T21:14:33.658Z"
   },
   {
    "duration": 7,
    "start_time": "2024-12-04T21:14:49.307Z"
   },
   {
    "duration": 43,
    "start_time": "2024-12-04T21:15:57.123Z"
   },
   {
    "duration": 40,
    "start_time": "2024-12-04T21:16:06.435Z"
   },
   {
    "duration": 36,
    "start_time": "2024-12-04T21:16:14.927Z"
   },
   {
    "duration": 44,
    "start_time": "2024-12-04T21:17:12.449Z"
   },
   {
    "duration": 33,
    "start_time": "2024-12-04T21:17:19.158Z"
   },
   {
    "duration": 6,
    "start_time": "2024-12-04T21:18:55.984Z"
   },
   {
    "duration": 6,
    "start_time": "2024-12-04T21:35:50.216Z"
   },
   {
    "duration": 13,
    "start_time": "2024-12-04T21:36:21.974Z"
   },
   {
    "duration": 18,
    "start_time": "2024-12-04T21:36:42.261Z"
   },
   {
    "duration": 7,
    "start_time": "2024-12-04T21:39:04.739Z"
   },
   {
    "duration": 4,
    "start_time": "2024-12-04T21:39:15.092Z"
   },
   {
    "duration": 4,
    "start_time": "2024-12-04T21:39:24.671Z"
   },
   {
    "duration": 4,
    "start_time": "2024-12-04T21:39:28.906Z"
   },
   {
    "duration": 4,
    "start_time": "2024-12-04T21:39:32.693Z"
   },
   {
    "duration": 5,
    "start_time": "2024-12-04T21:39:51.425Z"
   },
   {
    "duration": 19,
    "start_time": "2024-12-04T21:39:54.462Z"
   },
   {
    "duration": 6,
    "start_time": "2024-12-04T21:40:03.148Z"
   },
   {
    "duration": 19,
    "start_time": "2024-12-04T21:40:05.200Z"
   },
   {
    "duration": 5,
    "start_time": "2024-12-04T21:40:27.385Z"
   },
   {
    "duration": 17,
    "start_time": "2024-12-04T21:40:30.288Z"
   },
   {
    "duration": 6,
    "start_time": "2024-12-04T21:40:41.287Z"
   },
   {
    "duration": 17,
    "start_time": "2024-12-04T21:40:44.709Z"
   },
   {
    "duration": 6,
    "start_time": "2024-12-04T21:52:47.016Z"
   },
   {
    "duration": 132,
    "start_time": "2024-12-04T21:52:50.471Z"
   },
   {
    "duration": 3,
    "start_time": "2024-12-04T21:54:32.105Z"
   },
   {
    "duration": 45,
    "start_time": "2024-12-04T21:54:34.764Z"
   },
   {
    "duration": 5,
    "start_time": "2024-12-04T21:54:41.520Z"
   },
   {
    "duration": 3,
    "start_time": "2024-12-04T21:54:50.868Z"
   },
   {
    "duration": 29390,
    "start_time": "2024-12-04T21:54:53.478Z"
   },
   {
    "duration": 0,
    "start_time": "2024-12-04T21:55:22.870Z"
   },
   {
    "duration": 12,
    "start_time": "2024-12-04T21:58:02.256Z"
   },
   {
    "duration": 12,
    "start_time": "2024-12-04T21:58:15.750Z"
   },
   {
    "duration": 5,
    "start_time": "2024-12-04T21:58:22.444Z"
   },
   {
    "duration": 4,
    "start_time": "2024-12-04T21:58:41.674Z"
   },
   {
    "duration": 12,
    "start_time": "2024-12-04T21:59:14.973Z"
   },
   {
    "duration": 4,
    "start_time": "2024-12-04T21:59:17.718Z"
   },
   {
    "duration": 5,
    "start_time": "2024-12-04T21:59:25.472Z"
   },
   {
    "duration": 6,
    "start_time": "2024-12-04T21:59:42.953Z"
   },
   {
    "duration": 14,
    "start_time": "2024-12-04T22:06:46.769Z"
   },
   {
    "duration": 13,
    "start_time": "2024-12-04T22:08:57.601Z"
   },
   {
    "duration": 12,
    "start_time": "2024-12-04T22:09:55.129Z"
   },
   {
    "duration": 3,
    "start_time": "2024-12-04T22:10:20.440Z"
   },
   {
    "duration": 19,
    "start_time": "2024-12-04T22:11:04.250Z"
   },
   {
    "duration": 20,
    "start_time": "2024-12-04T22:11:16.011Z"
   },
   {
    "duration": 3,
    "start_time": "2024-12-04T22:11:35.553Z"
   },
   {
    "duration": 128,
    "start_time": "2024-12-04T22:12:39.654Z"
   },
   {
    "duration": 4,
    "start_time": "2024-12-04T22:12:44.676Z"
   },
   {
    "duration": 24,
    "start_time": "2024-12-04T22:12:49.433Z"
   },
   {
    "duration": 43,
    "start_time": "2024-12-04T22:13:32.844Z"
   },
   {
    "duration": 6,
    "start_time": "2024-12-04T22:13:59.626Z"
   },
   {
    "duration": 13,
    "start_time": "2024-12-04T22:18:02.849Z"
   },
   {
    "duration": 13,
    "start_time": "2024-12-04T22:19:57.520Z"
   },
   {
    "duration": 4,
    "start_time": "2024-12-04T22:20:10.266Z"
   },
   {
    "duration": 325,
    "start_time": "2024-12-04T22:35:34.150Z"
   },
   {
    "duration": 46,
    "start_time": "2024-12-04T22:35:47.349Z"
   },
   {
    "duration": 45,
    "start_time": "2024-12-04T22:36:52.963Z"
   },
   {
    "duration": 55,
    "start_time": "2024-12-04T22:38:35.666Z"
   },
   {
    "duration": 55,
    "start_time": "2024-12-04T22:39:07.053Z"
   },
   {
    "duration": 38,
    "start_time": "2024-12-04T22:40:27.836Z"
   },
   {
    "duration": 40,
    "start_time": "2024-12-04T22:44:22.359Z"
   },
   {
    "duration": 38,
    "start_time": "2024-12-04T22:44:27.407Z"
   },
   {
    "duration": 6,
    "start_time": "2024-12-04T22:44:32.595Z"
   },
   {
    "duration": 39,
    "start_time": "2024-12-04T22:44:37.235Z"
   },
   {
    "duration": 39,
    "start_time": "2024-12-04T22:45:24.217Z"
   },
   {
    "duration": 41,
    "start_time": "2024-12-04T22:45:36.128Z"
   },
   {
    "duration": 42,
    "start_time": "2024-12-04T22:47:05.434Z"
   },
   {
    "duration": 39,
    "start_time": "2024-12-04T22:47:50.037Z"
   },
   {
    "duration": 7,
    "start_time": "2024-12-04T22:48:53.673Z"
   },
   {
    "duration": 314,
    "start_time": "2024-12-05T04:35:29.911Z"
   },
   {
    "duration": 148,
    "start_time": "2024-12-05T04:35:30.227Z"
   },
   {
    "duration": 16,
    "start_time": "2024-12-05T04:35:30.376Z"
   },
   {
    "duration": 27,
    "start_time": "2024-12-05T04:35:30.393Z"
   },
   {
    "duration": 3,
    "start_time": "2024-12-05T04:35:30.424Z"
   },
   {
    "duration": 8,
    "start_time": "2024-12-05T04:35:30.429Z"
   },
   {
    "duration": 4,
    "start_time": "2024-12-05T04:35:30.438Z"
   },
   {
    "duration": 19,
    "start_time": "2024-12-05T04:35:30.443Z"
   },
   {
    "duration": 52,
    "start_time": "2024-12-05T04:35:30.463Z"
   },
   {
    "duration": 15,
    "start_time": "2024-12-05T04:35:30.517Z"
   },
   {
    "duration": 35,
    "start_time": "2024-12-05T04:35:30.533Z"
   },
   {
    "duration": 53,
    "start_time": "2024-12-05T04:35:30.572Z"
   },
   {
    "duration": 41,
    "start_time": "2024-12-05T04:35:30.628Z"
   },
   {
    "duration": 49,
    "start_time": "2024-12-05T04:35:30.673Z"
   },
   {
    "duration": 7,
    "start_time": "2024-12-05T04:35:30.724Z"
   },
   {
    "duration": 13,
    "start_time": "2024-12-05T04:35:30.732Z"
   },
   {
    "duration": 4,
    "start_time": "2024-12-05T04:35:30.747Z"
   },
   {
    "duration": 6,
    "start_time": "2024-12-05T04:35:30.752Z"
   },
   {
    "duration": 565,
    "start_time": "2024-12-05T04:35:30.760Z"
   },
   {
    "duration": 0,
    "start_time": "2024-12-05T04:35:31.326Z"
   },
   {
    "duration": 0,
    "start_time": "2024-12-05T04:35:31.327Z"
   },
   {
    "duration": 0,
    "start_time": "2024-12-05T04:35:31.328Z"
   },
   {
    "duration": 0,
    "start_time": "2024-12-05T04:35:31.330Z"
   },
   {
    "duration": 0,
    "start_time": "2024-12-05T04:35:31.331Z"
   },
   {
    "duration": 308,
    "start_time": "2024-12-08T01:11:48.181Z"
   },
   {
    "duration": 141,
    "start_time": "2024-12-08T01:11:48.491Z"
   },
   {
    "duration": 15,
    "start_time": "2024-12-08T01:11:48.634Z"
   },
   {
    "duration": 24,
    "start_time": "2024-12-08T01:11:48.651Z"
   },
   {
    "duration": 4,
    "start_time": "2024-12-08T01:11:48.677Z"
   },
   {
    "duration": 6,
    "start_time": "2024-12-08T01:11:48.682Z"
   },
   {
    "duration": 4,
    "start_time": "2024-12-08T01:11:48.690Z"
   },
   {
    "duration": 56,
    "start_time": "2024-12-08T01:11:48.695Z"
   },
   {
    "duration": 25,
    "start_time": "2024-12-08T01:11:48.753Z"
   },
   {
    "duration": 17,
    "start_time": "2024-12-08T01:11:48.781Z"
   },
   {
    "duration": 68,
    "start_time": "2024-12-08T01:11:48.799Z"
   },
   {
    "duration": 64,
    "start_time": "2024-12-08T01:11:48.869Z"
   },
   {
    "duration": 44,
    "start_time": "2024-12-08T01:11:48.935Z"
   },
   {
    "duration": 54,
    "start_time": "2024-12-08T01:11:48.981Z"
   },
   {
    "duration": 7,
    "start_time": "2024-12-08T01:11:49.037Z"
   },
   {
    "duration": 14,
    "start_time": "2024-12-08T01:11:49.046Z"
   },
   {
    "duration": 4,
    "start_time": "2024-12-08T01:11:49.061Z"
   },
   {
    "duration": 9,
    "start_time": "2024-12-08T01:11:49.067Z"
   },
   {
    "duration": 604,
    "start_time": "2024-12-08T01:11:49.077Z"
   },
   {
    "duration": 0,
    "start_time": "2024-12-08T01:11:49.683Z"
   },
   {
    "duration": 0,
    "start_time": "2024-12-08T01:11:49.685Z"
   },
   {
    "duration": 0,
    "start_time": "2024-12-08T01:11:49.686Z"
   },
   {
    "duration": 0,
    "start_time": "2024-12-08T01:11:49.687Z"
   },
   {
    "duration": 0,
    "start_time": "2024-12-08T01:11:49.688Z"
   },
   {
    "duration": 22,
    "start_time": "2024-12-08T01:17:19.525Z"
   },
   {
    "duration": 21,
    "start_time": "2024-12-08T01:19:36.272Z"
   },
   {
    "duration": 281,
    "start_time": "2024-12-08T01:19:54.602Z"
   },
   {
    "duration": 122,
    "start_time": "2024-12-08T01:19:54.885Z"
   },
   {
    "duration": 23,
    "start_time": "2024-12-08T01:19:55.009Z"
   },
   {
    "duration": 24,
    "start_time": "2024-12-08T01:19:55.034Z"
   },
   {
    "duration": 4,
    "start_time": "2024-12-08T01:19:55.061Z"
   },
   {
    "duration": 5,
    "start_time": "2024-12-08T01:19:55.067Z"
   },
   {
    "duration": 4,
    "start_time": "2024-12-08T01:19:55.073Z"
   },
   {
    "duration": 56,
    "start_time": "2024-12-08T01:19:55.079Z"
   },
   {
    "duration": 15,
    "start_time": "2024-12-08T01:19:55.137Z"
   },
   {
    "duration": 189,
    "start_time": "2024-12-08T01:19:55.154Z"
   },
   {
    "duration": 0,
    "start_time": "2024-12-08T01:19:55.345Z"
   },
   {
    "duration": 0,
    "start_time": "2024-12-08T01:19:55.346Z"
   },
   {
    "duration": 0,
    "start_time": "2024-12-08T01:19:55.347Z"
   },
   {
    "duration": 0,
    "start_time": "2024-12-08T01:19:55.348Z"
   },
   {
    "duration": 0,
    "start_time": "2024-12-08T01:19:55.349Z"
   },
   {
    "duration": 0,
    "start_time": "2024-12-08T01:19:55.350Z"
   },
   {
    "duration": 0,
    "start_time": "2024-12-08T01:19:55.352Z"
   },
   {
    "duration": 0,
    "start_time": "2024-12-08T01:19:55.353Z"
   },
   {
    "duration": 0,
    "start_time": "2024-12-08T01:19:55.356Z"
   },
   {
    "duration": 0,
    "start_time": "2024-12-08T01:19:55.357Z"
   },
   {
    "duration": 0,
    "start_time": "2024-12-08T01:19:55.358Z"
   },
   {
    "duration": 0,
    "start_time": "2024-12-08T01:19:55.360Z"
   },
   {
    "duration": 0,
    "start_time": "2024-12-08T01:19:55.361Z"
   },
   {
    "duration": 0,
    "start_time": "2024-12-08T01:19:55.363Z"
   },
   {
    "duration": 2,
    "start_time": "2024-12-08T01:20:55.821Z"
   },
   {
    "duration": 116,
    "start_time": "2024-12-08T01:20:59.025Z"
   },
   {
    "duration": 10,
    "start_time": "2024-12-08T01:21:01.671Z"
   },
   {
    "duration": 23,
    "start_time": "2024-12-08T01:21:04.679Z"
   },
   {
    "duration": 4,
    "start_time": "2024-12-08T01:21:09.682Z"
   },
   {
    "duration": 6,
    "start_time": "2024-12-08T01:21:13.991Z"
   },
   {
    "duration": 3,
    "start_time": "2024-12-08T01:21:16.804Z"
   },
   {
    "duration": 21,
    "start_time": "2024-12-08T01:21:21.470Z"
   },
   {
    "duration": 16,
    "start_time": "2024-12-08T01:21:30.920Z"
   },
   {
    "duration": 12,
    "start_time": "2024-12-08T01:21:35.126Z"
   },
   {
    "duration": 13,
    "start_time": "2024-12-08T01:21:39.052Z"
   },
   {
    "duration": 14,
    "start_time": "2024-12-08T01:24:00.047Z"
   },
   {
    "duration": 12,
    "start_time": "2024-12-08T01:25:25.880Z"
   },
   {
    "duration": 303,
    "start_time": "2024-12-08T01:25:31.203Z"
   },
   {
    "duration": 123,
    "start_time": "2024-12-08T01:25:31.508Z"
   },
   {
    "duration": 14,
    "start_time": "2024-12-08T01:25:31.633Z"
   },
   {
    "duration": 24,
    "start_time": "2024-12-08T01:25:31.649Z"
   },
   {
    "duration": 4,
    "start_time": "2024-12-08T01:25:31.677Z"
   },
   {
    "duration": 6,
    "start_time": "2024-12-08T01:25:31.682Z"
   },
   {
    "duration": 3,
    "start_time": "2024-12-08T01:25:31.690Z"
   },
   {
    "duration": 21,
    "start_time": "2024-12-08T01:25:31.732Z"
   },
   {
    "duration": 14,
    "start_time": "2024-12-08T01:25:31.755Z"
   },
   {
    "duration": 19,
    "start_time": "2024-12-08T01:25:31.771Z"
   },
   {
    "duration": 70,
    "start_time": "2024-12-08T01:25:31.793Z"
   },
   {
    "duration": 46,
    "start_time": "2024-12-08T01:25:31.865Z"
   },
   {
    "duration": 75,
    "start_time": "2024-12-08T01:25:31.913Z"
   },
   {
    "duration": 56,
    "start_time": "2024-12-08T01:25:31.991Z"
   },
   {
    "duration": 7,
    "start_time": "2024-12-08T01:25:32.049Z"
   },
   {
    "duration": 14,
    "start_time": "2024-12-08T01:25:32.057Z"
   },
   {
    "duration": 4,
    "start_time": "2024-12-08T01:25:32.073Z"
   },
   {
    "duration": 8,
    "start_time": "2024-12-08T01:25:32.079Z"
   },
   {
    "duration": 608,
    "start_time": "2024-12-08T01:25:32.089Z"
   },
   {
    "duration": 0,
    "start_time": "2024-12-08T01:25:32.699Z"
   },
   {
    "duration": 1,
    "start_time": "2024-12-08T01:25:32.700Z"
   },
   {
    "duration": 0,
    "start_time": "2024-12-08T01:25:32.702Z"
   },
   {
    "duration": 1,
    "start_time": "2024-12-08T01:25:32.703Z"
   },
   {
    "duration": 0,
    "start_time": "2024-12-08T01:25:32.705Z"
   },
   {
    "duration": 4,
    "start_time": "2024-12-08T01:25:42.603Z"
   },
   {
    "duration": 122,
    "start_time": "2024-12-08T01:25:45.135Z"
   },
   {
    "duration": 11,
    "start_time": "2024-12-08T01:25:47.642Z"
   },
   {
    "duration": 25,
    "start_time": "2024-12-08T01:25:50.730Z"
   },
   {
    "duration": 4,
    "start_time": "2024-12-08T01:25:56.663Z"
   },
   {
    "duration": 5,
    "start_time": "2024-12-08T01:25:59.769Z"
   },
   {
    "duration": 4,
    "start_time": "2024-12-08T01:26:02.630Z"
   },
   {
    "duration": 19,
    "start_time": "2024-12-08T01:26:05.867Z"
   },
   {
    "duration": 14,
    "start_time": "2024-12-08T01:26:10.265Z"
   },
   {
    "duration": 19,
    "start_time": "2024-12-08T01:26:22.515Z"
   },
   {
    "duration": 43,
    "start_time": "2024-12-08T01:26:28.512Z"
   },
   {
    "duration": 48,
    "start_time": "2024-12-08T01:26:31.748Z"
   },
   {
    "duration": 55,
    "start_time": "2024-12-08T01:26:34.909Z"
   },
   {
    "duration": 58,
    "start_time": "2024-12-08T01:26:55.570Z"
   },
   {
    "duration": 45,
    "start_time": "2024-12-08T01:27:04.311Z"
   },
   {
    "duration": 50,
    "start_time": "2024-12-08T01:36:01.226Z"
   },
   {
    "duration": 52,
    "start_time": "2024-12-08T01:36:14.282Z"
   },
   {
    "duration": 11,
    "start_time": "2024-12-08T01:36:30.749Z"
   },
   {
    "duration": 50,
    "start_time": "2024-12-08T01:36:40.075Z"
   },
   {
    "duration": 39,
    "start_time": "2024-12-08T01:41:16.142Z"
   },
   {
    "duration": 2,
    "start_time": "2024-12-08T01:50:07.060Z"
   },
   {
    "duration": 3,
    "start_time": "2024-12-08T01:50:10.975Z"
   },
   {
    "duration": 38,
    "start_time": "2024-12-08T01:50:58.291Z"
   },
   {
    "duration": 2,
    "start_time": "2024-12-08T01:51:06.245Z"
   },
   {
    "duration": 4,
    "start_time": "2024-12-08T01:55:42.647Z"
   },
   {
    "duration": 3,
    "start_time": "2024-12-08T01:55:45.317Z"
   },
   {
    "duration": 39,
    "start_time": "2024-12-08T01:55:50.760Z"
   },
   {
    "duration": 14,
    "start_time": "2024-12-08T01:56:51.921Z"
   },
   {
    "duration": 16,
    "start_time": "2024-12-08T01:57:43.848Z"
   },
   {
    "duration": 12,
    "start_time": "2024-12-08T01:57:46.885Z"
   },
   {
    "duration": 15,
    "start_time": "2024-12-08T01:58:00.620Z"
   },
   {
    "duration": 14,
    "start_time": "2024-12-08T01:58:10.887Z"
   },
   {
    "duration": 28,
    "start_time": "2024-12-08T01:58:17.307Z"
   },
   {
    "duration": 8,
    "start_time": "2024-12-08T01:58:20.636Z"
   },
   {
    "duration": 36,
    "start_time": "2024-12-08T01:58:24.684Z"
   },
   {
    "duration": 36,
    "start_time": "2024-12-08T01:59:19.426Z"
   },
   {
    "duration": 10,
    "start_time": "2024-12-08T02:04:00.711Z"
   },
   {
    "duration": 10,
    "start_time": "2024-12-08T02:05:24.087Z"
   },
   {
    "duration": 11,
    "start_time": "2024-12-08T02:05:30.628Z"
   },
   {
    "duration": 24,
    "start_time": "2024-12-08T02:06:44.223Z"
   },
   {
    "duration": 6,
    "start_time": "2024-12-08T02:07:01.397Z"
   },
   {
    "duration": 4,
    "start_time": "2024-12-08T02:07:23.955Z"
   },
   {
    "duration": 4,
    "start_time": "2024-12-08T02:12:38.192Z"
   },
   {
    "duration": 7,
    "start_time": "2024-12-08T02:13:00.199Z"
   },
   {
    "duration": 9,
    "start_time": "2024-12-08T02:13:08.400Z"
   },
   {
    "duration": 7,
    "start_time": "2024-12-08T02:15:26.354Z"
   },
   {
    "duration": 11,
    "start_time": "2024-12-08T02:15:31.301Z"
   },
   {
    "duration": 5,
    "start_time": "2024-12-08T02:16:26.636Z"
   },
   {
    "duration": 5,
    "start_time": "2024-12-08T02:16:39.918Z"
   },
   {
    "duration": 8,
    "start_time": "2024-12-08T02:23:44.573Z"
   },
   {
    "duration": 5,
    "start_time": "2024-12-08T02:23:47.369Z"
   },
   {
    "duration": 14,
    "start_time": "2024-12-08T02:29:21.028Z"
   },
   {
    "duration": 14,
    "start_time": "2024-12-08T02:29:54.328Z"
   },
   {
    "duration": 14,
    "start_time": "2024-12-08T02:30:26.262Z"
   },
   {
    "duration": 15,
    "start_time": "2024-12-08T02:30:36.434Z"
   },
   {
    "duration": 4,
    "start_time": "2024-12-08T02:31:46.674Z"
   },
   {
    "duration": 7,
    "start_time": "2024-12-08T02:33:19.240Z"
   },
   {
    "duration": 9,
    "start_time": "2024-12-08T02:33:49.794Z"
   },
   {
    "duration": 10,
    "start_time": "2024-12-08T02:34:27.018Z"
   },
   {
    "duration": 3,
    "start_time": "2024-12-08T02:38:30.177Z"
   },
   {
    "duration": 3,
    "start_time": "2024-12-08T02:39:12.947Z"
   },
   {
    "duration": 44,
    "start_time": "2024-12-08T02:40:03.184Z"
   },
   {
    "duration": 40,
    "start_time": "2024-12-08T02:40:33.756Z"
   },
   {
    "duration": 16,
    "start_time": "2024-12-08T02:41:57.190Z"
   },
   {
    "duration": 17,
    "start_time": "2024-12-08T02:42:40.479Z"
   },
   {
    "duration": 15,
    "start_time": "2024-12-08T02:42:53.326Z"
   },
   {
    "duration": 319,
    "start_time": "2024-12-08T10:18:42.290Z"
   },
   {
    "duration": 143,
    "start_time": "2024-12-08T10:18:42.611Z"
   },
   {
    "duration": 14,
    "start_time": "2024-12-08T10:18:42.756Z"
   },
   {
    "duration": 33,
    "start_time": "2024-12-08T10:18:42.772Z"
   },
   {
    "duration": 4,
    "start_time": "2024-12-08T10:18:42.807Z"
   },
   {
    "duration": 8,
    "start_time": "2024-12-08T10:18:42.813Z"
   },
   {
    "duration": 4,
    "start_time": "2024-12-08T10:18:42.822Z"
   },
   {
    "duration": 18,
    "start_time": "2024-12-08T10:18:42.828Z"
   },
   {
    "duration": 40,
    "start_time": "2024-12-08T10:18:42.848Z"
   },
   {
    "duration": 19,
    "start_time": "2024-12-08T10:18:42.892Z"
   },
   {
    "duration": 42,
    "start_time": "2024-12-08T10:18:42.912Z"
   },
   {
    "duration": 60,
    "start_time": "2024-12-08T10:18:42.956Z"
   },
   {
    "duration": 48,
    "start_time": "2024-12-08T10:18:43.018Z"
   },
   {
    "duration": 55,
    "start_time": "2024-12-08T10:18:43.068Z"
   },
   {
    "duration": 62,
    "start_time": "2024-12-08T10:18:43.125Z"
   },
   {
    "duration": 28,
    "start_time": "2024-12-08T10:18:43.190Z"
   },
   {
    "duration": 7,
    "start_time": "2024-12-08T10:18:43.220Z"
   },
   {
    "duration": 34,
    "start_time": "2024-12-08T10:18:43.229Z"
   },
   {
    "duration": 38,
    "start_time": "2024-12-08T10:18:43.265Z"
   },
   {
    "duration": 6,
    "start_time": "2024-12-08T10:18:43.307Z"
   },
   {
    "duration": 7,
    "start_time": "2024-12-08T10:18:43.314Z"
   },
   {
    "duration": 4,
    "start_time": "2024-12-08T10:18:43.323Z"
   },
   {
    "duration": 8,
    "start_time": "2024-12-08T10:18:43.329Z"
   },
   {
    "duration": 127,
    "start_time": "2024-12-08T10:18:43.339Z"
   },
   {
    "duration": 309,
    "start_time": "2024-12-08T10:20:50.389Z"
   },
   {
    "duration": 120,
    "start_time": "2024-12-08T10:20:50.701Z"
   },
   {
    "duration": 14,
    "start_time": "2024-12-08T10:20:50.822Z"
   },
   {
    "duration": 24,
    "start_time": "2024-12-08T10:20:50.838Z"
   },
   {
    "duration": 3,
    "start_time": "2024-12-08T10:20:50.863Z"
   },
   {
    "duration": 8,
    "start_time": "2024-12-08T10:20:50.886Z"
   },
   {
    "duration": 3,
    "start_time": "2024-12-08T10:20:50.896Z"
   },
   {
    "duration": 20,
    "start_time": "2024-12-08T10:20:50.901Z"
   },
   {
    "duration": 11,
    "start_time": "2024-12-08T10:20:50.922Z"
   },
   {
    "duration": 17,
    "start_time": "2024-12-08T10:20:50.936Z"
   },
   {
    "duration": 68,
    "start_time": "2024-12-08T10:20:50.956Z"
   },
   {
    "duration": 45,
    "start_time": "2024-12-08T10:20:51.025Z"
   },
   {
    "duration": 62,
    "start_time": "2024-12-08T10:20:51.071Z"
   },
   {
    "duration": 51,
    "start_time": "2024-12-08T10:20:51.135Z"
   },
   {
    "duration": 36,
    "start_time": "2024-12-08T10:20:51.188Z"
   },
   {
    "duration": 28,
    "start_time": "2024-12-08T10:20:51.225Z"
   },
   {
    "duration": 9,
    "start_time": "2024-12-08T10:20:51.254Z"
   },
   {
    "duration": 52,
    "start_time": "2024-12-08T10:20:51.266Z"
   },
   {
    "duration": 17,
    "start_time": "2024-12-08T10:20:51.320Z"
   },
   {
    "duration": 10,
    "start_time": "2024-12-08T10:20:51.339Z"
   },
   {
    "duration": 5,
    "start_time": "2024-12-08T10:20:51.351Z"
   },
   {
    "duration": 39,
    "start_time": "2024-12-08T10:20:51.357Z"
   },
   {
    "duration": 99,
    "start_time": "2024-12-08T10:20:51.398Z"
   },
   {
    "duration": 309,
    "start_time": "2024-12-08T10:22:57.318Z"
   },
   {
    "duration": 118,
    "start_time": "2024-12-08T10:22:57.629Z"
   },
   {
    "duration": 14,
    "start_time": "2024-12-08T10:22:57.749Z"
   },
   {
    "duration": 31,
    "start_time": "2024-12-08T10:22:57.765Z"
   },
   {
    "duration": 3,
    "start_time": "2024-12-08T10:22:57.798Z"
   },
   {
    "duration": 4,
    "start_time": "2024-12-08T10:22:57.803Z"
   },
   {
    "duration": 4,
    "start_time": "2024-12-08T10:22:57.809Z"
   },
   {
    "duration": 19,
    "start_time": "2024-12-08T10:22:57.815Z"
   },
   {
    "duration": 12,
    "start_time": "2024-12-08T10:22:57.835Z"
   },
   {
    "duration": 52,
    "start_time": "2024-12-08T10:22:57.850Z"
   },
   {
    "duration": 38,
    "start_time": "2024-12-08T10:22:57.904Z"
   },
   {
    "duration": 59,
    "start_time": "2024-12-08T10:22:57.944Z"
   },
   {
    "duration": 47,
    "start_time": "2024-12-08T10:22:58.005Z"
   },
   {
    "duration": 52,
    "start_time": "2024-12-08T10:22:58.054Z"
   },
   {
    "duration": 42,
    "start_time": "2024-12-08T10:22:58.108Z"
   },
   {
    "duration": 40,
    "start_time": "2024-12-08T10:22:58.151Z"
   },
   {
    "duration": 6,
    "start_time": "2024-12-08T10:22:58.193Z"
   },
   {
    "duration": 36,
    "start_time": "2024-12-08T10:22:58.202Z"
   },
   {
    "duration": 18,
    "start_time": "2024-12-08T10:22:58.239Z"
   },
   {
    "duration": 35,
    "start_time": "2024-12-08T10:22:58.258Z"
   },
   {
    "duration": 6,
    "start_time": "2024-12-08T10:22:58.294Z"
   },
   {
    "duration": 12,
    "start_time": "2024-12-08T10:22:58.301Z"
   },
   {
    "duration": 8,
    "start_time": "2024-12-08T10:22:58.314Z"
   },
   {
    "duration": 174,
    "start_time": "2024-12-10T22:35:50.379Z"
   },
   {
    "duration": 335,
    "start_time": "2024-12-10T22:35:59.084Z"
   },
   {
    "duration": 148,
    "start_time": "2024-12-10T22:35:59.421Z"
   },
   {
    "duration": 14,
    "start_time": "2024-12-10T22:35:59.570Z"
   },
   {
    "duration": 22,
    "start_time": "2024-12-10T22:35:59.586Z"
   },
   {
    "duration": 3,
    "start_time": "2024-12-10T22:35:59.611Z"
   },
   {
    "duration": 26,
    "start_time": "2024-12-10T22:35:59.616Z"
   },
   {
    "duration": 4,
    "start_time": "2024-12-10T22:35:59.644Z"
   },
   {
    "duration": 20,
    "start_time": "2024-12-10T22:35:59.649Z"
   },
   {
    "duration": 13,
    "start_time": "2024-12-10T22:35:59.670Z"
   },
   {
    "duration": 17,
    "start_time": "2024-12-10T22:35:59.685Z"
   },
   {
    "duration": 72,
    "start_time": "2024-12-10T22:35:59.704Z"
   },
   {
    "duration": 43,
    "start_time": "2024-12-10T22:35:59.778Z"
   },
   {
    "duration": 63,
    "start_time": "2024-12-10T22:35:59.822Z"
   },
   {
    "duration": 94,
    "start_time": "2024-12-10T22:35:59.889Z"
   },
   {
    "duration": 0,
    "start_time": "2024-12-10T22:35:59.985Z"
   },
   {
    "duration": 0,
    "start_time": "2024-12-10T22:35:59.986Z"
   },
   {
    "duration": 0,
    "start_time": "2024-12-10T22:35:59.988Z"
   },
   {
    "duration": 0,
    "start_time": "2024-12-10T22:35:59.989Z"
   },
   {
    "duration": 0,
    "start_time": "2024-12-10T22:35:59.991Z"
   },
   {
    "duration": 0,
    "start_time": "2024-12-10T22:35:59.992Z"
   },
   {
    "duration": 0,
    "start_time": "2024-12-10T22:35:59.993Z"
   },
   {
    "duration": 0,
    "start_time": "2024-12-10T22:35:59.995Z"
   },
   {
    "duration": 0,
    "start_time": "2024-12-10T22:35:59.996Z"
   },
   {
    "duration": 18,
    "start_time": "2024-12-10T22:36:07.911Z"
   },
   {
    "duration": 10,
    "start_time": "2024-12-10T22:36:31.765Z"
   },
   {
    "duration": 10,
    "start_time": "2024-12-10T22:36:37.398Z"
   },
   {
    "duration": 3,
    "start_time": "2024-12-10T22:36:45.186Z"
   },
   {
    "duration": 116,
    "start_time": "2024-12-10T22:36:47.628Z"
   },
   {
    "duration": 14,
    "start_time": "2024-12-10T22:36:50.348Z"
   },
   {
    "duration": 22,
    "start_time": "2024-12-10T22:36:53.507Z"
   },
   {
    "duration": 4,
    "start_time": "2024-12-10T22:36:58.839Z"
   },
   {
    "duration": 5,
    "start_time": "2024-12-10T22:37:03.405Z"
   },
   {
    "duration": 3,
    "start_time": "2024-12-10T22:37:06.110Z"
   },
   {
    "duration": 19,
    "start_time": "2024-12-10T22:37:11.193Z"
   },
   {
    "duration": 12,
    "start_time": "2024-12-10T22:37:15.540Z"
   },
   {
    "duration": 21,
    "start_time": "2024-12-10T22:37:23.054Z"
   },
   {
    "duration": 54,
    "start_time": "2024-12-10T22:37:27.060Z"
   },
   {
    "duration": 44,
    "start_time": "2024-12-10T22:37:29.850Z"
   },
   {
    "duration": 49,
    "start_time": "2024-12-10T22:37:35.760Z"
   },
   {
    "duration": 11,
    "start_time": "2024-12-10T22:37:43.633Z"
   },
   {
    "duration": 45,
    "start_time": "2024-12-10T22:38:10.201Z"
   },
   {
    "duration": 47,
    "start_time": "2024-12-10T22:38:34.402Z"
   },
   {
    "duration": 47,
    "start_time": "2024-12-10T22:38:41.634Z"
   },
   {
    "duration": 46,
    "start_time": "2024-12-10T22:39:08.391Z"
   },
   {
    "duration": 41,
    "start_time": "2024-12-10T22:40:17.104Z"
   },
   {
    "duration": 48,
    "start_time": "2024-12-10T22:41:18.046Z"
   },
   {
    "duration": 81,
    "start_time": "2024-12-10T22:41:28.617Z"
   },
   {
    "duration": 43,
    "start_time": "2024-12-10T22:41:35.581Z"
   },
   {
    "duration": 342,
    "start_time": "2024-12-11T06:36:12.945Z"
   },
   {
    "duration": 151,
    "start_time": "2024-12-11T06:36:13.289Z"
   },
   {
    "duration": 13,
    "start_time": "2024-12-11T06:36:13.442Z"
   },
   {
    "duration": 34,
    "start_time": "2024-12-11T06:36:13.457Z"
   },
   {
    "duration": 5,
    "start_time": "2024-12-11T06:36:13.493Z"
   },
   {
    "duration": 8,
    "start_time": "2024-12-11T06:36:13.500Z"
   },
   {
    "duration": 4,
    "start_time": "2024-12-11T06:36:13.510Z"
   },
   {
    "duration": 20,
    "start_time": "2024-12-11T06:36:13.515Z"
   },
   {
    "duration": 12,
    "start_time": "2024-12-11T06:36:13.537Z"
   },
   {
    "duration": 55,
    "start_time": "2024-12-11T06:36:13.551Z"
   },
   {
    "duration": 43,
    "start_time": "2024-12-11T06:36:13.608Z"
   },
   {
    "duration": 70,
    "start_time": "2024-12-11T06:36:13.652Z"
   },
   {
    "duration": 52,
    "start_time": "2024-12-11T06:36:13.724Z"
   },
   {
    "duration": 50,
    "start_time": "2024-12-11T06:36:13.791Z"
   },
   {
    "duration": 47,
    "start_time": "2024-12-11T06:36:13.843Z"
   },
   {
    "duration": 27,
    "start_time": "2024-12-11T06:36:13.892Z"
   },
   {
    "duration": 8,
    "start_time": "2024-12-11T06:36:13.921Z"
   },
   {
    "duration": 32,
    "start_time": "2024-12-11T06:36:13.931Z"
   },
   {
    "duration": 39,
    "start_time": "2024-12-11T06:36:13.965Z"
   },
   {
    "duration": 10,
    "start_time": "2024-12-11T06:36:14.006Z"
   },
   {
    "duration": 5,
    "start_time": "2024-12-11T06:36:14.018Z"
   },
   {
    "duration": 13,
    "start_time": "2024-12-11T06:36:14.025Z"
   },
   {
    "duration": 10,
    "start_time": "2024-12-11T06:36:14.040Z"
   }
  ],
  "kernelspec": {
   "display_name": "Python 3 (ipykernel)",
   "language": "python",
   "name": "python3"
  },
  "language_info": {
   "codemirror_mode": {
    "name": "ipython",
    "version": 3
   },
   "file_extension": ".py",
   "mimetype": "text/x-python",
   "name": "python",
   "nbconvert_exporter": "python",
   "pygments_lexer": "ipython3",
   "version": "3.9.19"
  },
  "toc": {
   "base_numbering": 1,
   "nav_menu": {},
   "number_sections": true,
   "sideBar": true,
   "skip_h1_title": true,
   "title_cell": "Table of Contents",
   "title_sidebar": "Contents",
   "toc_cell": false,
   "toc_position": {},
   "toc_section_display": true,
   "toc_window_display": false
  }
 },
 "nbformat": 4,
 "nbformat_minor": 5
}
