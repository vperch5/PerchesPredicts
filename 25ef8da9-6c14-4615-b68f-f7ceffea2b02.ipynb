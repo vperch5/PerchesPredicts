{
 "cells": [
  {
   "cell_type": "markdown",
   "id": "5d610eba",
   "metadata": {},
   "source": [
    "<div style=\"border:solid green 2px; padding: 20px\">\n",
    "    \n",
    "<b>Hello, Vivian!</b> We're glad to see you in code-reviewer territory. You've done a great job on the project, but let's get to know each other and make it even better! We have our own atmosphere here and a few rules:\n",
    "\n",
    "\n",
    "1. I work as a code reviewer, and my main goal is not to point out your mistakes, but to share my experience and help you become a data analyst.\n",
    "2. We speak on a first-come-first-served basis.\n",
    "3. if you want to write or ask a question, don't be shy. Just choose your color for your comment.  \n",
    "4. this is a training project, you don't have to be afraid of making a mistake.  \n",
    "5. You have an unlimited number of attempts to pass the project.  \n",
    "6. Let's Go!\n",
    "\n",
    "\n",
    "---\n",
    "I'll be color-coding comments, please don't delete them:\n",
    "\n",
    "<div class=\"alert alert-block alert-danger\">✍\n",
    "    \n",
    "\n",
    "__Reviewer's comment №1__\n",
    "\n",
    "Needs fixing. The block requires some corrections. Work can't be accepted with the red comments.\n",
    "</div>\n",
    "    \n",
    "---\n",
    "\n",
    "<div class=\"alert alert-block alert-warning\">📝\n",
    "    \n",
    "\n",
    "__Reviewer's comment №1__\n",
    "\n",
    "\n",
    "Remarks. Some recommendations.\n",
    "</div>\n",
    "\n",
    "---\n",
    "\n",
    "<div class=\"alert alert-block alert-success\">✔️\n",
    "    \n",
    "\n",
    "__Reviewer's comment №1__\n",
    "\n",
    "Success. Everything is done succesfully.\n",
    "</div>\n",
    "    \n",
    "---\n",
    "    \n",
    "I suggest that we work on the project in dialogue: if you change something in the project or respond to my comments, write about it. It will be easier for me to track changes if you highlight your comments:   \n",
    "    \n",
    "<div class=\"alert alert-info\"> <b>Student сomments:</b> Student answer..</div>\n",
    "    \n",
    "All this will help to make the recheck of your project faster. If you have any questions about my comments, let me know, we'll figure it out together :)   \n",
    "    \n",
    "---"
   ]
  },
  {
   "cell_type": "markdown",
   "id": "2cff5b66",
   "metadata": {},
   "source": []
  },
  {
   "cell_type": "markdown",
   "id": "1a41a727",
   "metadata": {},
   "source": [
    "<div class=\"alert alert-block alert-danger\">✍\n",
    "    \n",
    "\n",
    "__Reviewer's comment №1__\n",
    "\n",
    "An excellent practice is to describe the goal and main steps in your own words (a skill that will help a lot on a final project). It would be good to add the progress and purpose of the study."
   ]
  },
  {
   "cell_type": "markdown",
   "id": "121f9ed6",
   "metadata": {},
   "source": [
    "<div class=\"alert alert-block alert-danger\">✍\n",
    "    \n",
    "\n",
    "__Reviewer's comment №2__\n",
    "\n",
    "You're missing the introductory part of the project. In which you have to describe in the markdown cell the purpose of the study and the course of action. So that the customer immediately understands what the project is about"
   ]
  },
  {
   "cell_type": "markdown",
   "id": "5e1ac518",
   "metadata": {},
   "source": [
    "I'm going to show the significant trends and patterns of Instacart customer shopping behavior using a modified dataset. First, I will clean the imported data and reduce the amount of duplicates throughout the dataset. Then, I will answer important questions such as what day of the week Instacart customers shop the most, what are the peak shopping hours, and what are the most popular products bought. Towards the end of this project, I will have convenient graphs and brief summaries to clearly show the trends and patterns I want to highlight. "
   ]
  },
  {
   "cell_type": "markdown",
   "id": "7a70d928",
   "metadata": {},
   "source": [
    "<div class=\"alert alert-block alert-success\">✔️\n",
    "    \n",
    "\n",
    "__Reviewer's comment №3__\n",
    "\n",
    "All right"
   ]
  },
  {
   "cell_type": "markdown",
   "id": "fb4c5f7e",
   "metadata": {},
   "source": []
  },
  {
   "cell_type": "code",
   "execution_count": 1,
   "id": "fbf1adab",
   "metadata": {},
   "outputs": [],
   "source": [
    "import pandas as pd \n",
    "insta_orders = pd.read_csv('/datasets/instacart_orders.csv', sep=';')\n",
    "products = pd.read_csv('/datasets/products.csv', sep=';')\n",
    "order_products = pd.read_csv('/datasets/order_products.csv', sep=';')\n",
    "aisles = pd.read_csv('/datasets/aisles.csv', sep=';')\n",
    "departments = pd.read_csv('/datasets/departments.csv', sep=';')"
   ]
  },
  {
   "cell_type": "markdown",
   "id": "45ff7595",
   "metadata": {},
   "source": [
    "<div class=\"alert alert-block alert-warning\">📝\n",
    "    \n",
    "\n",
    "__Reviewer's comment №1__\n",
    "\n",
    "All necessary libraries should be unloaded at the beginning of the project in one code cell"
   ]
  },
  {
   "cell_type": "code",
   "execution_count": null,
   "id": "ad36396d",
   "metadata": {},
   "outputs": [],
   "source": []
  },
  {
   "cell_type": "code",
   "execution_count": null,
   "id": "ad6a1efa",
   "metadata": {},
   "outputs": [],
   "source": []
  },
  {
   "cell_type": "code",
   "execution_count": null,
   "id": "5130e05e",
   "metadata": {},
   "outputs": [],
   "source": []
  },
  {
   "cell_type": "code",
   "execution_count": null,
   "id": "d8370c05",
   "metadata": {},
   "outputs": [],
   "source": []
  },
  {
   "cell_type": "code",
   "execution_count": 2,
   "id": "59e2090f",
   "metadata": {},
   "outputs": [
    {
     "data": {
      "text/html": [
       "<div>\n",
       "<style scoped>\n",
       "    .dataframe tbody tr th:only-of-type {\n",
       "        vertical-align: middle;\n",
       "    }\n",
       "\n",
       "    .dataframe tbody tr th {\n",
       "        vertical-align: top;\n",
       "    }\n",
       "\n",
       "    .dataframe thead th {\n",
       "        text-align: right;\n",
       "    }\n",
       "</style>\n",
       "<table border=\"1\" class=\"dataframe\">\n",
       "  <thead>\n",
       "    <tr style=\"text-align: right;\">\n",
       "      <th></th>\n",
       "      <th>order_id</th>\n",
       "      <th>user_id</th>\n",
       "      <th>order_number</th>\n",
       "      <th>order_dow</th>\n",
       "      <th>order_hour_of_day</th>\n",
       "      <th>days_since_prior_order</th>\n",
       "    </tr>\n",
       "  </thead>\n",
       "  <tbody>\n",
       "    <tr>\n",
       "      <th>count</th>\n",
       "      <td>4.789670e+05</td>\n",
       "      <td>478967.000000</td>\n",
       "      <td>478967.000000</td>\n",
       "      <td>478967.000000</td>\n",
       "      <td>478967.000000</td>\n",
       "      <td>450148.000000</td>\n",
       "    </tr>\n",
       "    <tr>\n",
       "      <th>mean</th>\n",
       "      <td>1.709947e+06</td>\n",
       "      <td>102966.537475</td>\n",
       "      <td>17.157808</td>\n",
       "      <td>2.775058</td>\n",
       "      <td>13.446676</td>\n",
       "      <td>11.101751</td>\n",
       "    </tr>\n",
       "    <tr>\n",
       "      <th>std</th>\n",
       "      <td>9.869480e+05</td>\n",
       "      <td>59525.328991</td>\n",
       "      <td>17.704688</td>\n",
       "      <td>2.045869</td>\n",
       "      <td>4.224986</td>\n",
       "      <td>9.189975</td>\n",
       "    </tr>\n",
       "    <tr>\n",
       "      <th>min</th>\n",
       "      <td>4.000000e+00</td>\n",
       "      <td>2.000000</td>\n",
       "      <td>1.000000</td>\n",
       "      <td>0.000000</td>\n",
       "      <td>0.000000</td>\n",
       "      <td>0.000000</td>\n",
       "    </tr>\n",
       "    <tr>\n",
       "      <th>25%</th>\n",
       "      <td>8.564685e+05</td>\n",
       "      <td>51414.000000</td>\n",
       "      <td>5.000000</td>\n",
       "      <td>1.000000</td>\n",
       "      <td>10.000000</td>\n",
       "      <td>4.000000</td>\n",
       "    </tr>\n",
       "    <tr>\n",
       "      <th>50%</th>\n",
       "      <td>1.709522e+06</td>\n",
       "      <td>102633.000000</td>\n",
       "      <td>11.000000</td>\n",
       "      <td>3.000000</td>\n",
       "      <td>13.000000</td>\n",
       "      <td>7.000000</td>\n",
       "    </tr>\n",
       "    <tr>\n",
       "      <th>75%</th>\n",
       "      <td>2.562990e+06</td>\n",
       "      <td>154419.000000</td>\n",
       "      <td>23.000000</td>\n",
       "      <td>5.000000</td>\n",
       "      <td>16.000000</td>\n",
       "      <td>15.000000</td>\n",
       "    </tr>\n",
       "    <tr>\n",
       "      <th>max</th>\n",
       "      <td>3.421079e+06</td>\n",
       "      <td>206209.000000</td>\n",
       "      <td>100.000000</td>\n",
       "      <td>6.000000</td>\n",
       "      <td>23.000000</td>\n",
       "      <td>30.000000</td>\n",
       "    </tr>\n",
       "  </tbody>\n",
       "</table>\n",
       "</div>"
      ],
      "text/plain": [
       "           order_id        user_id   order_number      order_dow  \\\n",
       "count  4.789670e+05  478967.000000  478967.000000  478967.000000   \n",
       "mean   1.709947e+06  102966.537475      17.157808       2.775058   \n",
       "std    9.869480e+05   59525.328991      17.704688       2.045869   \n",
       "min    4.000000e+00       2.000000       1.000000       0.000000   \n",
       "25%    8.564685e+05   51414.000000       5.000000       1.000000   \n",
       "50%    1.709522e+06  102633.000000      11.000000       3.000000   \n",
       "75%    2.562990e+06  154419.000000      23.000000       5.000000   \n",
       "max    3.421079e+06  206209.000000     100.000000       6.000000   \n",
       "\n",
       "       order_hour_of_day  days_since_prior_order  \n",
       "count      478967.000000           450148.000000  \n",
       "mean           13.446676               11.101751  \n",
       "std             4.224986                9.189975  \n",
       "min             0.000000                0.000000  \n",
       "25%            10.000000                4.000000  \n",
       "50%            13.000000                7.000000  \n",
       "75%            16.000000               15.000000  \n",
       "max            23.000000               30.000000  "
      ]
     },
     "execution_count": 2,
     "metadata": {},
     "output_type": "execute_result"
    }
   ],
   "source": [
    "insta_orders.describe()"
   ]
  },
  {
   "cell_type": "markdown",
   "id": "1717e2d7",
   "metadata": {
    "scrolled": true
   },
   "source": [
    "We can see the average day of the week and hour of day products are bought. We can also see the min and max for both order day of the week and hour of day. "
   ]
  },
  {
   "cell_type": "markdown",
   "id": "52776bfc",
   "metadata": {},
   "source": [
    "<div class=\"alert alert-block alert-warning\">📝\n",
    "    \n",
    "\n",
    "__Reviewer's comment №1__\n",
    "\n",
    "It would be good to comment on the data somehow"
   ]
  },
  {
   "cell_type": "markdown",
   "id": "57109f0b",
   "metadata": {},
   "source": []
  },
  {
   "cell_type": "markdown",
   "id": "07357848-dc64-4156-9cc3-01ff4365226d",
   "metadata": {},
   "source": [
    "## Find and remove duplicate values (and describe why you make your choices)"
   ]
  },
  {
   "cell_type": "markdown",
   "id": "f179f0a9",
   "metadata": {},
   "source": [
    "### `orders` data frame"
   ]
  },
  {
   "cell_type": "code",
   "execution_count": 3,
   "id": "b99297a5-405a-463d-8535-9adc3da4ad74",
   "metadata": {},
   "outputs": [
    {
     "data": {
      "text/plain": [
       "15"
      ]
     },
     "execution_count": 3,
     "metadata": {},
     "output_type": "execute_result"
    }
   ],
   "source": [
    "# Check for duplicated orders\n",
    "insta_orders.duplicated().sum()"
   ]
  },
  {
   "cell_type": "code",
   "execution_count": 4,
   "id": "0d44de5d",
   "metadata": {},
   "outputs": [
    {
     "data": {
      "text/html": [
       "<div>\n",
       "<style scoped>\n",
       "    .dataframe tbody tr th:only-of-type {\n",
       "        vertical-align: middle;\n",
       "    }\n",
       "\n",
       "    .dataframe tbody tr th {\n",
       "        vertical-align: top;\n",
       "    }\n",
       "\n",
       "    .dataframe thead th {\n",
       "        text-align: right;\n",
       "    }\n",
       "</style>\n",
       "<table border=\"1\" class=\"dataframe\">\n",
       "  <thead>\n",
       "    <tr style=\"text-align: right;\">\n",
       "      <th></th>\n",
       "      <th>order_id</th>\n",
       "      <th>user_id</th>\n",
       "      <th>order_number</th>\n",
       "      <th>order_dow</th>\n",
       "      <th>order_hour_of_day</th>\n",
       "      <th>days_since_prior_order</th>\n",
       "    </tr>\n",
       "  </thead>\n",
       "  <tbody>\n",
       "    <tr>\n",
       "      <th>4838</th>\n",
       "      <td>2766110</td>\n",
       "      <td>162084</td>\n",
       "      <td>41</td>\n",
       "      <td>3</td>\n",
       "      <td>2</td>\n",
       "      <td>16.0</td>\n",
       "    </tr>\n",
       "    <tr>\n",
       "      <th>5156</th>\n",
       "      <td>2190225</td>\n",
       "      <td>138285</td>\n",
       "      <td>18</td>\n",
       "      <td>3</td>\n",
       "      <td>2</td>\n",
       "      <td>11.0</td>\n",
       "    </tr>\n",
       "    <tr>\n",
       "      <th>15506</th>\n",
       "      <td>553049</td>\n",
       "      <td>58599</td>\n",
       "      <td>13</td>\n",
       "      <td>3</td>\n",
       "      <td>2</td>\n",
       "      <td>7.0</td>\n",
       "    </tr>\n",
       "    <tr>\n",
       "      <th>18420</th>\n",
       "      <td>382357</td>\n",
       "      <td>120200</td>\n",
       "      <td>19</td>\n",
       "      <td>3</td>\n",
       "      <td>2</td>\n",
       "      <td>11.0</td>\n",
       "    </tr>\n",
       "    <tr>\n",
       "      <th>24691</th>\n",
       "      <td>690242</td>\n",
       "      <td>77357</td>\n",
       "      <td>2</td>\n",
       "      <td>3</td>\n",
       "      <td>2</td>\n",
       "      <td>9.0</td>\n",
       "    </tr>\n",
       "    <tr>\n",
       "      <th>...</th>\n",
       "      <td>...</td>\n",
       "      <td>...</td>\n",
       "      <td>...</td>\n",
       "      <td>...</td>\n",
       "      <td>...</td>\n",
       "      <td>...</td>\n",
       "    </tr>\n",
       "    <tr>\n",
       "      <th>457013</th>\n",
       "      <td>3384021</td>\n",
       "      <td>14881</td>\n",
       "      <td>6</td>\n",
       "      <td>3</td>\n",
       "      <td>2</td>\n",
       "      <td>30.0</td>\n",
       "    </tr>\n",
       "    <tr>\n",
       "      <th>458816</th>\n",
       "      <td>910166</td>\n",
       "      <td>164782</td>\n",
       "      <td>18</td>\n",
       "      <td>3</td>\n",
       "      <td>2</td>\n",
       "      <td>4.0</td>\n",
       "    </tr>\n",
       "    <tr>\n",
       "      <th>459635</th>\n",
       "      <td>1680532</td>\n",
       "      <td>106435</td>\n",
       "      <td>6</td>\n",
       "      <td>3</td>\n",
       "      <td>2</td>\n",
       "      <td>21.0</td>\n",
       "    </tr>\n",
       "    <tr>\n",
       "      <th>468324</th>\n",
       "      <td>222962</td>\n",
       "      <td>54979</td>\n",
       "      <td>59</td>\n",
       "      <td>3</td>\n",
       "      <td>2</td>\n",
       "      <td>3.0</td>\n",
       "    </tr>\n",
       "    <tr>\n",
       "      <th>477526</th>\n",
       "      <td>2592344</td>\n",
       "      <td>46860</td>\n",
       "      <td>38</td>\n",
       "      <td>3</td>\n",
       "      <td>2</td>\n",
       "      <td>3.0</td>\n",
       "    </tr>\n",
       "  </tbody>\n",
       "</table>\n",
       "<p>121 rows × 6 columns</p>\n",
       "</div>"
      ],
      "text/plain": [
       "        order_id  user_id  order_number  order_dow  order_hour_of_day  \\\n",
       "4838     2766110   162084            41          3                  2   \n",
       "5156     2190225   138285            18          3                  2   \n",
       "15506     553049    58599            13          3                  2   \n",
       "18420     382357   120200            19          3                  2   \n",
       "24691     690242    77357             2          3                  2   \n",
       "...          ...      ...           ...        ...                ...   \n",
       "457013   3384021    14881             6          3                  2   \n",
       "458816    910166   164782            18          3                  2   \n",
       "459635   1680532   106435             6          3                  2   \n",
       "468324    222962    54979            59          3                  2   \n",
       "477526   2592344    46860            38          3                  2   \n",
       "\n",
       "        days_since_prior_order  \n",
       "4838                      16.0  \n",
       "5156                      11.0  \n",
       "15506                      7.0  \n",
       "18420                     11.0  \n",
       "24691                      9.0  \n",
       "...                        ...  \n",
       "457013                    30.0  \n",
       "458816                     4.0  \n",
       "459635                    21.0  \n",
       "468324                     3.0  \n",
       "477526                     3.0  \n",
       "\n",
       "[121 rows x 6 columns]"
      ]
     },
     "execution_count": 4,
     "metadata": {},
     "output_type": "execute_result"
    }
   ],
   "source": [
    "# Check for all orders placed Wednesday at 2:00 AM\n",
    "insta_orders.columns\n",
    "insta_2am_wed = insta_orders[(insta_orders['order_dow'] == 3)&(insta_orders['order_hour_of_day'] == 2)]\n",
    "insta_2am_wed"
   ]
  },
  {
   "cell_type": "code",
   "execution_count": 5,
   "id": "480563c7",
   "metadata": {},
   "outputs": [],
   "source": [
    "# Remove duplicate orders\n",
    "insta_orders = insta_orders.drop_duplicates()"
   ]
  },
  {
   "cell_type": "code",
   "execution_count": 6,
   "id": "0b2396a2",
   "metadata": {},
   "outputs": [
    {
     "data": {
      "text/plain": [
       "0"
      ]
     },
     "execution_count": 6,
     "metadata": {},
     "output_type": "execute_result"
    }
   ],
   "source": [
    "# Double check for duplicate rows\n",
    "insta_orders.duplicated().sum()"
   ]
  },
  {
   "cell_type": "code",
   "execution_count": 7,
   "id": "f6113ef1",
   "metadata": {},
   "outputs": [
    {
     "data": {
      "text/plain": [
       "order_id                  0.0\n",
       "user_id                   0.0\n",
       "order_number              0.0\n",
       "order_dow                 0.0\n",
       "order_hour_of_day         0.0\n",
       "days_since_prior_order    0.0\n",
       "dtype: float64"
      ]
     },
     "execution_count": 7,
     "metadata": {},
     "output_type": "execute_result"
    }
   ],
   "source": [
    "# Double check for duplicate order IDs only\n",
    "order_id_check = insta_orders[insta_orders.duplicated(subset='order_id', keep=False)].sum()\n",
    "order_id_check"
   ]
  },
  {
   "cell_type": "markdown",
   "id": "8da512a2",
   "metadata": {},
   "source": [
    "<div class=\"alert alert-block alert-success\">✔️\n",
    "    \n",
    "\n",
    "__Reviewer's comment №1__\n",
    "\n",
    "Duplicate checking is the basis of data preprocessing"
   ]
  },
  {
   "cell_type": "markdown",
   "id": "d93d56bb",
   "metadata": {},
   "source": []
  },
  {
   "cell_type": "markdown",
   "id": "5e8905ae",
   "metadata": {},
   "source": []
  },
  {
   "cell_type": "markdown",
   "id": "45e6bc46",
   "metadata": {},
   "source": [
    "### `products` data frame"
   ]
  },
  {
   "cell_type": "code",
   "execution_count": 8,
   "id": "5f526b5b-8175-46fa-a0fd-441767d50e64",
   "metadata": {},
   "outputs": [
    {
     "data": {
      "text/plain": [
       "0"
      ]
     },
     "execution_count": 8,
     "metadata": {},
     "output_type": "execute_result"
    }
   ],
   "source": [
    "# Check for fully duplicate rows\n",
    "products.duplicated().sum()"
   ]
  },
  {
   "cell_type": "code",
   "execution_count": 9,
   "id": "88daa4f4",
   "metadata": {},
   "outputs": [
    {
     "data": {
      "text/plain": [
       "product_id       0.0\n",
       "product_name     0.0\n",
       "aisle_id         0.0\n",
       "department_id    0.0\n",
       "dtype: float64"
      ]
     },
     "execution_count": 9,
     "metadata": {},
     "output_type": "execute_result"
    }
   ],
   "source": [
    "# Check for just duplicate product IDs\n",
    "products.columns\n",
    "product_id_check = products[products.duplicated(subset='product_id', keep=False)].sum()\n",
    "product_id_check"
   ]
  },
  {
   "cell_type": "code",
   "execution_count": 10,
   "id": "c773f0bf",
   "metadata": {},
   "outputs": [
    {
     "data": {
      "text/plain": [
       "product_id       35284576\n",
       "aisle_id           132756\n",
       "department_id       27601\n",
       "dtype: int64"
      ]
     },
     "execution_count": 10,
     "metadata": {},
     "output_type": "execute_result"
    }
   ],
   "source": [
    "# Check for just duplicate product names (convert names to lowercase to compare better)\n",
    "product_name_check = products[products['product_name'].str.lower().duplicated()].sum()\n",
    "product_name_check"
   ]
  },
  {
   "cell_type": "code",
   "execution_count": 11,
   "id": "01efd02e",
   "metadata": {},
   "outputs": [
    {
     "data": {
      "text/plain": [
       "3"
      ]
     },
     "execution_count": 11,
     "metadata": {},
     "output_type": "execute_result"
    }
   ],
   "source": [
    "# Check for duplicate product names that aren't missing\n",
    "product_name_check.nunique()"
   ]
  },
  {
   "cell_type": "markdown",
   "id": "9da8d293",
   "metadata": {},
   "source": []
  },
  {
   "cell_type": "markdown",
   "id": "60f30db1",
   "metadata": {},
   "source": [
    "### `departments` data frame"
   ]
  },
  {
   "cell_type": "code",
   "execution_count": 12,
   "id": "fb410ad4-0fbf-4b80-bb09-23fdea79afe3",
   "metadata": {},
   "outputs": [
    {
     "data": {
      "text/html": [
       "<div>\n",
       "<style scoped>\n",
       "    .dataframe tbody tr th:only-of-type {\n",
       "        vertical-align: middle;\n",
       "    }\n",
       "\n",
       "    .dataframe tbody tr th {\n",
       "        vertical-align: top;\n",
       "    }\n",
       "\n",
       "    .dataframe thead th {\n",
       "        text-align: right;\n",
       "    }\n",
       "</style>\n",
       "<table border=\"1\" class=\"dataframe\">\n",
       "  <thead>\n",
       "    <tr style=\"text-align: right;\">\n",
       "      <th></th>\n",
       "      <th>department_id</th>\n",
       "      <th>department</th>\n",
       "    </tr>\n",
       "  </thead>\n",
       "  <tbody>\n",
       "    <tr>\n",
       "      <th>0</th>\n",
       "      <td>1</td>\n",
       "      <td>frozen</td>\n",
       "    </tr>\n",
       "    <tr>\n",
       "      <th>1</th>\n",
       "      <td>2</td>\n",
       "      <td>other</td>\n",
       "    </tr>\n",
       "    <tr>\n",
       "      <th>2</th>\n",
       "      <td>3</td>\n",
       "      <td>bakery</td>\n",
       "    </tr>\n",
       "    <tr>\n",
       "      <th>3</th>\n",
       "      <td>4</td>\n",
       "      <td>produce</td>\n",
       "    </tr>\n",
       "    <tr>\n",
       "      <th>4</th>\n",
       "      <td>5</td>\n",
       "      <td>alcohol</td>\n",
       "    </tr>\n",
       "    <tr>\n",
       "      <th>5</th>\n",
       "      <td>6</td>\n",
       "      <td>international</td>\n",
       "    </tr>\n",
       "    <tr>\n",
       "      <th>6</th>\n",
       "      <td>7</td>\n",
       "      <td>beverages</td>\n",
       "    </tr>\n",
       "    <tr>\n",
       "      <th>7</th>\n",
       "      <td>8</td>\n",
       "      <td>pets</td>\n",
       "    </tr>\n",
       "    <tr>\n",
       "      <th>8</th>\n",
       "      <td>9</td>\n",
       "      <td>dry goods pasta</td>\n",
       "    </tr>\n",
       "    <tr>\n",
       "      <th>9</th>\n",
       "      <td>10</td>\n",
       "      <td>bulk</td>\n",
       "    </tr>\n",
       "    <tr>\n",
       "      <th>10</th>\n",
       "      <td>11</td>\n",
       "      <td>personal care</td>\n",
       "    </tr>\n",
       "    <tr>\n",
       "      <th>11</th>\n",
       "      <td>12</td>\n",
       "      <td>meat seafood</td>\n",
       "    </tr>\n",
       "    <tr>\n",
       "      <th>12</th>\n",
       "      <td>13</td>\n",
       "      <td>pantry</td>\n",
       "    </tr>\n",
       "    <tr>\n",
       "      <th>13</th>\n",
       "      <td>14</td>\n",
       "      <td>breakfast</td>\n",
       "    </tr>\n",
       "    <tr>\n",
       "      <th>14</th>\n",
       "      <td>15</td>\n",
       "      <td>canned goods</td>\n",
       "    </tr>\n",
       "    <tr>\n",
       "      <th>15</th>\n",
       "      <td>16</td>\n",
       "      <td>dairy eggs</td>\n",
       "    </tr>\n",
       "    <tr>\n",
       "      <th>16</th>\n",
       "      <td>17</td>\n",
       "      <td>household</td>\n",
       "    </tr>\n",
       "    <tr>\n",
       "      <th>17</th>\n",
       "      <td>18</td>\n",
       "      <td>babies</td>\n",
       "    </tr>\n",
       "    <tr>\n",
       "      <th>18</th>\n",
       "      <td>19</td>\n",
       "      <td>snacks</td>\n",
       "    </tr>\n",
       "    <tr>\n",
       "      <th>19</th>\n",
       "      <td>20</td>\n",
       "      <td>deli</td>\n",
       "    </tr>\n",
       "    <tr>\n",
       "      <th>20</th>\n",
       "      <td>21</td>\n",
       "      <td>missing</td>\n",
       "    </tr>\n",
       "  </tbody>\n",
       "</table>\n",
       "</div>"
      ],
      "text/plain": [
       "    department_id       department\n",
       "0               1           frozen\n",
       "1               2            other\n",
       "2               3           bakery\n",
       "3               4          produce\n",
       "4               5          alcohol\n",
       "5               6    international\n",
       "6               7        beverages\n",
       "7               8             pets\n",
       "8               9  dry goods pasta\n",
       "9              10             bulk\n",
       "10             11    personal care\n",
       "11             12     meat seafood\n",
       "12             13           pantry\n",
       "13             14        breakfast\n",
       "14             15     canned goods\n",
       "15             16       dairy eggs\n",
       "16             17        household\n",
       "17             18           babies\n",
       "18             19           snacks\n",
       "19             20             deli\n",
       "20             21          missing"
      ]
     },
     "execution_count": 12,
     "metadata": {},
     "output_type": "execute_result"
    }
   ],
   "source": [
    "departments"
   ]
  },
  {
   "cell_type": "code",
   "execution_count": 13,
   "id": "332b12bb",
   "metadata": {},
   "outputs": [
    {
     "name": "stdout",
     "output_type": "stream",
     "text": [
      "<class 'pandas.core.frame.DataFrame'>\n",
      "RangeIndex: 21 entries, 0 to 20\n",
      "Data columns (total 2 columns):\n",
      " #   Column         Non-Null Count  Dtype \n",
      "---  ------         --------------  ----- \n",
      " 0   department_id  21 non-null     int64 \n",
      " 1   department     21 non-null     object\n",
      "dtypes: int64(1), object(1)\n",
      "memory usage: 464.0+ bytes\n"
     ]
    }
   ],
   "source": [
    "departments.info()"
   ]
  },
  {
   "cell_type": "markdown",
   "id": "bd30d78e",
   "metadata": {},
   "source": []
  },
  {
   "cell_type": "markdown",
   "id": "889349c1",
   "metadata": {},
   "source": [
    "### `aisles` data frame"
   ]
  },
  {
   "cell_type": "code",
   "execution_count": 14,
   "id": "9da89fb9-4679-40f5-ad0d-c34df753a3f8",
   "metadata": {},
   "outputs": [
    {
     "data": {
      "text/html": [
       "<div>\n",
       "<style scoped>\n",
       "    .dataframe tbody tr th:only-of-type {\n",
       "        vertical-align: middle;\n",
       "    }\n",
       "\n",
       "    .dataframe tbody tr th {\n",
       "        vertical-align: top;\n",
       "    }\n",
       "\n",
       "    .dataframe thead th {\n",
       "        text-align: right;\n",
       "    }\n",
       "</style>\n",
       "<table border=\"1\" class=\"dataframe\">\n",
       "  <thead>\n",
       "    <tr style=\"text-align: right;\">\n",
       "      <th></th>\n",
       "      <th>aisle_id</th>\n",
       "      <th>aisle</th>\n",
       "    </tr>\n",
       "  </thead>\n",
       "  <tbody>\n",
       "    <tr>\n",
       "      <th>0</th>\n",
       "      <td>1</td>\n",
       "      <td>prepared soups salads</td>\n",
       "    </tr>\n",
       "    <tr>\n",
       "      <th>1</th>\n",
       "      <td>2</td>\n",
       "      <td>specialty cheeses</td>\n",
       "    </tr>\n",
       "    <tr>\n",
       "      <th>2</th>\n",
       "      <td>3</td>\n",
       "      <td>energy granola bars</td>\n",
       "    </tr>\n",
       "    <tr>\n",
       "      <th>3</th>\n",
       "      <td>4</td>\n",
       "      <td>instant foods</td>\n",
       "    </tr>\n",
       "    <tr>\n",
       "      <th>4</th>\n",
       "      <td>5</td>\n",
       "      <td>marinades meat preparation</td>\n",
       "    </tr>\n",
       "    <tr>\n",
       "      <th>...</th>\n",
       "      <td>...</td>\n",
       "      <td>...</td>\n",
       "    </tr>\n",
       "    <tr>\n",
       "      <th>129</th>\n",
       "      <td>130</td>\n",
       "      <td>hot cereal pancake mixes</td>\n",
       "    </tr>\n",
       "    <tr>\n",
       "      <th>130</th>\n",
       "      <td>131</td>\n",
       "      <td>dry pasta</td>\n",
       "    </tr>\n",
       "    <tr>\n",
       "      <th>131</th>\n",
       "      <td>132</td>\n",
       "      <td>beauty</td>\n",
       "    </tr>\n",
       "    <tr>\n",
       "      <th>132</th>\n",
       "      <td>133</td>\n",
       "      <td>muscles joints pain relief</td>\n",
       "    </tr>\n",
       "    <tr>\n",
       "      <th>133</th>\n",
       "      <td>134</td>\n",
       "      <td>specialty wines champagnes</td>\n",
       "    </tr>\n",
       "  </tbody>\n",
       "</table>\n",
       "<p>134 rows × 2 columns</p>\n",
       "</div>"
      ],
      "text/plain": [
       "     aisle_id                       aisle\n",
       "0           1       prepared soups salads\n",
       "1           2           specialty cheeses\n",
       "2           3         energy granola bars\n",
       "3           4               instant foods\n",
       "4           5  marinades meat preparation\n",
       "..        ...                         ...\n",
       "129       130    hot cereal pancake mixes\n",
       "130       131                   dry pasta\n",
       "131       132                      beauty\n",
       "132       133  muscles joints pain relief\n",
       "133       134  specialty wines champagnes\n",
       "\n",
       "[134 rows x 2 columns]"
      ]
     },
     "execution_count": 14,
     "metadata": {},
     "output_type": "execute_result"
    }
   ],
   "source": [
    "aisles"
   ]
  },
  {
   "cell_type": "code",
   "execution_count": 15,
   "id": "da7c2822",
   "metadata": {},
   "outputs": [
    {
     "name": "stdout",
     "output_type": "stream",
     "text": [
      "<class 'pandas.core.frame.DataFrame'>\n",
      "RangeIndex: 134 entries, 0 to 133\n",
      "Data columns (total 2 columns):\n",
      " #   Column    Non-Null Count  Dtype \n",
      "---  ------    --------------  ----- \n",
      " 0   aisle_id  134 non-null    int64 \n",
      " 1   aisle     134 non-null    object\n",
      "dtypes: int64(1), object(1)\n",
      "memory usage: 2.2+ KB\n"
     ]
    }
   ],
   "source": [
    "aisles.info()"
   ]
  },
  {
   "cell_type": "markdown",
   "id": "ac63826f",
   "metadata": {},
   "source": []
  },
  {
   "cell_type": "markdown",
   "id": "274cd06a",
   "metadata": {},
   "source": [
    "### `order_products` data frame"
   ]
  },
  {
   "cell_type": "code",
   "execution_count": 16,
   "id": "52326689-84a8-4b8f-a881-7c68780f62c9",
   "metadata": {},
   "outputs": [
    {
     "data": {
      "text/plain": [
       "0"
      ]
     },
     "execution_count": 16,
     "metadata": {},
     "output_type": "execute_result"
    }
   ],
   "source": [
    "# Check for fullly duplicate rows\n",
    "order_products.duplicated().sum()"
   ]
  },
  {
   "cell_type": "code",
   "execution_count": 17,
   "id": "7b861391",
   "metadata": {},
   "outputs": [
    {
     "data": {
      "text/html": [
       "<div>\n",
       "<style scoped>\n",
       "    .dataframe tbody tr th:only-of-type {\n",
       "        vertical-align: middle;\n",
       "    }\n",
       "\n",
       "    .dataframe tbody tr th {\n",
       "        vertical-align: top;\n",
       "    }\n",
       "\n",
       "    .dataframe thead th {\n",
       "        text-align: right;\n",
       "    }\n",
       "</style>\n",
       "<table border=\"1\" class=\"dataframe\">\n",
       "  <thead>\n",
       "    <tr style=\"text-align: right;\">\n",
       "      <th></th>\n",
       "      <th>order_id</th>\n",
       "      <th>product_id</th>\n",
       "      <th>add_to_cart_order</th>\n",
       "      <th>reordered</th>\n",
       "    </tr>\n",
       "  </thead>\n",
       "  <tbody>\n",
       "  </tbody>\n",
       "</table>\n",
       "</div>"
      ],
      "text/plain": [
       "Empty DataFrame\n",
       "Columns: [order_id, product_id, add_to_cart_order, reordered]\n",
       "Index: []"
      ]
     },
     "execution_count": 17,
     "metadata": {},
     "output_type": "execute_result"
    }
   ],
   "source": [
    "# Double check for any other tricky duplicates\n",
    "order_products[order_products.duplicated(subset=['order_id', 'product_id'])]"
   ]
  },
  {
   "cell_type": "markdown",
   "id": "0aac834f",
   "metadata": {},
   "source": [
    "STUDENT COMMENT: \n",
    "\n",
    "I replaced my code with the example provided, thank you! I have a question, what was wrong with my code exactly? My code is listed below and any insight helps, thanks again! \n",
    "\n",
    "order_products['order_id'].nunique() + order_products['product_id'].nunique()"
   ]
  },
  {
   "cell_type": "markdown",
   "id": "4ce315a5",
   "metadata": {},
   "source": [
    "<div class=\"alert alert-block alert-danger\">✍\n",
    "    \n",
    "\n",
    "__Reviewer's comment №1__\n",
    "\n",
    "We need to check for duplicate columns: 'order_id` and 'product_id'\n",
    "    \n",
    "STUDENT COMMENT \n",
    "    \n",
    "I accidentally turned this comment into a code type cell.\n",
    "    \n",
    "Also, I changed the above code to check only for duplicates in both the 'order_id' and 'product_id' columns."
   ]
  },
  {
   "cell_type": "markdown",
   "id": "f924ee98",
   "metadata": {},
   "source": [
    "<div class=\"alert alert-block alert-danger\">✍\n",
    "    \n",
    "\n",
    "__Reviewer's comment №2__\n",
    "\n",
    "Please see an example:\n",
    "    \n",
    "    order_products[order_products.duplicated(subset=['order_id', 'product_id'])]"
   ]
  },
  {
   "cell_type": "markdown",
   "id": "9a292310",
   "metadata": {},
   "source": [
    "<div class=\"alert alert-block alert-success\">✔️\n",
    "    \n",
    "\n",
    "__Reviewer's comment №3__\n",
    "\n",
    "Now correct"
   ]
  },
  {
   "cell_type": "markdown",
   "id": "0b890492",
   "metadata": {},
   "source": []
  },
  {
   "cell_type": "markdown",
   "id": "1e46de76",
   "metadata": {},
   "source": [
    "## Find and remove missing values\n"
   ]
  },
  {
   "cell_type": "markdown",
   "id": "c0aebd78",
   "metadata": {},
   "source": [
    "### `products` data frame"
   ]
  },
  {
   "cell_type": "code",
   "execution_count": 18,
   "id": "fe4a8b0f",
   "metadata": {},
   "outputs": [
    {
     "data": {
      "text/plain": [
       "product_id       31706543\n",
       "product_name            0\n",
       "aisle_id           125800\n",
       "department_id       26418\n",
       "dtype: object"
      ]
     },
     "execution_count": 18,
     "metadata": {},
     "output_type": "execute_result"
    }
   ],
   "source": [
    "products[products['product_name'].isna()].sum()"
   ]
  },
  {
   "cell_type": "code",
   "execution_count": 19,
   "id": "e96167bc",
   "metadata": {},
   "outputs": [
    {
     "data": {
      "text/plain": [
       "product_id       31706543\n",
       "product_name            0\n",
       "aisle_id           125800\n",
       "department_id       26418\n",
       "dtype: object"
      ]
     },
     "execution_count": 19,
     "metadata": {},
     "output_type": "execute_result"
    }
   ],
   "source": [
    "# Are all of the missing product names associated with aisle ID 100?\n",
    "aisle_100 = products[(products['aisle_id'] == 100)]\n",
    "aisle_100.sum()"
   ]
  },
  {
   "cell_type": "code",
   "execution_count": 20,
   "id": "8fd0a541",
   "metadata": {},
   "outputs": [
    {
     "data": {
      "text/plain": [
       "product_id       31706543\n",
       "product_name            0\n",
       "aisle_id           125800\n",
       "department_id       26418\n",
       "dtype: object"
      ]
     },
     "execution_count": 20,
     "metadata": {},
     "output_type": "execute_result"
    }
   ],
   "source": [
    "# Are all of the missing product names associated with department ID 21?\n",
    "dept_id_21 = products[products['department_id']==21].sum()\n",
    "dept_id_21"
   ]
  },
  {
   "cell_type": "code",
   "execution_count": 21,
   "id": "325c3464",
   "metadata": {},
   "outputs": [
    {
     "name": "stdout",
     "output_type": "stream",
     "text": [
      "missing missing\n"
     ]
    }
   ],
   "source": [
    "# What is this ailse and department?\n",
    "aisle_name = aisles.loc[aisles['aisle_id'] == 100, 'aisle'].values[0]\n",
    "department_name = departments.loc[departments['department_id'] == 21, 'department'].values[0]\n",
    "print(aisle_name, department_name) "
   ]
  },
  {
   "cell_type": "code",
   "execution_count": 22,
   "id": "6b295120",
   "metadata": {},
   "outputs": [],
   "source": [
    "# Fill missing product names with 'Unknown'\n",
    "products['product_name'].fillna('Unknown', inplace=True)"
   ]
  },
  {
   "cell_type": "markdown",
   "id": "da8914b4",
   "metadata": {},
   "source": [
    "<div class=\"alert alert-block alert-success\">✔️\n",
    "    \n",
    "\n",
    "__Reviewer's comment №1__\n",
    "\n",
    "You chose the most correct way to replace the omissions in the categorical column. Well done!)"
   ]
  },
  {
   "cell_type": "markdown",
   "id": "1c6af17d",
   "metadata": {},
   "source": []
  },
  {
   "cell_type": "markdown",
   "id": "fc70e5ad",
   "metadata": {},
   "source": []
  },
  {
   "cell_type": "markdown",
   "id": "7eb45c86",
   "metadata": {},
   "source": [
    "### `orders` data frame"
   ]
  },
  {
   "cell_type": "code",
   "execution_count": 23,
   "id": "93e41d96",
   "metadata": {},
   "outputs": [
    {
     "data": {
      "text/plain": [
       "order_id                  0.0\n",
       "user_id                   0.0\n",
       "order_number              0.0\n",
       "order_dow                 0.0\n",
       "order_hour_of_day         0.0\n",
       "days_since_prior_order    0.0\n",
       "dtype: float64"
      ]
     },
     "execution_count": 23,
     "metadata": {},
     "output_type": "execute_result"
    }
   ],
   "source": [
    "insta_orders[insta_orders['order_id'].isna()].sum()"
   ]
  },
  {
   "cell_type": "code",
   "execution_count": 24,
   "id": "166e5a86",
   "metadata": {},
   "outputs": [
    {
     "data": {
      "text/plain": [
       "order_id                  4.919328e+10\n",
       "user_id                   2.977022e+09\n",
       "order_number              2.881700e+04\n",
       "order_dow                 7.935500e+04\n",
       "order_hour_of_day         3.926730e+05\n",
       "days_since_prior_order    0.000000e+00\n",
       "dtype: float64"
      ]
     },
     "execution_count": 24,
     "metadata": {},
     "output_type": "execute_result"
    }
   ],
   "source": [
    "# Are there any missing values where it's not a customer's first order?\n",
    "insta_orders[insta_orders['days_since_prior_order'].isna()].sum()"
   ]
  },
  {
   "cell_type": "markdown",
   "id": "4e23d089",
   "metadata": {},
   "source": []
  },
  {
   "cell_type": "markdown",
   "id": "69dc9ca4",
   "metadata": {},
   "source": [
    "### `order_products` data frame"
   ]
  },
  {
   "cell_type": "code",
   "execution_count": 25,
   "id": "b8240253",
   "metadata": {},
   "outputs": [
    {
     "data": {
      "text/plain": [
       "order_id             1.290645e+09\n",
       "product_id           2.030451e+07\n",
       "add_to_cart_order    0.000000e+00\n",
       "reordered            3.190000e+02\n",
       "dtype: float64"
      ]
     },
     "execution_count": 25,
     "metadata": {},
     "output_type": "execute_result"
    }
   ],
   "source": [
    "order_products[order_products['add_to_cart_order'].isna()].sum()"
   ]
  },
  {
   "cell_type": "code",
   "execution_count": 26,
   "id": "9a78e5ee",
   "metadata": {},
   "outputs": [
    {
     "name": "stdout",
     "output_type": "stream",
     "text": [
      "1.0 64.0\n"
     ]
    }
   ],
   "source": [
    "# What are the min and max values in this column?\n",
    "minimum = order_products['add_to_cart_order'].min()\n",
    "maximum = order_products['add_to_cart_order'].max()\n",
    "print(minimum, maximum)"
   ]
  },
  {
   "cell_type": "code",
   "execution_count": 27,
   "id": "ab9d0c2b",
   "metadata": {},
   "outputs": [
    {
     "data": {
      "text/plain": [
       "[2449164,\n",
       " 1968313,\n",
       " 2926893,\n",
       " 1717990,\n",
       " 1959075,\n",
       " 844733,\n",
       " 61355,\n",
       " 936852,\n",
       " 264710,\n",
       " 1717990,\n",
       " 1564093,\n",
       " 129627,\n",
       " 264710,\n",
       " 293169,\n",
       " 2849370,\n",
       " 1386261,\n",
       " 3308010,\n",
       " 903110,\n",
       " 2136777,\n",
       " 3347453,\n",
       " 1888628,\n",
       " 165801,\n",
       " 2449164,\n",
       " 2094761,\n",
       " 3347453,\n",
       " 1038146,\n",
       " 2136777,\n",
       " 2997021,\n",
       " 844733,\n",
       " 844733,\n",
       " 2136777,\n",
       " 813364,\n",
       " 165801,\n",
       " 2256933,\n",
       " 171934,\n",
       " 264710,\n",
       " 2449164,\n",
       " 2409109,\n",
       " 3347453,\n",
       " 813364,\n",
       " 2926893,\n",
       " 936852,\n",
       " 1730767,\n",
       " 1169835,\n",
       " 733526,\n",
       " 844733,\n",
       " 293169,\n",
       " 61355,\n",
       " 903110,\n",
       " 1968313,\n",
       " 733526,\n",
       " 2136777,\n",
       " 2926893,\n",
       " 404157,\n",
       " 1386261,\n",
       " 171934,\n",
       " 3125735,\n",
       " 747668,\n",
       " 3308010,\n",
       " 1169835,\n",
       " 1800005,\n",
       " 1961723,\n",
       " 936852,\n",
       " 2849370,\n",
       " 3308010,\n",
       " 61355,\n",
       " 871281,\n",
       " 1717990,\n",
       " 813364,\n",
       " 388234,\n",
       " 61355,\n",
       " 3125735,\n",
       " 1959075,\n",
       " 61355,\n",
       " 3125735,\n",
       " 1648217,\n",
       " 171934,\n",
       " 3125735,\n",
       " 61355,\n",
       " 1477139,\n",
       " 1959075,\n",
       " 1717990,\n",
       " 1717990,\n",
       " 61355,\n",
       " 1717990,\n",
       " 171934,\n",
       " 1038146,\n",
       " 3308010,\n",
       " 3347453,\n",
       " 102236,\n",
       " 936852,\n",
       " 171934,\n",
       " 1730767,\n",
       " 2926893,\n",
       " 1021563,\n",
       " 1832957,\n",
       " 1959075,\n",
       " 2256933,\n",
       " 1968313,\n",
       " 2721963,\n",
       " 293169,\n",
       " 102236,\n",
       " 3125735,\n",
       " 1959075,\n",
       " 264710,\n",
       " 678116,\n",
       " 1220886,\n",
       " 1386261,\n",
       " 171934,\n",
       " 1959075,\n",
       " 61355,\n",
       " 3308010,\n",
       " 61355,\n",
       " 102236,\n",
       " 388234,\n",
       " 171934,\n",
       " 3308010,\n",
       " 1961723,\n",
       " 2721963,\n",
       " 3308010,\n",
       " 1564093,\n",
       " 264710,\n",
       " 404157,\n",
       " 1673227,\n",
       " 813364,\n",
       " 2094761,\n",
       " 844733,\n",
       " 1386261,\n",
       " 1959075,\n",
       " 3125735,\n",
       " 61355,\n",
       " 102236,\n",
       " 3308010,\n",
       " 1386261,\n",
       " 936852,\n",
       " 2999801,\n",
       " 1038146,\n",
       " 1888628,\n",
       " 813364,\n",
       " 1800005,\n",
       " 1968313,\n",
       " 3308010,\n",
       " 2449164,\n",
       " 388234,\n",
       " 3125735,\n",
       " 102236,\n",
       " 903110,\n",
       " 1832957,\n",
       " 102236,\n",
       " 3308010,\n",
       " 2926893,\n",
       " 388234,\n",
       " 1800005,\n",
       " 2094761,\n",
       " 2721963,\n",
       " 844733,\n",
       " 2136777,\n",
       " 2926893,\n",
       " 813364,\n",
       " 2136777,\n",
       " 1673227,\n",
       " 1633337,\n",
       " 1021563,\n",
       " 102236,\n",
       " 1800005,\n",
       " 1477139,\n",
       " 2470674,\n",
       " 1220886,\n",
       " 2470674,\n",
       " 1648217,\n",
       " 264710,\n",
       " 1832957,\n",
       " 2721963,\n",
       " 2849370,\n",
       " 2625444,\n",
       " 871281,\n",
       " 1717990,\n",
       " 1220886,\n",
       " 1677118,\n",
       " 1730767,\n",
       " 1730767,\n",
       " 678116,\n",
       " 102236,\n",
       " 2136777,\n",
       " 61355,\n",
       " 2136777,\n",
       " 903110,\n",
       " 844733,\n",
       " 2849370,\n",
       " 1832957,\n",
       " 1730767,\n",
       " 2479011,\n",
       " 3383594,\n",
       " 61355,\n",
       " 1832957,\n",
       " 1021563,\n",
       " 1021563,\n",
       " 1959075,\n",
       " 1832957,\n",
       " 813364,\n",
       " 61355,\n",
       " 61355,\n",
       " 2926893,\n",
       " 1959075,\n",
       " 1648217,\n",
       " 2136777,\n",
       " 264710,\n",
       " 1800005,\n",
       " 2094761,\n",
       " 2926893,\n",
       " 1959075,\n",
       " 264710,\n",
       " 61355,\n",
       " 3308010,\n",
       " 2256933,\n",
       " 936852,\n",
       " 3308010,\n",
       " 1038146,\n",
       " 1183255,\n",
       " 2256933,\n",
       " 1832957,\n",
       " 1386261,\n",
       " 1713430,\n",
       " 1730767,\n",
       " 2136777,\n",
       " 3308010,\n",
       " 1717990,\n",
       " 171934,\n",
       " 1968313,\n",
       " 1717990,\n",
       " 2136777,\n",
       " 1648217,\n",
       " 1968313,\n",
       " 2652650,\n",
       " 733526,\n",
       " 1673227,\n",
       " 2849370,\n",
       " 61355,\n",
       " 3308010,\n",
       " 1169835,\n",
       " 3308010,\n",
       " 171934,\n",
       " 2999801,\n",
       " 1717990,\n",
       " 1386261,\n",
       " 936852,\n",
       " 1968313,\n",
       " 1713430,\n",
       " 1800005,\n",
       " 2136777,\n",
       " 264710,\n",
       " 264710,\n",
       " 2926893,\n",
       " 165801,\n",
       " 1598369,\n",
       " 2997021,\n",
       " 1730767,\n",
       " 61355,\n",
       " 1916118,\n",
       " 1730767,\n",
       " 3308010,\n",
       " 2479011,\n",
       " 2449164,\n",
       " 61355,\n",
       " 3125735,\n",
       " 2094761,\n",
       " 1888628,\n",
       " 3125735,\n",
       " 264710,\n",
       " 171934,\n",
       " 1800005,\n",
       " 1038146,\n",
       " 1959075,\n",
       " 102236,\n",
       " 3308010,\n",
       " 1386261,\n",
       " 1800005,\n",
       " 2470674,\n",
       " 2926893,\n",
       " 2470674,\n",
       " 102236,\n",
       " 3308010,\n",
       " 1717990,\n",
       " 903110,\n",
       " 2997021,\n",
       " 129627,\n",
       " 3383594,\n",
       " 3308010,\n",
       " 1386261,\n",
       " 854647,\n",
       " 102236,\n",
       " 1038146,\n",
       " 3308010,\n",
       " 936852,\n",
       " 264710,\n",
       " 264710,\n",
       " 1800005,\n",
       " 61355,\n",
       " 1220886,\n",
       " 2136777,\n",
       " 293169,\n",
       " 1800005,\n",
       " 1888628,\n",
       " 813364,\n",
       " 2136777,\n",
       " 61355,\n",
       " 1730767,\n",
       " 1021563,\n",
       " 2721963,\n",
       " 1730767,\n",
       " 1564093,\n",
       " 3308010,\n",
       " 2849370,\n",
       " 3308010,\n",
       " 1302315,\n",
       " 1888628,\n",
       " 61355,\n",
       " 1959075,\n",
       " 61355,\n",
       " 2136777,\n",
       " 733526,\n",
       " 3308010,\n",
       " 1730767,\n",
       " 1183255,\n",
       " 264710,\n",
       " 1730767,\n",
       " 678116,\n",
       " 2721963,\n",
       " 2136777,\n",
       " 3308010,\n",
       " 2721963,\n",
       " 2409109,\n",
       " 871281,\n",
       " 171934,\n",
       " 678116,\n",
       " 2849370,\n",
       " 813364,\n",
       " 3125735,\n",
       " 1730767,\n",
       " 61355,\n",
       " 2999801,\n",
       " 1648217,\n",
       " 936852,\n",
       " 3125735,\n",
       " 61355,\n",
       " 2849370,\n",
       " 1220886,\n",
       " 1959075,\n",
       " 2256933,\n",
       " 171934,\n",
       " 2926893,\n",
       " 2926893,\n",
       " 404157,\n",
       " 2136777,\n",
       " 3308010,\n",
       " 1021563,\n",
       " 404157,\n",
       " 171934,\n",
       " 61355,\n",
       " 2094761,\n",
       " 1832957,\n",
       " 293169,\n",
       " 813364,\n",
       " 293169,\n",
       " 3125735,\n",
       " 1021563,\n",
       " 1800005,\n",
       " 3308010,\n",
       " 936852,\n",
       " 264710,\n",
       " 171934,\n",
       " 888470,\n",
       " 1673227,\n",
       " 871281,\n",
       " 1800005,\n",
       " 3308010,\n",
       " 1730767,\n",
       " 180546,\n",
       " 2621907,\n",
       " 1730767,\n",
       " 936852,\n",
       " 1959075,\n",
       " 1169835,\n",
       " 1730767,\n",
       " 2926893,\n",
       " 854647,\n",
       " 2449164,\n",
       " 3308010,\n",
       " 2470674,\n",
       " 1183255,\n",
       " 61355,\n",
       " 1386261,\n",
       " 903110,\n",
       " 2094761,\n",
       " 903110,\n",
       " 264710,\n",
       " 1648217,\n",
       " 293169,\n",
       " 2479011,\n",
       " 1730767,\n",
       " 1730767,\n",
       " 2926893,\n",
       " 61355,\n",
       " 3125735,\n",
       " 1959075,\n",
       " 2409109,\n",
       " 2926893,\n",
       " 1021563,\n",
       " 1386261,\n",
       " 3308010,\n",
       " 2926893,\n",
       " 1800005,\n",
       " 61355,\n",
       " 2449164,\n",
       " 102236,\n",
       " 3308010,\n",
       " 1308785,\n",
       " 1800005,\n",
       " 2926893,\n",
       " 61355,\n",
       " 2136777,\n",
       " 1717990,\n",
       " 3308010,\n",
       " 1730767,\n",
       " 871281,\n",
       " 1673227,\n",
       " 102236,\n",
       " 2136777,\n",
       " 1717990,\n",
       " 813364,\n",
       " 1800005,\n",
       " 1959075,\n",
       " 813364,\n",
       " 165801,\n",
       " 2136777,\n",
       " 2729254,\n",
       " 1673227,\n",
       " 1961723,\n",
       " 61355,\n",
       " 1183255,\n",
       " 2136777,\n",
       " 1302315,\n",
       " 1386261,\n",
       " 2849370,\n",
       " 171934,\n",
       " 2136777,\n",
       " 3308010,\n",
       " 733526,\n",
       " 1959075,\n",
       " 9310,\n",
       " 813364,\n",
       " 2170451,\n",
       " 1800005,\n",
       " 404157,\n",
       " 871281,\n",
       " 3125735,\n",
       " 2721963,\n",
       " 404157,\n",
       " 129627,\n",
       " 678116,\n",
       " 2926893,\n",
       " 264710,\n",
       " 2256933,\n",
       " 102236,\n",
       " 102236,\n",
       " 1021563,\n",
       " 264710,\n",
       " 2926893,\n",
       " 936852,\n",
       " 102236,\n",
       " 1968313,\n",
       " 936852,\n",
       " 293169,\n",
       " 2136777,\n",
       " 2136777,\n",
       " 61355,\n",
       " 1183255,\n",
       " 1730767,\n",
       " 1800005,\n",
       " 2479011,\n",
       " 1386261,\n",
       " 1800005,\n",
       " 1673227,\n",
       " 3308010,\n",
       " 2926893,\n",
       " 2926893,\n",
       " 61355,\n",
       " 1832957,\n",
       " 1717990,\n",
       " 813364,\n",
       " 2999801,\n",
       " 264710,\n",
       " 3308010,\n",
       " 3347453,\n",
       " 3308010,\n",
       " 936852,\n",
       " 813364,\n",
       " 404157,\n",
       " 171934,\n",
       " 903110,\n",
       " 871281,\n",
       " 102236,\n",
       " 61355,\n",
       " 813364,\n",
       " 102236,\n",
       " 3308010,\n",
       " 1800005,\n",
       " 1832957,\n",
       " 2479011,\n",
       " 171934,\n",
       " 171934,\n",
       " 844733,\n",
       " 3308010,\n",
       " 171934,\n",
       " 1800005,\n",
       " 404157,\n",
       " 1673227,\n",
       " 3383594,\n",
       " 3308010,\n",
       " 2136777,\n",
       " 102236,\n",
       " 1717990,\n",
       " 2094761,\n",
       " 102236,\n",
       " 1959075,\n",
       " 171934,\n",
       " 2136777,\n",
       " 1386261,\n",
       " 2136777,\n",
       " 2449164,\n",
       " 171934,\n",
       " 3308010,\n",
       " 1220886,\n",
       " 2136777,\n",
       " 1959075,\n",
       " 2136777,\n",
       " 171934,\n",
       " 936852,\n",
       " 3308010,\n",
       " 2470674,\n",
       " 871281,\n",
       " 2721963,\n",
       " 102236,\n",
       " 61355,\n",
       " 3125735,\n",
       " 3308010,\n",
       " 1386261,\n",
       " 1717990,\n",
       " 293169,\n",
       " 61355,\n",
       " 1386261,\n",
       " 2721963,\n",
       " 2136777,\n",
       " 1888628,\n",
       " 264710,\n",
       " 1564093,\n",
       " 2136777,\n",
       " 1730767,\n",
       " 2849370,\n",
       " 2721963,\n",
       " 293169,\n",
       " 264710,\n",
       " 2721963,\n",
       " 3125735,\n",
       " 1959075,\n",
       " 404157,\n",
       " 171934,\n",
       " 61355,\n",
       " 1959075,\n",
       " 871281,\n",
       " 61355,\n",
       " 1183255,\n",
       " 1673227,\n",
       " 2849370,\n",
       " 1477139,\n",
       " 1730767,\n",
       " 903110,\n",
       " 844733,\n",
       " 3308010,\n",
       " 1673227,\n",
       " 61355,\n",
       " 171934,\n",
       " 2926893,\n",
       " 2926893,\n",
       " 1959075,\n",
       " 2479011,\n",
       " 3347453,\n",
       " 2721963,\n",
       " 2625444,\n",
       " 171934,\n",
       " 813364,\n",
       " 102236,\n",
       " 61355,\n",
       " 844733,\n",
       " 2721963,\n",
       " 1302315,\n",
       " 813364,\n",
       " 61355,\n",
       " 2926893,\n",
       " 1968313,\n",
       " 1968313,\n",
       " 264710,\n",
       " 1717990,\n",
       " 1730767,\n",
       " 2136777,\n",
       " 2721963,\n",
       " 2136777,\n",
       " 2721963,\n",
       " 171934,\n",
       " 171934,\n",
       " 2979697,\n",
       " 1730767,\n",
       " 1888628,\n",
       " 1625713,\n",
       " 2136777,\n",
       " 1800005,\n",
       " 2094761,\n",
       " 1961723,\n",
       " 1564093,\n",
       " 1959075,\n",
       " 1916118,\n",
       " 61355,\n",
       " 2997021,\n",
       " 293169,\n",
       " 3308010,\n",
       " 1529171,\n",
       " 61355,\n",
       " 2256933,\n",
       " 1959075,\n",
       " 2449164,\n",
       " 1673227,\n",
       " 2479011,\n",
       " 1888628,\n",
       " 1800005,\n",
       " 2470674,\n",
       " 1386261,\n",
       " 3125735,\n",
       " 2721963,\n",
       " 2926893,\n",
       " 1800005,\n",
       " 1386261,\n",
       " 2136777,\n",
       " 61355,\n",
       " 171934,\n",
       " 3308010,\n",
       " 61355,\n",
       " 936852,\n",
       " 61355,\n",
       " 936852,\n",
       " 293169,\n",
       " 1386261,\n",
       " 171934,\n",
       " 1800005,\n",
       " 871281,\n",
       " 3125735,\n",
       " 61355,\n",
       " 1959075,\n",
       " 1968313,\n",
       " 1717990,\n",
       " 3308010,\n",
       " 844733,\n",
       " 129627,\n",
       " 844733,\n",
       " 264710,\n",
       " 165801,\n",
       " 1386261,\n",
       " 2136777,\n",
       " 2721963,\n",
       " 1730767,\n",
       " 3125735,\n",
       " 2136777,\n",
       " 1183255,\n",
       " 171934,\n",
       " 936852,\n",
       " 854647,\n",
       " 1386261,\n",
       " 2926893,\n",
       " 1961723,\n",
       " 61355,\n",
       " 1730767,\n",
       " 1633337,\n",
       " 61355,\n",
       " 1959075,\n",
       " 102236,\n",
       " 404157,\n",
       " 1968313,\n",
       " 1386261,\n",
       " 2136777,\n",
       " 2999801,\n",
       " 1529171,\n",
       " 2721963,\n",
       " 61355,\n",
       " 3383594,\n",
       " 1730767,\n",
       " 936852,\n",
       " 2926893,\n",
       " 102236,\n",
       " 1959075,\n",
       " 102236,\n",
       " 1713430,\n",
       " 3383594,\n",
       " 102236,\n",
       " 1959075,\n",
       " 678116,\n",
       " 2449164,\n",
       " 844733,\n",
       " 61355,\n",
       " 3308010,\n",
       " 61355,\n",
       " 2136777,\n",
       " 264710,\n",
       " 171934,\n",
       " 813364,\n",
       " 3308010,\n",
       " 1730767,\n",
       " 61355,\n",
       " 102236,\n",
       " 61355,\n",
       " 1717990,\n",
       " 3308010,\n",
       " 1968313,\n",
       " 129627,\n",
       " 936852,\n",
       " 61355,\n",
       " 61355,\n",
       " 165801,\n",
       " 2409109,\n",
       " 2926893,\n",
       " 61355,\n",
       " 1961723,\n",
       " 1832957,\n",
       " 1961723,\n",
       " 1183255,\n",
       " 61355,\n",
       " 2999801,\n",
       " 1220886,\n",
       " 3125735,\n",
       " 171934,\n",
       " 388234,\n",
       " 102236,\n",
       " 102236,\n",
       " 61355,\n",
       " 2721963,\n",
       " 1800005,\n",
       " 1968313,\n",
       " 2136777,\n",
       " 61355,\n",
       " 1220886,\n",
       " 61355,\n",
       " 936852,\n",
       " 1673227,\n",
       " 936852,\n",
       " 1673227,\n",
       " 1625713,\n",
       " 171934,\n",
       " 2136777,\n",
       " 1800005,\n",
       " 1730767,\n",
       " 264710,\n",
       " 102236,\n",
       " 61355,\n",
       " 903110,\n",
       " 2136777,\n",
       " 1959075,\n",
       " 3125735,\n",
       " 171934,\n",
       " 1169835,\n",
       " 3308010,\n",
       " 61355,\n",
       " 1959075,\n",
       " 2721963,\n",
       " 813364,\n",
       " 1477139,\n",
       " 1888628,\n",
       " 1730767,\n",
       " 1959075,\n",
       " 2479011,\n",
       " 3308010,\n",
       " 2721963,\n",
       " 1717990,\n",
       " 2409109,\n",
       " 171934,\n",
       " 171934,\n",
       " 1183255,\n",
       " 1800005,\n",
       " 171934,\n",
       " 2136777,\n",
       " 388234,\n",
       " 264710,\n",
       " 61355,\n",
       " 1730767,\n",
       " 1717990,\n",
       " 1916118,\n",
       " 264710,\n",
       " 3125735,\n",
       " 1959075,\n",
       " 813364,\n",
       " 3347453,\n",
       " 293169,\n",
       " 171934,\n",
       " 1386261,\n",
       " 1183255,\n",
       " 1717990,\n",
       " 1308785,\n",
       " 2625444,\n",
       " 171934,\n",
       " 102236,\n",
       " 1386261,\n",
       " 1968313,\n",
       " 1386261,\n",
       " 404157,\n",
       " 1959075,\n",
       " 1832957,\n",
       " 1961723,\n",
       " 936852,\n",
       " 1386261,\n",
       " 2449164,\n",
       " 171934,\n",
       " 1959075,\n",
       " 2449164,\n",
       " 180546,\n",
       " 1183255,\n",
       " 1386261,\n",
       " 1968313,\n",
       " 2136777,\n",
       " 3308010,\n",
       " 2479011,\n",
       " 2979697,\n",
       " 1888628,\n",
       " 1832957,\n",
       " 1961723,\n",
       " 1800005,\n",
       " 1633337,\n",
       " 404157,\n",
       " 1673227,\n",
       " 1832957]"
      ]
     },
     "execution_count": 27,
     "metadata": {},
     "output_type": "execute_result"
    }
   ],
   "source": [
    "# Save all order IDs with at least one missing value in 'add_to_cart_order'\n",
    "missing_atco = order_products[order_products['add_to_cart_order'].isna()]\n",
    "missing_order_ids = missing_atco['order_id'].tolist()\n",
    "missing_order_ids"
   ]
  },
  {
   "cell_type": "code",
   "execution_count": 28,
   "id": "54c31695",
   "metadata": {},
   "outputs": [
    {
     "data": {
      "text/plain": [
       "order_id             0.0\n",
       "product_id           0.0\n",
       "add_to_cart_order    0.0\n",
       "reordered            0.0\n",
       "dtype: float64"
      ]
     },
     "execution_count": 28,
     "metadata": {},
     "output_type": "execute_result"
    }
   ],
   "source": [
    "# Do all orders with missing values have more than 64 products?\n",
    "missing_orders = order_products[(order_products['add_to_cart_order'] < 65) & (order_products['order_id'].isna())].sum()\n",
    "missing_orders"
   ]
  },
  {
   "cell_type": "code",
   "execution_count": 29,
   "id": "7a987d08",
   "metadata": {},
   "outputs": [
    {
     "data": {
      "text/plain": [
       "836"
      ]
     },
     "execution_count": 29,
     "metadata": {},
     "output_type": "execute_result"
    }
   ],
   "source": [
    "# Replace missing values with 999 and convert column to integer type\n",
    "order_products['add_to_cart_order'] = order_products['add_to_cart_order'].astype('Int64', errors='ignore')\n",
    "order_products['add_to_cart_order'].isna().sum()"
   ]
  },
  {
   "cell_type": "markdown",
   "id": "fea4bcc7",
   "metadata": {},
   "source": [
    "<div class=\"alert alert-block alert-warning\">📝\n",
    "    \n",
    "\n",
    "__Reviewer's comment №1__\n",
    "\n",
    "\n",
    "Replacing it with 999/-1 etc is not really good. Tip for the future, look, it's not good to try to fill in the blanks left and right. In real work - replace with zero now, then forget and average count a month later. Plus there may be times when a bonus purchase or gift, will cost zero. In general, if it is possible to leave skips as skips - and here it can be done, it is better to do so, the results, even if we want to calculate something - it will not affect the results\n",
    "\n",
    "It is better to use this code construction:\n",
    "    \n",
    "    data[''] = data[''].astype('Int64', errors='ignore')\n",
    "</div>"
   ]
  },
  {
   "cell_type": "markdown",
   "id": "turkish-kidney",
   "metadata": {},
   "source": [
    "# [A] Easy (must complete all to pass)"
   ]
  },
  {
   "cell_type": "markdown",
   "id": "short-capability",
   "metadata": {},
   "source": [
    "### [A1] Verify that the `'order_hour_of_day'` and `'order_dow'` values in the `orders` tables are sensible (i.e. `'order_hour_of_day'` ranges from 0 to 23 and `'order_dow'` ranges from 0 to 6)"
   ]
  },
  {
   "cell_type": "code",
   "execution_count": 30,
   "id": "growing-fruit",
   "metadata": {},
   "outputs": [
    {
     "data": {
      "text/plain": [
       "count    478952.000000\n",
       "mean         13.447034\n",
       "std           4.224567\n",
       "min           0.000000\n",
       "25%          10.000000\n",
       "50%          13.000000\n",
       "75%          16.000000\n",
       "max          23.000000\n",
       "Name: order_hour_of_day, dtype: float64"
      ]
     },
     "execution_count": 30,
     "metadata": {},
     "output_type": "execute_result"
    }
   ],
   "source": [
    "insta_orders['order_hour_of_day'].describe()"
   ]
  },
  {
   "cell_type": "code",
   "execution_count": 31,
   "id": "accessory-malaysia",
   "metadata": {},
   "outputs": [
    {
     "data": {
      "text/plain": [
       "count    478952.000000\n",
       "mean          2.775051\n",
       "std           2.045901\n",
       "min           0.000000\n",
       "25%           1.000000\n",
       "50%           3.000000\n",
       "75%           5.000000\n",
       "max           6.000000\n",
       "Name: order_dow, dtype: float64"
      ]
     },
     "execution_count": 31,
     "metadata": {},
     "output_type": "execute_result"
    }
   ],
   "source": [
    "insta_orders['order_dow'].describe()"
   ]
  },
  {
   "cell_type": "markdown",
   "id": "a6743a70",
   "metadata": {},
   "source": [
    "### [A2] What time of day do people shop for groceries?"
   ]
  },
  {
   "cell_type": "code",
   "execution_count": 32,
   "id": "a4479c15",
   "metadata": {},
   "outputs": [
    {
     "data": {
      "text/plain": [
       "<AxesSubplot:title={'center':'Orders By Time Of Day'}, xlabel='Hour of Day', ylabel='Number of Orders'>"
      ]
     },
     "execution_count": 32,
     "metadata": {},
     "output_type": "execute_result"
    },
    {
     "data": {
      "image/png": "[encoded data removed]",
      "text/plain": [
       "<Figure size 800x600 with 1 Axes>"
      ]
     },
     "metadata": {},
     "output_type": "display_data"
    }
   ],
   "source": [
    "insta_orders['order_hour_of_day'].value_counts().sort_index().plot(\n",
    "    x='hour', \n",
    "    kind='bar', \n",
    "    title='Orders By Time Of Day', \n",
    "    xlabel='Hour of Day', \n",
    "    ylabel='Number of Orders', \n",
    "    figsize=(8, 6), \n",
    "    rot=0\n",
    ")"
   ]
  },
  {
   "cell_type": "markdown",
   "id": "11270eed",
   "metadata": {},
   "source": [
    "plt.show()"
   ]
  },
  {
   "cell_type": "markdown",
   "id": "83411550",
   "metadata": {},
   "source": [
    "This graph shows not only when the physical store is open, but their peak hours are between 9am and 4pm. "
   ]
  },
  {
   "cell_type": "markdown",
   "id": "22d08b21",
   "metadata": {},
   "source": [
    "<div class=\"alert alert-block alert-success\">✔️\n",
    "    \n",
    "\n",
    "__Reviewer's comment №2__\n",
    "\n",
    "Now correct"
   ]
  },
  {
   "attachments": {
    "image.png": {
     "image/png": "[encoded data removed]"
    }
   },
   "cell_type": "markdown",
   "id": "e281513d",
   "metadata": {},
   "source": [
    "<div class=\"alert alert-block alert-danger\">✍\n",
    "    \n",
    "\n",
    "__Reviewer's comment №1__\n",
    "\n",
    "It is better after each section, graph (or series of tests) to write a conclusion on the obtained data taking into account the set business task - so it is easier to read the project, because future colleagues or customers will not have to interpret the results of each section, test or graph themselves.\n",
    "    \n",
    "In markdown cell ![image.png](attachment:image.png)    "
   ]
  },
  {
   "cell_type": "markdown",
   "id": "9c64d821",
   "metadata": {},
   "source": []
  },
  {
   "cell_type": "markdown",
   "id": "documented-command",
   "metadata": {},
   "source": [
    "### [A3] What day of the week do people shop for groceries?"
   ]
  },
  {
   "cell_type": "code",
   "execution_count": 33,
   "id": "chief-digit",
   "metadata": {},
   "outputs": [
    {
     "data": {
      "text/plain": [
       "<AxesSubplot:title={'center':'Orders By Day of the Week'}, xlabel='Day of the Week', ylabel='Number of Orders'>"
      ]
     },
     "execution_count": 33,
     "metadata": {},
     "output_type": "execute_result"
    },
    {
     "data": {
      "image/png": "[encoded data removed]",
      "text/plain": [
       "<Figure size 800x600 with 1 Axes>"
      ]
     },
     "metadata": {},
     "output_type": "display_data"
    }
   ],
   "source": [
    "insta_orders['order_dow'].value_counts().sort_index().plot(\n",
    "    x='hour', \n",
    "    kind='bar', \n",
    "    title='Orders By Day of the Week', \n",
    "    xlabel='Day of the Week', \n",
    "    ylabel='Number of Orders', \n",
    "    figsize=(8, 6), \n",
    "    rot=0\n",
    ")"
   ]
  },
  {
   "cell_type": "markdown",
   "id": "3ca8f732",
   "metadata": {},
   "source": [
    "Products are most often bought on Mondays and Tuesdays. "
   ]
  },
  {
   "cell_type": "markdown",
   "id": "dominant-lightning",
   "metadata": {},
   "source": []
  },
  {
   "cell_type": "markdown",
   "id": "cutting-concert",
   "metadata": {},
   "source": [
    "### [A4] How long do people wait until placing another order?"
   ]
  },
  {
   "cell_type": "code",
   "execution_count": 34,
   "id": "c231f523",
   "metadata": {},
   "outputs": [
    {
     "data": {
      "text/plain": [
       "<AxesSubplot:title={'center':'Days Since Prior Order'}, xlabel='Duration', ylabel='Number of Orders'>"
      ]
     },
     "execution_count": 34,
     "metadata": {},
     "output_type": "execute_result"
    },
    {
     "data": {
      "image/png": "[encoded data removed]",
      "text/plain": [
       "<Figure size 2000x1600 with 1 Axes>"
      ]
     },
     "metadata": {},
     "output_type": "display_data"
    }
   ],
   "source": [
    "insta_orders['days_since_prior_order'].value_counts().sort_index().plot(\n",
    "    x='hour', \n",
    "    kind='bar', \n",
    "    title='Days Since Prior Order', \n",
    "    xlabel='Duration', \n",
    "    ylabel='Number of Orders', \n",
    "    figsize=(20, 16), \n",
    "    rot=0\n",
    ")"
   ]
  },
  {
   "cell_type": "markdown",
   "id": "42404472",
   "metadata": {},
   "source": [
    "We can see that the largest spike is at the 30 day mark. Does this imply 30+ days? Or just 30 days? In any case, we see the largest spike at 30 days and 7 days. "
   ]
  },
  {
   "cell_type": "markdown",
   "id": "discrete-vertex",
   "metadata": {},
   "source": []
  },
  {
   "cell_type": "code",
   "execution_count": 35,
   "id": "exciting-fantasy",
   "metadata": {},
   "outputs": [],
   "source": [
    "#Based on the graph, they wait either 7 days or 30 days before their next order"
   ]
  },
  {
   "cell_type": "markdown",
   "id": "09c8614e",
   "metadata": {},
   "source": [
    "<div class=\"alert alert-block alert-success\">✔️\n",
    "    \n",
    "\n",
    "__Reviewer's comment №1__\n",
    "\n",
    "The 0 values probably correspond to customers who placed more than one order on the same day."
   ]
  },
  {
   "cell_type": "markdown",
   "id": "81ad5044",
   "metadata": {},
   "source": []
  },
  {
   "cell_type": "markdown",
   "id": "8d926614",
   "metadata": {},
   "source": []
  },
  {
   "cell_type": "markdown",
   "id": "tight-staff",
   "metadata": {},
   "source": [
    "# [B] Medium (must complete all to pass)"
   ]
  },
  {
   "cell_type": "markdown",
   "id": "packed-classic",
   "metadata": {},
   "source": [
    "### [B1] Is there a difference in `'order_hour_of_day'` distributions on Wednesdays and Saturdays? Plot the histograms for both days and describe the differences that you see."
   ]
  },
  {
   "cell_type": "code",
   "execution_count": 36,
   "id": "d89b8403",
   "metadata": {},
   "outputs": [],
   "source": [
    "wed_orders = insta_orders[insta_orders['order_dow'] == 2]"
   ]
  },
  {
   "cell_type": "code",
   "execution_count": 37,
   "id": "94e54e8a",
   "metadata": {},
   "outputs": [],
   "source": [
    "sat_orders = insta_orders[insta_orders['order_dow'] == 5]"
   ]
  },
  {
   "cell_type": "code",
   "execution_count": 38,
   "id": "797c90a8",
   "metadata": {},
   "outputs": [
    {
     "data": {
      "text/plain": [
       "<AxesSubplot:ylabel='Frequency'>"
      ]
     },
     "execution_count": 38,
     "metadata": {},
     "output_type": "execute_result"
    },
    {
     "data": {
      "image/png": "[encoded data removed]",
      "text/plain": [
       "<Figure size 640x480 with 1 Axes>"
      ]
     },
     "metadata": {},
     "output_type": "display_data"
    }
   ],
   "source": [
    "wed_orders.plot.hist(wed_orders['order_hour_of_day'], bins=24, alpha=0.5, label='Wednesday')"
   ]
  },
  {
   "cell_type": "code",
   "execution_count": 39,
   "id": "35bcea30",
   "metadata": {},
   "outputs": [
    {
     "data": {
      "text/plain": [
       "<AxesSubplot:ylabel='Frequency'>"
      ]
     },
     "execution_count": 39,
     "metadata": {},
     "output_type": "execute_result"
    },
    {
     "data": {
      "image/png": "[encoded data removed]",
      "text/plain": [
       "<Figure size 640x480 with 1 Axes>"
      ]
     },
     "metadata": {},
     "output_type": "display_data"
    }
   ],
   "source": [
    "sat_orders.plot.hist(sat_orders['order_hour_of_day'], bins=24, alpha=0.5, label='Saturday')"
   ]
  },
  {
   "cell_type": "markdown",
   "id": "b9abaf8c",
   "metadata": {},
   "source": [
    "I don't see a major difference between Wednesdays and Saturdays. "
   ]
  },
  {
   "cell_type": "markdown",
   "id": "charitable-congo",
   "metadata": {},
   "source": []
  },
  {
   "cell_type": "markdown",
   "id": "e3891143",
   "metadata": {},
   "source": [
    "### [B2] What's the distribution for the number of orders per customer?"
   ]
  },
  {
   "cell_type": "code",
   "execution_count": 40,
   "id": "d8c26c23",
   "metadata": {},
   "outputs": [],
   "source": [
    "orders_grouped = insta_orders.groupby('user_id')['order_id'].nunique()"
   ]
  },
  {
   "cell_type": "code",
   "execution_count": 41,
   "id": "00e69a66",
   "metadata": {},
   "outputs": [
    {
     "data": {
      "text/plain": [
       "<AxesSubplot:>"
      ]
     },
     "execution_count": 41,
     "metadata": {},
     "output_type": "execute_result"
    },
    {
     "data": {
      "image/png": "[encoded data removed]",
      "text/plain": [
       "<Figure size 640x480 with 1 Axes>"
      ]
     },
     "metadata": {},
     "output_type": "display_data"
    }
   ],
   "source": [
    "orders_grouped.hist()"
   ]
  },
  {
   "cell_type": "markdown",
   "id": "a1c108fc",
   "metadata": {},
   "source": [
    "Most customers are making 2-3 orders. "
   ]
  },
  {
   "cell_type": "markdown",
   "id": "d2eff7d5",
   "metadata": {},
   "source": []
  },
  {
   "cell_type": "markdown",
   "id": "54a0319c",
   "metadata": {},
   "source": [
    "### [B3] What are the top 20 popular products (display their id and name)?"
   ]
  },
  {
   "cell_type": "code",
   "execution_count": 42,
   "id": "exterior-arizona",
   "metadata": {
    "scrolled": true
   },
   "outputs": [],
   "source": [
    "top_20 = order_products['product_id'].value_counts().head(20).index"
   ]
  },
  {
   "cell_type": "code",
   "execution_count": 43,
   "id": "universal-facial",
   "metadata": {},
   "outputs": [],
   "source": [
    "top_20 = products[products['product_id'].isin(top_20)][['product_id', 'product_name']]"
   ]
  },
  {
   "cell_type": "code",
   "execution_count": 44,
   "id": "bbcdd20b",
   "metadata": {},
   "outputs": [
    {
     "data": {
      "text/plain": [
       "array([[<AxesSubplot:title={'center':'product_id'}>]], dtype=object)"
      ]
     },
     "execution_count": 44,
     "metadata": {},
     "output_type": "execute_result"
    },
    {
     "data": {
      "image/png": "[encoded data removed]",
      "text/plain": [
       "<Figure size 640x480 with 1 Axes>"
      ]
     },
     "metadata": {},
     "output_type": "display_data"
    }
   ],
   "source": [
    "top_20_product_names = order_products[order_products['product_id'].isin(top_20)].merge(products, on='product_id', how='inner')\n",
    "top_20.hist()"
   ]
  },
  {
   "cell_type": "markdown",
   "id": "99e176ad",
   "metadata": {},
   "source": [
    "The most popular product has this product ID number. "
   ]
  },
  {
   "cell_type": "markdown",
   "id": "7df00f47",
   "metadata": {},
   "source": []
  },
  {
   "cell_type": "markdown",
   "id": "gross-theme",
   "metadata": {},
   "source": [
    "# [C] Hard (must complete at least two to pass)"
   ]
  },
  {
   "cell_type": "markdown",
   "id": "romantic-deposit",
   "metadata": {},
   "source": [
    "### [C1] How many items do people typically buy in one order? What does the distribution look like?"
   ]
  },
  {
   "cell_type": "code",
   "execution_count": null,
   "id": "virtual-punch",
   "metadata": {},
   "outputs": [],
   "source": []
  },
  {
   "cell_type": "code",
   "execution_count": null,
   "id": "sensitive-breathing",
   "metadata": {},
   "outputs": [],
   "source": []
  },
  {
   "cell_type": "code",
   "execution_count": null,
   "id": "completed-frank",
   "metadata": {},
   "outputs": [],
   "source": []
  },
  {
   "cell_type": "markdown",
   "id": "designed-mortality",
   "metadata": {},
   "source": []
  },
  {
   "cell_type": "markdown",
   "id": "5e6b5537",
   "metadata": {},
   "source": [
    "### [C2] What are the top 20 items that are reordered most frequently (display their names and product IDs)?"
   ]
  },
  {
   "cell_type": "code",
   "execution_count": 45,
   "id": "9374e55a",
   "metadata": {},
   "outputs": [],
   "source": [
    "reordered_items = order_products[order_products['reordered'] == 1]"
   ]
  },
  {
   "cell_type": "raw",
   "id": "4098d289",
   "metadata": {
    "scrolled": true
   },
   "source": []
  },
  {
   "cell_type": "code",
   "execution_count": 46,
   "id": "professional-surfing",
   "metadata": {
    "scrolled": true
   },
   "outputs": [
    {
     "data": {
      "text/plain": [
       "<AxesSubplot:>"
      ]
     },
     "execution_count": 46,
     "metadata": {},
     "output_type": "execute_result"
    },
    {
     "data": {
      "image/png": "[encoded data removed]",
      "text/plain": [
       "<Figure size 640x480 with 1 Axes>"
      ]
     },
     "metadata": {},
     "output_type": "display_data"
    }
   ],
   "source": [
    "reordered_items['product_id'].hist()"
   ]
  },
  {
   "attachments": {
    "image.png": {
     "image/png": "[encoded data removed]"
    }
   },
   "cell_type": "markdown",
   "id": "03ad7406",
   "metadata": {},
   "source": [
    "<div class=\"alert alert-block alert-danger\">✍\n",
    "    \n",
    "\n",
    "__Reviewer's comment №1__\n",
    "\n",
    "Error code ![image.png](attachment:image.png)"
   ]
  },
  {
   "cell_type": "markdown",
   "id": "da856624",
   "metadata": {},
   "source": [
    "The top twenty products that were reordered have these product ID numbers. "
   ]
  },
  {
   "cell_type": "markdown",
   "id": "80e70c74",
   "metadata": {},
   "source": []
  },
  {
   "cell_type": "markdown",
   "id": "9d312b14",
   "metadata": {},
   "source": [
    "### [C3] For each product, what proportion of its orders are reorders?"
   ]
  },
  {
   "cell_type": "code",
   "execution_count": null,
   "id": "8ae9f4b1",
   "metadata": {},
   "outputs": [],
   "source": []
  },
  {
   "cell_type": "code",
   "execution_count": null,
   "id": "103e7fe1",
   "metadata": {},
   "outputs": [],
   "source": []
  },
  {
   "cell_type": "code",
   "execution_count": null,
   "id": "social-individual",
   "metadata": {},
   "outputs": [],
   "source": []
  },
  {
   "cell_type": "markdown",
   "id": "subject-boxing",
   "metadata": {},
   "source": [
    "### [C4] For each customer, what proportion of their products ordered are reorders?"
   ]
  },
  {
   "cell_type": "code",
   "execution_count": null,
   "id": "medical-couple",
   "metadata": {
    "scrolled": true
   },
   "outputs": [],
   "source": []
  },
  {
   "cell_type": "code",
   "execution_count": null,
   "id": "8892e4b4",
   "metadata": {},
   "outputs": [],
   "source": []
  },
  {
   "cell_type": "markdown",
   "id": "92d35137",
   "metadata": {},
   "source": [
    "### [C5] What are the top 20 items that people put in their carts first? "
   ]
  },
  {
   "cell_type": "code",
   "execution_count": 47,
   "id": "0ae57274",
   "metadata": {
    "scrolled": true
   },
   "outputs": [],
   "source": [
    "top_20_cart = order_products[order_products['add_to_cart_order'] == 1]"
   ]
  },
  {
   "cell_type": "code",
   "execution_count": 48,
   "id": "forty-netherlands",
   "metadata": {
    "scrolled": true
   },
   "outputs": [
    {
     "data": {
      "text/plain": [
       "<AxesSubplot:>"
      ]
     },
     "execution_count": 48,
     "metadata": {},
     "output_type": "execute_result"
    },
    {
     "data": {
      "image/png": "[encoded data removed]",
      "text/plain": [
       "<Figure size 640x480 with 1 Axes>"
      ]
     },
     "metadata": {},
     "output_type": "display_data"
    }
   ],
   "source": [
    "top_20_cart['product_id'].hist()"
   ]
  },
  {
   "cell_type": "markdown",
   "id": "1f9b56fc",
   "metadata": {},
   "source": [
    "This shows the top twenty products were placed in the carts first, and their quantities. "
   ]
  },
  {
   "cell_type": "markdown",
   "id": "28ce9872",
   "metadata": {},
   "source": []
  },
  {
   "cell_type": "markdown",
   "id": "ddd0ba0f",
   "metadata": {},
   "source": [
    "<div class=\"alert alert-block alert-danger\">✍\n",
    "    \n",
    "\n",
    "__Reviewer's comment №1__\n",
    "\n",
    "\n",
    "It would be nice to add an overall output for the projec\n",
    "</div>"
   ]
  },
  {
   "cell_type": "markdown",
   "id": "dc1db5e2",
   "metadata": {},
   "source": [
    "<div class=\"alert alert-block alert-danger\">✍\n",
    "    \n",
    "\n",
    "__Reviewer's comment №2__\n",
    "\n",
    "In the conclusion of the project, you should aim to summarize the key outcomes, reflect on the objectives you achieved, and highlight the significance of your findings. Consider the following structure:\n",
    "\n",
    "1. **Restate the Project Objectives**: Briefly mention the main goals of your project.\n",
    "2. **Summarize Key Results**: Highlight the most important findings or outcomes you achieved during the project.\n",
    "3. **eflect on Challenges and Learning**: Share any significant challenges you faced and how you overcame them, as well as what you learned during the process.\n",
    "4. **Discuss Impact and Implications**: Explain how your project contributes to the field, solves a problem, or opens new opportunities for further research.\n",
    "5. **End with a Future Outlook**: Mention potential next steps, improvements, or unanswered questions that could be explored in future work.\n",
    "    \n",
    "    \n",
    "For example: *\"In conclusion, this project successfully achieved its objectives by [briefly mention main results]. Despite challenges such as [name challenges], the experience provided valuable insights into [key learnings]. The outcomes contribute to [relevance to field or application], paving the way for future exploration into [potential next steps].\"*"
   ]
  },
  {
   "cell_type": "markdown",
   "id": "8b0fa1d4",
   "metadata": {},
   "source": [
    "In conclusion, this project achieved its goals by using the Instacart dataset to give us insight of the patterns and behaviors of Instacart shopping behavior. The main objectives of this project were to clean the data, handle missing and duplicate values, and use exploratory data analysis to find significant trends in Instacart shopping.\n",
    "\n",
    "Some of my objects were:\n",
    "\n",
    "-To clean and preprocess the data to deal with missing and duplicate values.\n",
    "-Visualize shopping patterns, such as peak hours, peak days of the week, and times between orders.\n",
    "-Analyze reorder trends, highlight frequently ordered products and their reorder rates.\n",
    "-Identify the number of first items added to carts, which helped show us the customer's shopping intent.\n",
    "\n",
    "Some challenges I faced were when I had to deal with missing data, tricky duplicates, and double checking categorical columns. Fixing the dataset helped improve my skills and enhanced the dataset’s quality.\n",
    "\n",
    "The insight I gained from this project is that we can make recommendations to shoppers and promote products during peak hours/days of the week. We could also use the information from this project to target customers based on the first item they put in their cart, etc.\n",
    "\n",
    "In the future, we can use similar techniques to figure out which demographics are buying which products, what seasonal products should be advertised, or predict what shoppers will buy based on past purchases. "
   ]
  },
  {
   "cell_type": "markdown",
   "id": "36af90b7",
   "metadata": {},
   "source": [
    "<div class=\"alert alert-block alert-success\">✔️\n",
    "    \n",
    "\n",
    "__Reviewer's comment №3__\n",
    "\n",
    "\n",
    "Otherwise it's great😊. Your project is begging for github =)   \n",
    "    \n",
    "Congratulations on the successful completion of the project 😊👍\n",
    "And I wish you success in new works 😊"
   ]
  }
 ],
 "metadata": {
  "ExecuteTimeLog": [
   {
    "duration": 156,
    "start_time": "2024-12-27T00:22:30.289Z"
   },
   {
    "duration": 168,
    "start_time": "2024-12-27T08:06:32.833Z"
   },
   {
    "duration": 283,
    "start_time": "2024-12-27T08:07:06.611Z"
   },
   {
    "duration": 279,
    "start_time": "2024-12-27T08:07:08.081Z"
   },
   {
    "duration": 49,
    "start_time": "2024-12-27T08:08:15.456Z"
   },
   {
    "duration": 2003,
    "start_time": "2024-12-27T08:10:28.411Z"
   },
   {
    "duration": 8,
    "start_time": "2024-12-27T08:11:44.641Z"
   },
   {
    "duration": 7,
    "start_time": "2024-12-27T08:12:12.131Z"
   },
   {
    "duration": 9,
    "start_time": "2024-12-27T08:16:11.202Z"
   },
   {
    "duration": 21,
    "start_time": "2024-12-27T08:16:22.139Z"
   },
   {
    "duration": 354,
    "start_time": "2024-12-27T08:16:47.949Z"
   },
   {
    "duration": 35,
    "start_time": "2024-12-27T08:19:50.743Z"
   },
   {
    "duration": 9,
    "start_time": "2024-12-27T08:20:12.319Z"
   },
   {
    "duration": 157,
    "start_time": "2024-12-27T08:20:55.610Z"
   },
   {
    "duration": 170,
    "start_time": "2024-12-27T08:21:04.792Z"
   },
   {
    "duration": 394,
    "start_time": "2024-12-27T08:27:00.481Z"
   },
   {
    "duration": 42,
    "start_time": "2024-12-27T08:27:43.819Z"
   },
   {
    "duration": 44,
    "start_time": "2024-12-27T08:30:37.776Z"
   },
   {
    "duration": 39,
    "start_time": "2024-12-27T08:30:41.157Z"
   },
   {
    "duration": 37,
    "start_time": "2024-12-27T08:31:41.879Z"
   },
   {
    "duration": 3,
    "start_time": "2024-12-27T08:31:42.998Z"
   },
   {
    "duration": 39,
    "start_time": "2024-12-27T08:31:48.480Z"
   },
   {
    "duration": 39,
    "start_time": "2024-12-27T08:31:54.129Z"
   },
   {
    "duration": 39,
    "start_time": "2024-12-27T08:32:24.638Z"
   },
   {
    "duration": 284,
    "start_time": "2024-12-27T08:32:35.389Z"
   },
   {
    "duration": 269,
    "start_time": "2024-12-27T08:32:35.676Z"
   },
   {
    "duration": 33,
    "start_time": "2024-12-27T08:32:35.947Z"
   },
   {
    "duration": 1916,
    "start_time": "2024-12-27T08:32:35.982Z"
   },
   {
    "duration": 5,
    "start_time": "2024-12-27T08:32:37.901Z"
   },
   {
    "duration": 5,
    "start_time": "2024-12-27T08:32:37.909Z"
   },
   {
    "duration": 368,
    "start_time": "2024-12-27T08:32:37.915Z"
   },
   {
    "duration": 185,
    "start_time": "2024-12-27T08:32:38.285Z"
   },
   {
    "duration": 550,
    "start_time": "2024-12-27T08:32:38.471Z"
   },
   {
    "duration": 0,
    "start_time": "2024-12-27T08:32:39.023Z"
   },
   {
    "duration": 0,
    "start_time": "2024-12-27T08:32:39.024Z"
   },
   {
    "duration": 0,
    "start_time": "2024-12-27T08:32:39.024Z"
   },
   {
    "duration": 0,
    "start_time": "2024-12-27T08:32:39.025Z"
   },
   {
    "duration": 1,
    "start_time": "2024-12-27T08:32:39.025Z"
   },
   {
    "duration": 0,
    "start_time": "2024-12-27T08:32:39.026Z"
   },
   {
    "duration": 0,
    "start_time": "2024-12-27T08:32:39.031Z"
   },
   {
    "duration": 0,
    "start_time": "2024-12-27T08:32:39.032Z"
   },
   {
    "duration": 0,
    "start_time": "2024-12-27T08:32:39.033Z"
   },
   {
    "duration": 0,
    "start_time": "2024-12-27T08:32:39.035Z"
   },
   {
    "duration": 0,
    "start_time": "2024-12-27T08:32:39.036Z"
   },
   {
    "duration": 0,
    "start_time": "2024-12-27T08:32:39.037Z"
   },
   {
    "duration": 0,
    "start_time": "2024-12-27T08:32:39.039Z"
   },
   {
    "duration": 0,
    "start_time": "2024-12-27T08:32:39.040Z"
   },
   {
    "duration": 0,
    "start_time": "2024-12-27T08:32:39.042Z"
   },
   {
    "duration": 0,
    "start_time": "2024-12-27T08:32:39.043Z"
   },
   {
    "duration": 0,
    "start_time": "2024-12-27T08:32:39.045Z"
   },
   {
    "duration": 0,
    "start_time": "2024-12-27T08:32:39.046Z"
   },
   {
    "duration": 3,
    "start_time": "2024-12-27T08:32:46.278Z"
   },
   {
    "duration": 258,
    "start_time": "2024-12-27T08:32:47.235Z"
   },
   {
    "duration": 33,
    "start_time": "2024-12-27T08:32:48.228Z"
   },
   {
    "duration": 1917,
    "start_time": "2024-12-27T08:32:49.038Z"
   },
   {
    "duration": 5,
    "start_time": "2024-12-27T08:32:51.787Z"
   },
   {
    "duration": 7,
    "start_time": "2024-12-27T08:32:52.897Z"
   },
   {
    "duration": 344,
    "start_time": "2024-12-27T08:32:54.231Z"
   },
   {
    "duration": 183,
    "start_time": "2024-12-27T08:32:58.251Z"
   },
   {
    "duration": 37,
    "start_time": "2024-12-27T08:33:01.790Z"
   },
   {
    "duration": 41,
    "start_time": "2024-12-27T08:41:20.432Z"
   },
   {
    "duration": 36,
    "start_time": "2024-12-27T08:41:49.304Z"
   },
   {
    "duration": 38,
    "start_time": "2024-12-27T08:43:32.885Z"
   },
   {
    "duration": 39,
    "start_time": "2024-12-27T08:46:23.461Z"
   },
   {
    "duration": 37,
    "start_time": "2024-12-27T08:46:26.363Z"
   },
   {
    "duration": 36,
    "start_time": "2024-12-27T08:47:23.851Z"
   },
   {
    "duration": 332,
    "start_time": "2024-12-28T00:08:08.759Z"
   },
   {
    "duration": 299,
    "start_time": "2024-12-28T00:08:09.093Z"
   },
   {
    "duration": 52,
    "start_time": "2024-12-28T00:08:09.394Z"
   },
   {
    "duration": 2181,
    "start_time": "2024-12-28T00:08:09.448Z"
   },
   {
    "duration": 7,
    "start_time": "2024-12-28T00:08:11.631Z"
   },
   {
    "duration": 7,
    "start_time": "2024-12-28T00:08:11.639Z"
   },
   {
    "duration": 383,
    "start_time": "2024-12-28T00:08:11.647Z"
   },
   {
    "duration": 210,
    "start_time": "2024-12-28T00:08:12.032Z"
   },
   {
    "duration": 222,
    "start_time": "2024-12-28T00:08:12.244Z"
   },
   {
    "duration": 0,
    "start_time": "2024-12-28T00:08:12.468Z"
   },
   {
    "duration": 0,
    "start_time": "2024-12-28T00:08:12.469Z"
   },
   {
    "duration": 0,
    "start_time": "2024-12-28T00:08:12.471Z"
   },
   {
    "duration": 0,
    "start_time": "2024-12-28T00:08:12.473Z"
   },
   {
    "duration": 0,
    "start_time": "2024-12-28T00:08:12.474Z"
   },
   {
    "duration": 0,
    "start_time": "2024-12-28T00:08:12.476Z"
   },
   {
    "duration": 0,
    "start_time": "2024-12-28T00:08:12.477Z"
   },
   {
    "duration": 0,
    "start_time": "2024-12-28T00:08:12.479Z"
   },
   {
    "duration": 0,
    "start_time": "2024-12-28T00:08:12.480Z"
   },
   {
    "duration": 0,
    "start_time": "2024-12-28T00:08:12.482Z"
   },
   {
    "duration": 0,
    "start_time": "2024-12-28T00:08:12.483Z"
   },
   {
    "duration": 0,
    "start_time": "2024-12-28T00:08:12.485Z"
   },
   {
    "duration": 0,
    "start_time": "2024-12-28T00:08:12.486Z"
   },
   {
    "duration": 0,
    "start_time": "2024-12-28T00:08:12.487Z"
   },
   {
    "duration": 0,
    "start_time": "2024-12-28T00:08:12.489Z"
   },
   {
    "duration": 0,
    "start_time": "2024-12-28T00:08:12.490Z"
   },
   {
    "duration": 0,
    "start_time": "2024-12-28T00:08:12.492Z"
   },
   {
    "duration": 0,
    "start_time": "2024-12-28T00:08:12.524Z"
   },
   {
    "duration": 5,
    "start_time": "2024-12-28T00:08:12.861Z"
   },
   {
    "duration": 322,
    "start_time": "2024-12-28T00:08:13.600Z"
   },
   {
    "duration": 32,
    "start_time": "2024-12-28T00:08:22.034Z"
   },
   {
    "duration": 2247,
    "start_time": "2024-12-28T00:08:23.584Z"
   },
   {
    "duration": 5,
    "start_time": "2024-12-28T00:08:27.170Z"
   },
   {
    "duration": 6,
    "start_time": "2024-12-28T00:08:30.891Z"
   },
   {
    "duration": 379,
    "start_time": "2024-12-28T00:08:32.547Z"
   },
   {
    "duration": 233,
    "start_time": "2024-12-28T00:08:37.124Z"
   },
   {
    "duration": 432,
    "start_time": "2024-12-28T00:09:12.126Z"
   },
   {
    "duration": 41,
    "start_time": "2024-12-28T00:10:26.011Z"
   },
   {
    "duration": 58,
    "start_time": "2024-12-28T00:10:36.667Z"
   },
   {
    "duration": 43,
    "start_time": "2024-12-28T00:11:29.631Z"
   },
   {
    "duration": 58,
    "start_time": "2024-12-28T00:13:45.094Z"
   },
   {
    "duration": 249,
    "start_time": "2024-12-28T00:14:11.091Z"
   },
   {
    "duration": 182,
    "start_time": "2024-12-28T00:14:28.248Z"
   },
   {
    "duration": 101,
    "start_time": "2024-12-28T00:14:33.000Z"
   },
   {
    "duration": 121,
    "start_time": "2024-12-28T00:14:36.959Z"
   },
   {
    "duration": 276,
    "start_time": "2024-12-28T00:14:40.399Z"
   },
   {
    "duration": 140,
    "start_time": "2024-12-28T00:15:03.960Z"
   },
   {
    "duration": 133,
    "start_time": "2024-12-28T00:15:31.055Z"
   },
   {
    "duration": 99,
    "start_time": "2024-12-28T00:18:10.077Z"
   },
   {
    "duration": 99,
    "start_time": "2024-12-28T00:18:12.302Z"
   },
   {
    "duration": 195,
    "start_time": "2024-12-28T00:23:33.067Z"
   },
   {
    "duration": 44,
    "start_time": "2024-12-28T00:26:14.860Z"
   },
   {
    "duration": 51,
    "start_time": "2024-12-28T00:26:41.347Z"
   },
   {
    "duration": 43,
    "start_time": "2024-12-28T00:26:48.033Z"
   },
   {
    "duration": 16,
    "start_time": "2024-12-28T00:27:26.557Z"
   },
   {
    "duration": 19,
    "start_time": "2024-12-28T00:27:31.536Z"
   },
   {
    "duration": 23,
    "start_time": "2024-12-28T00:28:46.448Z"
   },
   {
    "duration": 22,
    "start_time": "2024-12-28T00:30:56.737Z"
   },
   {
    "duration": 37,
    "start_time": "2024-12-28T00:32:11.470Z"
   },
   {
    "duration": 23,
    "start_time": "2024-12-28T00:33:18.868Z"
   },
   {
    "duration": 38,
    "start_time": "2024-12-28T00:34:47.210Z"
   },
   {
    "duration": 46,
    "start_time": "2024-12-28T00:35:56.674Z"
   },
   {
    "duration": 42,
    "start_time": "2024-12-28T00:38:00.793Z"
   },
   {
    "duration": 85,
    "start_time": "2024-12-28T00:39:30.779Z"
   },
   {
    "duration": 4,
    "start_time": "2024-12-28T00:39:50.247Z"
   },
   {
    "duration": 11,
    "start_time": "2024-12-28T00:42:00.349Z"
   },
   {
    "duration": 4,
    "start_time": "2024-12-28T00:42:21.485Z"
   },
   {
    "duration": 33,
    "start_time": "2024-12-28T00:42:50.232Z"
   },
   {
    "duration": 4,
    "start_time": "2024-12-28T00:43:14.481Z"
   },
   {
    "duration": 37,
    "start_time": "2024-12-28T00:44:18.310Z"
   },
   {
    "duration": 4,
    "start_time": "2024-12-28T00:44:49.609Z"
   },
   {
    "duration": 47,
    "start_time": "2024-12-28T00:45:46.110Z"
   },
   {
    "duration": 39,
    "start_time": "2024-12-28T00:46:49.657Z"
   },
   {
    "duration": 3,
    "start_time": "2024-12-28T00:47:58.518Z"
   },
   {
    "duration": 8,
    "start_time": "2024-12-28T00:48:07.246Z"
   },
   {
    "duration": 40,
    "start_time": "2024-12-28T00:48:32.827Z"
   },
   {
    "duration": 8,
    "start_time": "2024-12-28T00:48:52.286Z"
   },
   {
    "duration": 44,
    "start_time": "2024-12-28T00:49:06.223Z"
   },
   {
    "duration": 25,
    "start_time": "2024-12-28T00:49:49.224Z"
   },
   {
    "duration": 14,
    "start_time": "2024-12-28T00:50:05.293Z"
   },
   {
    "duration": 50,
    "start_time": "2024-12-28T00:50:59.604Z"
   },
   {
    "duration": 49,
    "start_time": "2024-12-28T00:51:55.061Z"
   },
   {
    "duration": 51,
    "start_time": "2024-12-28T00:52:27.948Z"
   },
   {
    "duration": 26,
    "start_time": "2024-12-28T00:53:24.490Z"
   },
   {
    "duration": 21,
    "start_time": "2024-12-28T00:53:30.514Z"
   },
   {
    "duration": 12,
    "start_time": "2024-12-28T00:55:18.398Z"
   },
   {
    "duration": 4,
    "start_time": "2024-12-28T00:55:26.154Z"
   },
   {
    "duration": 12,
    "start_time": "2024-12-28T00:58:31.962Z"
   },
   {
    "duration": 9,
    "start_time": "2024-12-28T00:59:26.107Z"
   },
   {
    "duration": 9,
    "start_time": "2024-12-28T00:59:35.683Z"
   },
   {
    "duration": 9,
    "start_time": "2024-12-28T01:00:32.879Z"
   },
   {
    "duration": 12,
    "start_time": "2024-12-28T01:01:34.950Z"
   },
   {
    "duration": 11,
    "start_time": "2024-12-28T01:01:42.541Z"
   },
   {
    "duration": 10,
    "start_time": "2024-12-28T01:01:50.266Z"
   },
   {
    "duration": 10,
    "start_time": "2024-12-28T01:02:01.718Z"
   },
   {
    "duration": 9,
    "start_time": "2024-12-28T01:02:27.368Z"
   },
   {
    "duration": 2381,
    "start_time": "2024-12-28T01:02:59.376Z"
   },
   {
    "duration": 5,
    "start_time": "2024-12-28T01:03:51.704Z"
   },
   {
    "duration": 2300,
    "start_time": "2024-12-28T01:04:19.766Z"
   },
   {
    "duration": 10,
    "start_time": "2024-12-28T01:13:33.927Z"
   },
   {
    "duration": 11,
    "start_time": "2024-12-28T01:16:04.443Z"
   },
   {
    "duration": 7,
    "start_time": "2024-12-28T01:17:03.939Z"
   },
   {
    "duration": 11,
    "start_time": "2024-12-28T01:19:53.481Z"
   },
   {
    "duration": 9,
    "start_time": "2024-12-28T01:20:09.917Z"
   },
   {
    "duration": 42,
    "start_time": "2024-12-28T01:21:30.639Z"
   },
   {
    "duration": 13,
    "start_time": "2024-12-28T01:21:47.293Z"
   },
   {
    "duration": 9,
    "start_time": "2024-12-28T01:23:32.036Z"
   },
   {
    "duration": 7,
    "start_time": "2024-12-28T01:23:40.912Z"
   },
   {
    "duration": 39,
    "start_time": "2024-12-28T01:26:41.066Z"
   },
   {
    "duration": 37,
    "start_time": "2024-12-28T01:26:50.826Z"
   },
   {
    "duration": 48,
    "start_time": "2024-12-28T01:27:11.811Z"
   },
   {
    "duration": 5,
    "start_time": "2024-12-28T01:28:18.667Z"
   },
   {
    "duration": 14,
    "start_time": "2024-12-28T01:29:08.903Z"
   },
   {
    "duration": 4,
    "start_time": "2024-12-28T01:29:19.487Z"
   },
   {
    "duration": 14,
    "start_time": "2024-12-28T01:30:07.083Z"
   },
   {
    "duration": 6,
    "start_time": "2024-12-28T01:31:36.121Z"
   },
   {
    "duration": 15,
    "start_time": "2024-12-28T01:36:29.770Z"
   },
   {
    "duration": 6,
    "start_time": "2024-12-28T01:38:26.690Z"
   },
   {
    "duration": 5,
    "start_time": "2024-12-28T01:38:35.755Z"
   },
   {
    "duration": 8,
    "start_time": "2024-12-28T01:40:32.305Z"
   },
   {
    "duration": 41,
    "start_time": "2024-12-28T01:42:05.276Z"
   },
   {
    "duration": 40,
    "start_time": "2024-12-28T01:43:47.026Z"
   },
   {
    "duration": 4,
    "start_time": "2024-12-28T01:44:13.762Z"
   },
   {
    "duration": 697,
    "start_time": "2024-12-28T01:44:23.513Z"
   },
   {
    "duration": 4,
    "start_time": "2024-12-28T01:44:28.582Z"
   },
   {
    "duration": 13,
    "start_time": "2024-12-28T01:44:45.243Z"
   },
   {
    "duration": 8,
    "start_time": "2024-12-28T01:45:18.658Z"
   },
   {
    "duration": 834,
    "start_time": "2024-12-28T01:46:43.957Z"
   },
   {
    "duration": 59,
    "start_time": "2024-12-28T01:46:57.430Z"
   },
   {
    "duration": 12,
    "start_time": "2024-12-28T01:48:31.080Z"
   },
   {
    "duration": 34,
    "start_time": "2024-12-28T01:50:03.489Z"
   },
   {
    "duration": 9,
    "start_time": "2024-12-28T01:50:11.930Z"
   },
   {
    "duration": 155,
    "start_time": "2024-12-28T19:23:25.555Z"
   },
   {
    "duration": 290,
    "start_time": "2024-12-28T19:23:37.527Z"
   },
   {
    "duration": 163,
    "start_time": "2024-12-28T19:23:38.510Z"
   },
   {
    "duration": 57,
    "start_time": "2024-12-28T19:23:39.581Z"
   },
   {
    "duration": 808,
    "start_time": "2024-12-28T19:23:40.616Z"
   },
   {
    "duration": 8,
    "start_time": "2024-12-28T19:23:41.508Z"
   },
   {
    "duration": 7,
    "start_time": "2024-12-28T19:23:42.266Z"
   },
   {
    "duration": 77,
    "start_time": "2024-12-28T19:23:43.681Z"
   },
   {
    "duration": 73,
    "start_time": "2024-12-28T19:23:49.219Z"
   },
   {
    "duration": 78,
    "start_time": "2024-12-28T19:23:52.389Z"
   },
   {
    "duration": 12,
    "start_time": "2024-12-28T19:23:56.861Z"
   },
   {
    "duration": 95,
    "start_time": "2024-12-28T19:24:00.280Z"
   },
   {
    "duration": 87,
    "start_time": "2024-12-28T19:24:02.630Z"
   },
   {
    "duration": 51,
    "start_time": "2024-12-28T19:24:05.208Z"
   },
   {
    "duration": 12,
    "start_time": "2024-12-28T19:24:09.076Z"
   },
   {
    "duration": 8,
    "start_time": "2024-12-28T19:24:09.795Z"
   },
   {
    "duration": 23,
    "start_time": "2024-12-28T19:24:11.836Z"
   },
   {
    "duration": 3,
    "start_time": "2024-12-28T19:24:13.337Z"
   },
   {
    "duration": 9,
    "start_time": "2024-12-28T19:24:18.073Z"
   },
   {
    "duration": 7,
    "start_time": "2024-12-28T19:24:21.449Z"
   },
   {
    "duration": 10,
    "start_time": "2024-12-28T19:24:26.017Z"
   },
   {
    "duration": 8,
    "start_time": "2024-12-28T19:24:26.816Z"
   },
   {
    "duration": 732,
    "start_time": "2024-12-28T19:24:29.789Z"
   },
   {
    "duration": 230,
    "start_time": "2024-12-28T19:24:31.169Z"
   },
   {
    "duration": 8,
    "start_time": "2024-12-28T19:24:36.927Z"
   },
   {
    "duration": 6,
    "start_time": "2024-12-28T19:24:40.047Z"
   },
   {
    "duration": 6,
    "start_time": "2024-12-28T19:24:41.169Z"
   },
   {
    "duration": 4,
    "start_time": "2024-12-28T19:24:45.758Z"
   },
   {
    "duration": 4,
    "start_time": "2024-12-28T19:24:46.664Z"
   },
   {
    "duration": 6,
    "start_time": "2024-12-28T19:24:50.971Z"
   },
   {
    "duration": 8,
    "start_time": "2024-12-28T19:24:53.768Z"
   },
   {
    "duration": 8,
    "start_time": "2024-12-28T19:24:57.020Z"
   },
   {
    "duration": 31,
    "start_time": "2024-12-28T19:24:59.280Z"
   },
   {
    "duration": 6,
    "start_time": "2024-12-28T19:25:01.266Z"
   },
   {
    "duration": 6,
    "start_time": "2024-12-28T19:25:05.918Z"
   },
   {
    "duration": 6,
    "start_time": "2024-12-28T19:25:27.000Z"
   },
   {
    "duration": 8,
    "start_time": "2024-12-28T19:25:36.339Z"
   },
   {
    "duration": 13,
    "start_time": "2024-12-28T19:25:47.227Z"
   },
   {
    "duration": 9,
    "start_time": "2024-12-28T19:26:02.899Z"
   },
   {
    "duration": 35,
    "start_time": "2024-12-28T19:32:27.024Z"
   },
   {
    "duration": 44,
    "start_time": "2024-12-28T19:32:38.032Z"
   },
   {
    "duration": 41,
    "start_time": "2024-12-28T19:33:30.386Z"
   },
   {
    "duration": 25,
    "start_time": "2024-12-28T19:33:38.359Z"
   },
   {
    "duration": 12,
    "start_time": "2024-12-28T19:35:58.394Z"
   },
   {
    "duration": 14,
    "start_time": "2024-12-28T19:36:15.831Z"
   },
   {
    "duration": 13,
    "start_time": "2024-12-28T19:36:42.639Z"
   },
   {
    "duration": 368,
    "start_time": "2024-12-28T19:43:42.072Z"
   },
   {
    "duration": 2015,
    "start_time": "2024-12-28T19:44:51.973Z"
   },
   {
    "duration": 179,
    "start_time": "2024-12-28T19:59:54.285Z"
   },
   {
    "duration": 120,
    "start_time": "2024-12-28T20:00:44.167Z"
   },
   {
    "duration": 282,
    "start_time": "2024-12-28T22:20:41.146Z"
   },
   {
    "duration": 154,
    "start_time": "2024-12-28T22:20:42.079Z"
   },
   {
    "duration": 55,
    "start_time": "2024-12-28T22:20:43.055Z"
   },
   {
    "duration": 842,
    "start_time": "2024-12-28T22:20:43.750Z"
   },
   {
    "duration": 7,
    "start_time": "2024-12-28T22:20:45.106Z"
   },
   {
    "duration": 6,
    "start_time": "2024-12-28T22:20:45.826Z"
   },
   {
    "duration": 80,
    "start_time": "2024-12-28T22:20:46.652Z"
   },
   {
    "duration": 87,
    "start_time": "2024-12-28T22:20:50.985Z"
   },
   {
    "duration": 12,
    "start_time": "2024-12-28T22:20:53.019Z"
   },
   {
    "duration": 101,
    "start_time": "2024-12-28T22:20:55.189Z"
   },
   {
    "duration": 89,
    "start_time": "2024-12-28T22:20:56.062Z"
   },
   {
    "duration": 54,
    "start_time": "2024-12-28T22:20:57.192Z"
   },
   {
    "duration": 15,
    "start_time": "2024-12-28T22:21:00.798Z"
   },
   {
    "duration": 8,
    "start_time": "2024-12-28T22:21:01.466Z"
   },
   {
    "duration": 21,
    "start_time": "2024-12-28T22:21:03.751Z"
   },
   {
    "duration": 4,
    "start_time": "2024-12-28T22:21:04.692Z"
   },
   {
    "duration": 9,
    "start_time": "2024-12-28T22:21:06.483Z"
   },
   {
    "duration": 8,
    "start_time": "2024-12-28T22:21:09.775Z"
   },
   {
    "duration": 11,
    "start_time": "2024-12-28T22:21:14.409Z"
   },
   {
    "duration": 9,
    "start_time": "2024-12-28T22:21:16.347Z"
   },
   {
    "duration": 741,
    "start_time": "2024-12-28T22:21:19.923Z"
   },
   {
    "duration": 238,
    "start_time": "2024-12-28T22:21:21.660Z"
   },
   {
    "duration": 7,
    "start_time": "2024-12-28T22:21:29.424Z"
   },
   {
    "duration": 7,
    "start_time": "2024-12-28T22:21:31.371Z"
   },
   {
    "duration": 7,
    "start_time": "2024-12-28T22:21:33.396Z"
   },
   {
    "duration": 4,
    "start_time": "2024-12-28T22:21:35.396Z"
   },
   {
    "duration": 5,
    "start_time": "2024-12-28T22:21:37.189Z"
   },
   {
    "duration": 6,
    "start_time": "2024-12-28T22:21:39.401Z"
   },
   {
    "duration": 9,
    "start_time": "2024-12-28T22:21:41.432Z"
   },
   {
    "duration": 9,
    "start_time": "2024-12-28T22:21:44.462Z"
   },
   {
    "duration": 29,
    "start_time": "2024-12-28T22:21:46.597Z"
   },
   {
    "duration": 12,
    "start_time": "2024-12-28T22:21:47.897Z"
   },
   {
    "duration": 10,
    "start_time": "2024-12-28T22:21:56.555Z"
   },
   {
    "duration": 30,
    "start_time": "2024-12-28T22:21:57.606Z"
   },
   {
    "duration": 14,
    "start_time": "2024-12-28T22:22:02.626Z"
   },
   {
    "duration": 14,
    "start_time": "2024-12-28T22:22:05.092Z"
   },
   {
    "duration": 2010,
    "start_time": "2024-12-28T22:22:09.031Z"
   },
   {
    "duration": 122,
    "start_time": "2024-12-28T22:22:15.355Z"
   },
   {
    "duration": 200,
    "start_time": "2024-12-28T22:22:53.894Z"
   },
   {
    "duration": 221,
    "start_time": "2024-12-28T22:23:25.771Z"
   },
   {
    "duration": 323,
    "start_time": "2024-12-28T22:23:58.770Z"
   },
   {
    "duration": 414,
    "start_time": "2024-12-28T22:32:10.982Z"
   },
   {
    "duration": 157,
    "start_time": "2024-12-28T22:33:28.537Z"
   },
   {
    "duration": 144,
    "start_time": "2024-12-28T22:33:41.307Z"
   },
   {
    "duration": 7,
    "start_time": "2024-12-28T22:34:29.572Z"
   },
   {
    "duration": 184,
    "start_time": "2024-12-28T22:35:52.732Z"
   },
   {
    "duration": 13,
    "start_time": "2024-12-28T22:35:57.812Z"
   },
   {
    "duration": 947,
    "start_time": "2024-12-28T22:36:54.202Z"
   },
   {
    "duration": 215,
    "start_time": "2024-12-28T22:37:12.366Z"
   },
   {
    "duration": 7,
    "start_time": "2024-12-28T22:40:28.777Z"
   },
   {
    "duration": 6,
    "start_time": "2024-12-28T22:40:29.371Z"
   },
   {
    "duration": 14,
    "start_time": "2024-12-28T22:41:16.442Z"
   },
   {
    "duration": 13,
    "start_time": "2024-12-28T22:41:28.527Z"
   },
   {
    "duration": 316,
    "start_time": "2024-12-28T22:42:52.382Z"
   },
   {
    "duration": 468,
    "start_time": "2024-12-28T22:42:56.647Z"
   },
   {
    "duration": 142,
    "start_time": "2024-12-28T22:47:29.642Z"
   },
   {
    "duration": 12,
    "start_time": "2024-12-28T22:48:10.884Z"
   },
   {
    "duration": 97,
    "start_time": "2024-12-28T22:48:15.843Z"
   },
   {
    "duration": 85,
    "start_time": "2024-12-28T22:50:40.199Z"
   },
   {
    "duration": 6,
    "start_time": "2024-12-28T22:50:41.692Z"
   },
   {
    "duration": 85,
    "start_time": "2024-12-28T22:50:50.147Z"
   },
   {
    "duration": 4,
    "start_time": "2024-12-28T22:50:50.724Z"
   },
   {
    "duration": 265,
    "start_time": "2024-12-28T22:50:52.004Z"
   },
   {
    "duration": 301,
    "start_time": "2024-12-28T22:51:09.587Z"
   },
   {
    "duration": 564,
    "start_time": "2024-12-28T22:53:22.046Z"
   },
   {
    "duration": 317,
    "start_time": "2024-12-28T22:53:33.591Z"
   },
   {
    "duration": 56,
    "start_time": "2024-12-28T23:08:01.027Z"
   },
   {
    "duration": 12,
    "start_time": "2024-12-28T23:10:19.738Z"
   },
   {
    "duration": 23,
    "start_time": "2024-12-28T23:13:42.891Z"
   },
   {
    "duration": 13,
    "start_time": "2024-12-28T23:13:43.709Z"
   },
   {
    "duration": 15,
    "start_time": "2024-12-28T23:13:53.518Z"
   },
   {
    "duration": 12,
    "start_time": "2024-12-28T23:14:20.625Z"
   },
   {
    "duration": 14,
    "start_time": "2024-12-28T23:14:25.999Z"
   },
   {
    "duration": 290,
    "start_time": "2024-12-29T08:27:35.408Z"
   },
   {
    "duration": 152,
    "start_time": "2024-12-29T08:27:35.699Z"
   },
   {
    "duration": 54,
    "start_time": "2024-12-29T08:27:35.853Z"
   },
   {
    "duration": 764,
    "start_time": "2024-12-29T08:27:35.910Z"
   },
   {
    "duration": 8,
    "start_time": "2024-12-29T08:27:36.676Z"
   },
   {
    "duration": 7,
    "start_time": "2024-12-29T08:27:36.686Z"
   },
   {
    "duration": 86,
    "start_time": "2024-12-29T08:27:36.695Z"
   },
   {
    "duration": 89,
    "start_time": "2024-12-29T08:27:36.783Z"
   },
   {
    "duration": 11,
    "start_time": "2024-12-29T08:27:36.874Z"
   },
   {
    "duration": 110,
    "start_time": "2024-12-29T08:27:36.889Z"
   },
   {
    "duration": 101,
    "start_time": "2024-12-29T08:27:37.001Z"
   },
   {
    "duration": 58,
    "start_time": "2024-12-29T08:27:37.104Z"
   },
   {
    "duration": 12,
    "start_time": "2024-12-29T08:27:37.164Z"
   },
   {
    "duration": 7,
    "start_time": "2024-12-29T08:27:37.178Z"
   },
   {
    "duration": 19,
    "start_time": "2024-12-29T08:27:37.187Z"
   },
   {
    "duration": 3,
    "start_time": "2024-12-29T08:27:37.208Z"
   },
   {
    "duration": 34,
    "start_time": "2024-12-29T08:27:37.213Z"
   },
   {
    "duration": 7,
    "start_time": "2024-12-29T08:27:37.249Z"
   },
   {
    "duration": 9,
    "start_time": "2024-12-29T08:27:37.258Z"
   },
   {
    "duration": 8,
    "start_time": "2024-12-29T08:27:37.269Z"
   },
   {
    "duration": 738,
    "start_time": "2024-12-29T08:27:37.279Z"
   },
   {
    "duration": 235,
    "start_time": "2024-12-29T08:27:38.019Z"
   },
   {
    "duration": 8,
    "start_time": "2024-12-29T08:27:38.256Z"
   },
   {
    "duration": 7,
    "start_time": "2024-12-29T08:27:38.265Z"
   },
   {
    "duration": 7,
    "start_time": "2024-12-29T08:27:38.273Z"
   },
   {
    "duration": 4,
    "start_time": "2024-12-29T08:27:38.281Z"
   },
   {
    "duration": 4,
    "start_time": "2024-12-29T08:27:38.287Z"
   },
   {
    "duration": 6,
    "start_time": "2024-12-29T08:27:38.295Z"
   },
   {
    "duration": 44,
    "start_time": "2024-12-29T08:27:38.302Z"
   },
   {
    "duration": 9,
    "start_time": "2024-12-29T08:27:38.348Z"
   },
   {
    "duration": 28,
    "start_time": "2024-12-29T08:27:38.359Z"
   },
   {
    "duration": 12,
    "start_time": "2024-12-29T08:27:38.389Z"
   },
   {
    "duration": 9,
    "start_time": "2024-12-29T08:27:38.403Z"
   },
   {
    "duration": 29,
    "start_time": "2024-12-29T08:27:38.443Z"
   },
   {
    "duration": 13,
    "start_time": "2024-12-29T08:27:38.474Z"
   },
   {
    "duration": 13,
    "start_time": "2024-12-29T08:27:38.490Z"
   },
   {
    "duration": 2049,
    "start_time": "2024-12-29T08:27:38.505Z"
   },
   {
    "duration": 133,
    "start_time": "2024-12-29T08:27:40.556Z"
   },
   {
    "duration": 376,
    "start_time": "2024-12-29T08:27:40.691Z"
   },
   {
    "duration": 2,
    "start_time": "2024-12-29T08:27:41.069Z"
   },
   {
    "duration": 7,
    "start_time": "2024-12-29T08:27:41.073Z"
   },
   {
    "duration": 5,
    "start_time": "2024-12-29T08:27:41.081Z"
   },
   {
    "duration": 330,
    "start_time": "2024-12-29T08:27:41.088Z"
   },
   {
    "duration": 313,
    "start_time": "2024-12-29T08:27:41.419Z"
   },
   {
    "duration": 122,
    "start_time": "2024-12-29T08:27:41.734Z"
   },
   {
    "duration": 106,
    "start_time": "2024-12-29T08:27:41.858Z"
   },
   {
    "duration": 98,
    "start_time": "2024-12-29T08:27:41.966Z"
   },
   {
    "duration": 5,
    "start_time": "2024-12-29T08:27:42.066Z"
   },
   {
    "duration": 363,
    "start_time": "2024-12-29T08:27:42.072Z"
   },
   {
    "duration": 55,
    "start_time": "2024-12-29T08:27:42.442Z"
   },
   {
    "duration": 244,
    "start_time": "2024-12-29T08:27:42.499Z"
   },
   {
    "duration": 0,
    "start_time": "2024-12-29T08:27:42.745Z"
   },
   {
    "duration": 0,
    "start_time": "2024-12-29T08:27:42.747Z"
   },
   {
    "duration": 0,
    "start_time": "2024-12-29T08:27:42.748Z"
   },
   {
    "duration": 311,
    "start_time": "2024-12-29T23:39:02.600Z"
   },
   {
    "duration": 157,
    "start_time": "2024-12-29T23:39:02.914Z"
   },
   {
    "duration": 59,
    "start_time": "2024-12-29T23:39:03.073Z"
   },
   {
    "duration": 807,
    "start_time": "2024-12-29T23:39:03.134Z"
   },
   {
    "duration": 7,
    "start_time": "2024-12-29T23:39:03.943Z"
   },
   {
    "duration": 7,
    "start_time": "2024-12-29T23:39:03.951Z"
   },
   {
    "duration": 90,
    "start_time": "2024-12-29T23:39:03.959Z"
   },
   {
    "duration": 95,
    "start_time": "2024-12-29T23:39:04.051Z"
   },
   {
    "duration": 13,
    "start_time": "2024-12-29T23:39:04.148Z"
   },
   {
    "duration": 105,
    "start_time": "2024-12-29T23:39:04.163Z"
   },
   {
    "duration": 89,
    "start_time": "2024-12-29T23:39:04.270Z"
   },
   {
    "duration": 55,
    "start_time": "2024-12-29T23:39:04.361Z"
   },
   {
    "duration": 15,
    "start_time": "2024-12-29T23:39:04.418Z"
   },
   {
    "duration": 8,
    "start_time": "2024-12-29T23:39:04.437Z"
   },
   {
    "duration": 24,
    "start_time": "2024-12-29T23:39:04.447Z"
   },
   {
    "duration": 31,
    "start_time": "2024-12-29T23:39:04.474Z"
   },
   {
    "duration": 177,
    "start_time": "2024-12-29T23:39:04.507Z"
   },
   {
    "duration": 0,
    "start_time": "2024-12-29T23:39:04.687Z"
   },
   {
    "duration": 0,
    "start_time": "2024-12-29T23:39:04.688Z"
   },
   {
    "duration": 0,
    "start_time": "2024-12-29T23:39:04.689Z"
   },
   {
    "duration": 0,
    "start_time": "2024-12-29T23:39:04.690Z"
   },
   {
    "duration": 0,
    "start_time": "2024-12-29T23:39:04.692Z"
   },
   {
    "duration": 0,
    "start_time": "2024-12-29T23:39:04.705Z"
   },
   {
    "duration": 0,
    "start_time": "2024-12-29T23:39:04.706Z"
   },
   {
    "duration": 0,
    "start_time": "2024-12-29T23:39:04.707Z"
   },
   {
    "duration": 0,
    "start_time": "2024-12-29T23:39:04.708Z"
   },
   {
    "duration": 0,
    "start_time": "2024-12-29T23:39:04.709Z"
   },
   {
    "duration": 0,
    "start_time": "2024-12-29T23:39:04.712Z"
   },
   {
    "duration": 0,
    "start_time": "2024-12-29T23:39:04.713Z"
   },
   {
    "duration": 0,
    "start_time": "2024-12-29T23:39:04.715Z"
   },
   {
    "duration": 0,
    "start_time": "2024-12-29T23:39:04.716Z"
   },
   {
    "duration": 0,
    "start_time": "2024-12-29T23:39:04.718Z"
   },
   {
    "duration": 0,
    "start_time": "2024-12-29T23:39:04.719Z"
   },
   {
    "duration": 0,
    "start_time": "2024-12-29T23:39:04.720Z"
   },
   {
    "duration": 0,
    "start_time": "2024-12-29T23:39:04.721Z"
   },
   {
    "duration": 0,
    "start_time": "2024-12-29T23:39:04.723Z"
   },
   {
    "duration": 0,
    "start_time": "2024-12-29T23:39:04.725Z"
   },
   {
    "duration": 0,
    "start_time": "2024-12-29T23:39:04.726Z"
   },
   {
    "duration": 0,
    "start_time": "2024-12-29T23:39:04.727Z"
   },
   {
    "duration": 0,
    "start_time": "2024-12-29T23:39:04.728Z"
   },
   {
    "duration": 0,
    "start_time": "2024-12-29T23:39:04.730Z"
   },
   {
    "duration": 0,
    "start_time": "2024-12-29T23:39:04.731Z"
   },
   {
    "duration": 0,
    "start_time": "2024-12-29T23:39:04.732Z"
   },
   {
    "duration": 0,
    "start_time": "2024-12-29T23:39:04.734Z"
   },
   {
    "duration": 0,
    "start_time": "2024-12-29T23:39:04.735Z"
   },
   {
    "duration": 0,
    "start_time": "2024-12-29T23:39:04.737Z"
   },
   {
    "duration": 0,
    "start_time": "2024-12-29T23:39:04.738Z"
   },
   {
    "duration": 0,
    "start_time": "2024-12-29T23:39:04.740Z"
   },
   {
    "duration": 0,
    "start_time": "2024-12-29T23:39:04.741Z"
   },
   {
    "duration": 0,
    "start_time": "2024-12-29T23:39:04.743Z"
   },
   {
    "duration": 0,
    "start_time": "2024-12-29T23:39:04.744Z"
   },
   {
    "duration": 0,
    "start_time": "2024-12-29T23:39:04.745Z"
   },
   {
    "duration": 0,
    "start_time": "2024-12-29T23:39:04.747Z"
   },
   {
    "duration": 0,
    "start_time": "2024-12-29T23:39:04.748Z"
   },
   {
    "duration": 321,
    "start_time": "2024-12-30T18:33:35.790Z"
   },
   {
    "duration": 157,
    "start_time": "2024-12-30T18:33:36.113Z"
   },
   {
    "duration": 58,
    "start_time": "2024-12-30T18:33:36.272Z"
   },
   {
    "duration": 804,
    "start_time": "2024-12-30T18:33:36.333Z"
   },
   {
    "duration": 8,
    "start_time": "2024-12-30T18:33:37.141Z"
   },
   {
    "duration": 7,
    "start_time": "2024-12-30T18:33:37.150Z"
   },
   {
    "duration": 86,
    "start_time": "2024-12-30T18:33:37.159Z"
   },
   {
    "duration": 94,
    "start_time": "2024-12-30T18:33:37.247Z"
   },
   {
    "duration": 11,
    "start_time": "2024-12-30T18:33:37.343Z"
   },
   {
    "duration": 105,
    "start_time": "2024-12-30T18:33:37.356Z"
   },
   {
    "duration": 92,
    "start_time": "2024-12-30T18:33:37.462Z"
   },
   {
    "duration": 57,
    "start_time": "2024-12-30T18:33:37.557Z"
   },
   {
    "duration": 12,
    "start_time": "2024-12-30T18:33:37.616Z"
   },
   {
    "duration": 7,
    "start_time": "2024-12-30T18:33:37.632Z"
   },
   {
    "duration": 20,
    "start_time": "2024-12-30T18:33:37.640Z"
   },
   {
    "duration": 25,
    "start_time": "2024-12-30T18:33:37.661Z"
   },
   {
    "duration": 188,
    "start_time": "2024-12-30T18:33:37.688Z"
   },
   {
    "duration": 0,
    "start_time": "2024-12-30T18:33:37.878Z"
   },
   {
    "duration": 0,
    "start_time": "2024-12-30T18:33:37.880Z"
   },
   {
    "duration": 0,
    "start_time": "2024-12-30T18:33:37.881Z"
   },
   {
    "duration": 0,
    "start_time": "2024-12-30T18:33:37.886Z"
   },
   {
    "duration": 0,
    "start_time": "2024-12-30T18:33:37.887Z"
   },
   {
    "duration": 0,
    "start_time": "2024-12-30T18:33:37.888Z"
   },
   {
    "duration": 0,
    "start_time": "2024-12-30T18:33:37.890Z"
   },
   {
    "duration": 0,
    "start_time": "2024-12-30T18:33:37.890Z"
   },
   {
    "duration": 0,
    "start_time": "2024-12-30T18:33:37.893Z"
   },
   {
    "duration": 0,
    "start_time": "2024-12-30T18:33:37.894Z"
   },
   {
    "duration": 0,
    "start_time": "2024-12-30T18:33:37.896Z"
   },
   {
    "duration": 0,
    "start_time": "2024-12-30T18:33:37.897Z"
   },
   {
    "duration": 0,
    "start_time": "2024-12-30T18:33:37.898Z"
   },
   {
    "duration": 0,
    "start_time": "2024-12-30T18:33:37.899Z"
   },
   {
    "duration": 0,
    "start_time": "2024-12-30T18:33:37.900Z"
   },
   {
    "duration": 0,
    "start_time": "2024-12-30T18:33:37.901Z"
   },
   {
    "duration": 0,
    "start_time": "2024-12-30T18:33:37.902Z"
   },
   {
    "duration": 0,
    "start_time": "2024-12-30T18:33:37.904Z"
   },
   {
    "duration": 0,
    "start_time": "2024-12-30T18:33:37.904Z"
   },
   {
    "duration": 0,
    "start_time": "2024-12-30T18:33:37.905Z"
   },
   {
    "duration": 0,
    "start_time": "2024-12-30T18:33:37.906Z"
   },
   {
    "duration": 0,
    "start_time": "2024-12-30T18:33:37.907Z"
   },
   {
    "duration": 0,
    "start_time": "2024-12-30T18:33:37.908Z"
   },
   {
    "duration": 0,
    "start_time": "2024-12-30T18:33:37.909Z"
   },
   {
    "duration": 0,
    "start_time": "2024-12-30T18:33:37.911Z"
   },
   {
    "duration": 0,
    "start_time": "2024-12-30T18:33:37.912Z"
   },
   {
    "duration": 0,
    "start_time": "2024-12-30T18:33:37.913Z"
   },
   {
    "duration": 0,
    "start_time": "2024-12-30T18:33:37.915Z"
   },
   {
    "duration": 0,
    "start_time": "2024-12-30T18:33:37.916Z"
   },
   {
    "duration": 0,
    "start_time": "2024-12-30T18:33:37.918Z"
   },
   {
    "duration": 0,
    "start_time": "2024-12-30T18:33:37.919Z"
   },
   {
    "duration": 0,
    "start_time": "2024-12-30T18:33:37.921Z"
   },
   {
    "duration": 0,
    "start_time": "2024-12-30T18:33:37.922Z"
   },
   {
    "duration": 0,
    "start_time": "2024-12-30T18:33:37.986Z"
   },
   {
    "duration": 0,
    "start_time": "2024-12-30T18:33:37.987Z"
   },
   {
    "duration": 0,
    "start_time": "2024-12-30T18:33:37.989Z"
   },
   {
    "duration": 0,
    "start_time": "2024-12-30T18:33:37.990Z"
   },
   {
    "duration": 5,
    "start_time": "2024-12-30T18:34:05.602Z"
   },
   {
    "duration": 11,
    "start_time": "2024-12-30T18:34:11.771Z"
   },
   {
    "duration": 6,
    "start_time": "2024-12-30T18:35:28.631Z"
   },
   {
    "duration": 5,
    "start_time": "2024-12-30T18:35:38.181Z"
   },
   {
    "duration": 6,
    "start_time": "2024-12-30T18:35:41.792Z"
   },
   {
    "duration": 322,
    "start_time": "2024-12-30T18:36:18.703Z"
   },
   {
    "duration": 125,
    "start_time": "2024-12-30T18:36:19.027Z"
   },
   {
    "duration": 40,
    "start_time": "2024-12-30T18:36:19.154Z"
   },
   {
    "duration": 703,
    "start_time": "2024-12-30T18:36:19.196Z"
   },
   {
    "duration": 6,
    "start_time": "2024-12-30T18:36:19.901Z"
   },
   {
    "duration": 4,
    "start_time": "2024-12-30T18:36:19.908Z"
   },
   {
    "duration": 91,
    "start_time": "2024-12-30T18:36:19.914Z"
   },
   {
    "duration": 86,
    "start_time": "2024-12-30T18:36:20.006Z"
   },
   {
    "duration": 12,
    "start_time": "2024-12-30T18:36:20.094Z"
   },
   {
    "duration": 105,
    "start_time": "2024-12-30T18:36:20.107Z"
   },
   {
    "duration": 93,
    "start_time": "2024-12-30T18:36:20.213Z"
   },
   {
    "duration": 48,
    "start_time": "2024-12-30T18:36:20.307Z"
   },
   {
    "duration": 12,
    "start_time": "2024-12-30T18:36:20.357Z"
   },
   {
    "duration": 7,
    "start_time": "2024-12-30T18:36:20.390Z"
   },
   {
    "duration": 19,
    "start_time": "2024-12-30T18:36:20.399Z"
   },
   {
    "duration": 4,
    "start_time": "2024-12-30T18:36:20.420Z"
   },
   {
    "duration": 6,
    "start_time": "2024-12-30T18:36:20.425Z"
   },
   {
    "duration": 219,
    "start_time": "2024-12-30T18:36:20.434Z"
   },
   {
    "duration": 0,
    "start_time": "2024-12-30T18:36:20.655Z"
   },
   {
    "duration": 0,
    "start_time": "2024-12-30T18:36:20.656Z"
   },
   {
    "duration": 0,
    "start_time": "2024-12-30T18:36:20.657Z"
   },
   {
    "duration": 0,
    "start_time": "2024-12-30T18:36:20.658Z"
   },
   {
    "duration": 0,
    "start_time": "2024-12-30T18:36:20.659Z"
   },
   {
    "duration": 0,
    "start_time": "2024-12-30T18:36:20.662Z"
   },
   {
    "duration": 0,
    "start_time": "2024-12-30T18:36:20.663Z"
   },
   {
    "duration": 0,
    "start_time": "2024-12-30T18:36:20.665Z"
   },
   {
    "duration": 0,
    "start_time": "2024-12-30T18:36:20.666Z"
   },
   {
    "duration": 0,
    "start_time": "2024-12-30T18:36:20.667Z"
   },
   {
    "duration": 0,
    "start_time": "2024-12-30T18:36:20.668Z"
   },
   {
    "duration": 0,
    "start_time": "2024-12-30T18:36:20.668Z"
   },
   {
    "duration": 0,
    "start_time": "2024-12-30T18:36:20.669Z"
   },
   {
    "duration": 0,
    "start_time": "2024-12-30T18:36:20.686Z"
   },
   {
    "duration": 0,
    "start_time": "2024-12-30T18:36:20.688Z"
   },
   {
    "duration": 0,
    "start_time": "2024-12-30T18:36:20.690Z"
   },
   {
    "duration": 0,
    "start_time": "2024-12-30T18:36:20.691Z"
   },
   {
    "duration": 0,
    "start_time": "2024-12-30T18:36:20.692Z"
   },
   {
    "duration": 0,
    "start_time": "2024-12-30T18:36:20.694Z"
   },
   {
    "duration": 1,
    "start_time": "2024-12-30T18:36:20.694Z"
   },
   {
    "duration": 0,
    "start_time": "2024-12-30T18:36:20.696Z"
   },
   {
    "duration": 0,
    "start_time": "2024-12-30T18:36:20.699Z"
   },
   {
    "duration": 0,
    "start_time": "2024-12-30T18:36:20.700Z"
   },
   {
    "duration": 0,
    "start_time": "2024-12-30T18:36:20.701Z"
   },
   {
    "duration": 0,
    "start_time": "2024-12-30T18:36:20.702Z"
   },
   {
    "duration": 0,
    "start_time": "2024-12-30T18:36:20.704Z"
   },
   {
    "duration": 0,
    "start_time": "2024-12-30T18:36:20.704Z"
   },
   {
    "duration": 0,
    "start_time": "2024-12-30T18:36:20.705Z"
   },
   {
    "duration": 0,
    "start_time": "2024-12-30T18:36:20.706Z"
   },
   {
    "duration": 0,
    "start_time": "2024-12-30T18:36:20.709Z"
   },
   {
    "duration": 0,
    "start_time": "2024-12-30T18:36:20.710Z"
   },
   {
    "duration": 0,
    "start_time": "2024-12-30T18:36:20.712Z"
   },
   {
    "duration": 0,
    "start_time": "2024-12-30T18:36:20.714Z"
   },
   {
    "duration": 0,
    "start_time": "2024-12-30T18:36:20.715Z"
   },
   {
    "duration": 0,
    "start_time": "2024-12-30T18:36:20.716Z"
   },
   {
    "duration": 0,
    "start_time": "2024-12-30T18:36:20.718Z"
   },
   {
    "duration": 9,
    "start_time": "2024-12-30T18:36:32.344Z"
   },
   {
    "duration": 291,
    "start_time": "2024-12-30T21:16:23.389Z"
   },
   {
    "duration": 146,
    "start_time": "2024-12-30T21:16:23.683Z"
   },
   {
    "duration": 51,
    "start_time": "2024-12-30T21:16:23.831Z"
   },
   {
    "duration": 813,
    "start_time": "2024-12-30T21:16:23.884Z"
   },
   {
    "duration": 10,
    "start_time": "2024-12-30T21:16:24.699Z"
   },
   {
    "duration": 5,
    "start_time": "2024-12-30T21:16:24.710Z"
   },
   {
    "duration": 78,
    "start_time": "2024-12-30T21:16:24.717Z"
   },
   {
    "duration": 84,
    "start_time": "2024-12-30T21:16:24.806Z"
   },
   {
    "duration": 19,
    "start_time": "2024-12-30T21:16:24.892Z"
   },
   {
    "duration": 104,
    "start_time": "2024-12-30T21:16:24.912Z"
   },
   {
    "duration": 94,
    "start_time": "2024-12-30T21:16:25.018Z"
   },
   {
    "duration": 49,
    "start_time": "2024-12-30T21:16:25.114Z"
   },
   {
    "duration": 12,
    "start_time": "2024-12-30T21:16:25.165Z"
   },
   {
    "duration": 27,
    "start_time": "2024-12-30T21:16:25.181Z"
   },
   {
    "duration": 21,
    "start_time": "2024-12-30T21:16:25.210Z"
   },
   {
    "duration": 4,
    "start_time": "2024-12-30T21:16:25.233Z"
   },
   {
    "duration": 6,
    "start_time": "2024-12-30T21:16:25.238Z"
   },
   {
    "duration": 8,
    "start_time": "2024-12-30T21:16:25.246Z"
   },
   {
    "duration": 7,
    "start_time": "2024-12-30T21:16:25.255Z"
   },
   {
    "duration": 41,
    "start_time": "2024-12-30T21:16:25.264Z"
   },
   {
    "duration": 747,
    "start_time": "2024-12-30T21:16:25.307Z"
   },
   {
    "duration": 233,
    "start_time": "2024-12-30T21:16:26.055Z"
   },
   {
    "duration": 16,
    "start_time": "2024-12-30T21:16:26.290Z"
   },
   {
    "duration": 5,
    "start_time": "2024-12-30T21:16:26.308Z"
   },
   {
    "duration": 5,
    "start_time": "2024-12-30T21:16:26.315Z"
   },
   {
    "duration": 4,
    "start_time": "2024-12-30T21:16:26.322Z"
   },
   {
    "duration": 6,
    "start_time": "2024-12-30T21:16:26.327Z"
   },
   {
    "duration": 7,
    "start_time": "2024-12-30T21:16:26.334Z"
   },
   {
    "duration": 7,
    "start_time": "2024-12-30T21:16:26.342Z"
   },
   {
    "duration": 7,
    "start_time": "2024-12-30T21:16:26.351Z"
   },
   {
    "duration": 68,
    "start_time": "2024-12-30T21:16:26.359Z"
   },
   {
    "duration": 13,
    "start_time": "2024-12-30T21:16:26.429Z"
   },
   {
    "duration": 10,
    "start_time": "2024-12-30T21:16:26.443Z"
   },
   {
    "duration": 54,
    "start_time": "2024-12-30T21:16:26.454Z"
   },
   {
    "duration": 15,
    "start_time": "2024-12-30T21:16:26.510Z"
   },
   {
    "duration": 12,
    "start_time": "2024-12-30T21:16:26.528Z"
   },
   {
    "duration": 2003,
    "start_time": "2024-12-30T21:16:26.542Z"
   },
   {
    "duration": 131,
    "start_time": "2024-12-30T21:16:28.547Z"
   },
   {
    "duration": 340,
    "start_time": "2024-12-30T21:16:28.680Z"
   },
   {
    "duration": 3,
    "start_time": "2024-12-30T21:16:29.022Z"
   },
   {
    "duration": 6,
    "start_time": "2024-12-30T21:16:29.029Z"
   },
   {
    "duration": 5,
    "start_time": "2024-12-30T21:16:29.037Z"
   },
   {
    "duration": 379,
    "start_time": "2024-12-30T21:16:29.044Z"
   },
   {
    "duration": 321,
    "start_time": "2024-12-30T21:16:29.425Z"
   },
   {
    "duration": 125,
    "start_time": "2024-12-30T21:16:29.748Z"
   },
   {
    "duration": 110,
    "start_time": "2024-12-30T21:16:29.875Z"
   },
   {
    "duration": 89,
    "start_time": "2024-12-30T21:16:29.987Z"
   },
   {
    "duration": 5,
    "start_time": "2024-12-30T21:16:30.078Z"
   },
   {
    "duration": 385,
    "start_time": "2024-12-30T21:16:30.084Z"
   },
   {
    "duration": 64,
    "start_time": "2024-12-30T21:16:30.472Z"
   },
   {
    "duration": 250,
    "start_time": "2024-12-30T21:16:30.538Z"
   },
   {
    "duration": 0,
    "start_time": "2024-12-30T21:16:30.790Z"
   },
   {
    "duration": 0,
    "start_time": "2024-12-30T21:16:30.791Z"
   },
   {
    "duration": 0,
    "start_time": "2024-12-30T21:16:30.793Z"
   },
   {
    "duration": 1359,
    "start_time": "2025-01-10T01:04:04.826Z"
   },
   {
    "duration": 78,
    "start_time": "2025-01-10T01:04:10.319Z"
   },
   {
    "duration": 73,
    "start_time": "2025-01-10T01:07:19.124Z"
   },
   {
    "duration": 65,
    "start_time": "2025-01-10T01:22:14.930Z"
   },
   {
    "duration": 102,
    "start_time": "2025-01-10T01:22:32.905Z"
   },
   {
    "duration": 547,
    "start_time": "2025-01-10T01:22:49.071Z"
   },
   {
    "duration": 101,
    "start_time": "2025-01-10T01:23:23.511Z"
   },
   {
    "duration": 7,
    "start_time": "2025-01-10T01:34:15.339Z"
   },
   {
    "duration": 4,
    "start_time": "2025-01-10T01:34:48.937Z"
   },
   {
    "duration": 5,
    "start_time": "2025-01-10T01:37:37.659Z"
   },
   {
    "duration": 30,
    "start_time": "2025-01-10T01:37:57.136Z"
   },
   {
    "duration": 20,
    "start_time": "2025-01-10T01:38:23.223Z"
   },
   {
    "duration": 2049,
    "start_time": "2025-01-10T01:57:15.114Z"
   },
   {
    "duration": 156,
    "start_time": "2025-01-11T17:12:36.875Z"
   },
   {
    "duration": 11,
    "start_time": "2025-01-11T17:12:56.198Z"
   },
   {
    "duration": 21,
    "start_time": "2025-01-11T17:12:59.962Z"
   },
   {
    "duration": 1273,
    "start_time": "2025-01-11T17:13:11.288Z"
   },
   {
    "duration": 80,
    "start_time": "2025-01-11T17:13:12.563Z"
   },
   {
    "duration": 95,
    "start_time": "2025-01-11T17:13:12.644Z"
   },
   {
    "duration": 11,
    "start_time": "2025-01-11T17:13:12.742Z"
   },
   {
    "duration": 110,
    "start_time": "2025-01-11T17:13:12.755Z"
   },
   {
    "duration": 91,
    "start_time": "2025-01-11T17:13:12.866Z"
   },
   {
    "duration": 60,
    "start_time": "2025-01-11T17:13:12.959Z"
   },
   {
    "duration": 15,
    "start_time": "2025-01-11T17:13:13.021Z"
   },
   {
    "duration": 7,
    "start_time": "2025-01-11T17:13:13.037Z"
   },
   {
    "duration": 20,
    "start_time": "2025-01-11T17:13:13.047Z"
   },
   {
    "duration": 3,
    "start_time": "2025-01-11T17:13:13.069Z"
   },
   {
    "duration": 36,
    "start_time": "2025-01-11T17:13:13.074Z"
   },
   {
    "duration": 8,
    "start_time": "2025-01-11T17:13:13.112Z"
   },
   {
    "duration": 6,
    "start_time": "2025-01-11T17:13:13.122Z"
   },
   {
    "duration": 7,
    "start_time": "2025-01-11T17:13:13.130Z"
   },
   {
    "duration": 786,
    "start_time": "2025-01-11T17:13:13.139Z"
   },
   {
    "duration": 150,
    "start_time": "2025-01-11T17:13:13.926Z"
   },
   {
    "duration": 8,
    "start_time": "2025-01-11T17:13:14.078Z"
   },
   {
    "duration": 6,
    "start_time": "2025-01-11T17:13:14.087Z"
   },
   {
    "duration": 6,
    "start_time": "2025-01-11T17:13:14.109Z"
   },
   {
    "duration": 4,
    "start_time": "2025-01-11T17:13:14.116Z"
   },
   {
    "duration": 6,
    "start_time": "2025-01-11T17:13:14.121Z"
   },
   {
    "duration": 5,
    "start_time": "2025-01-11T17:13:14.128Z"
   },
   {
    "duration": 8,
    "start_time": "2025-01-11T17:13:14.135Z"
   },
   {
    "duration": 7,
    "start_time": "2025-01-11T17:13:14.144Z"
   },
   {
    "duration": 65,
    "start_time": "2025-01-11T17:13:14.153Z"
   },
   {
    "duration": 12,
    "start_time": "2025-01-11T17:13:14.220Z"
   },
   {
    "duration": 9,
    "start_time": "2025-01-11T17:13:14.237Z"
   },
   {
    "duration": 36,
    "start_time": "2025-01-11T17:13:14.247Z"
   },
   {
    "duration": 14,
    "start_time": "2025-01-11T17:13:14.309Z"
   },
   {
    "duration": 13,
    "start_time": "2025-01-11T17:13:14.325Z"
   },
   {
    "duration": 2140,
    "start_time": "2025-01-11T17:13:14.339Z"
   },
   {
    "duration": 131,
    "start_time": "2025-01-11T17:13:16.481Z"
   },
   {
    "duration": 336,
    "start_time": "2025-01-11T17:13:16.614Z"
   },
   {
    "duration": 2,
    "start_time": "2025-01-11T17:13:16.952Z"
   },
   {
    "duration": 6,
    "start_time": "2025-01-11T17:13:16.956Z"
   },
   {
    "duration": 6,
    "start_time": "2025-01-11T17:13:16.964Z"
   },
   {
    "duration": 422,
    "start_time": "2025-01-11T17:13:16.971Z"
   },
   {
    "duration": 332,
    "start_time": "2025-01-11T17:13:17.395Z"
   },
   {
    "duration": 129,
    "start_time": "2025-01-11T17:13:17.729Z"
   },
   {
    "duration": 108,
    "start_time": "2025-01-11T17:13:17.860Z"
   },
   {
    "duration": 90,
    "start_time": "2025-01-11T17:13:17.970Z"
   },
   {
    "duration": 4,
    "start_time": "2025-01-11T17:13:18.062Z"
   },
   {
    "duration": 316,
    "start_time": "2025-01-11T17:13:18.067Z"
   },
   {
    "duration": 74,
    "start_time": "2025-01-11T17:13:18.385Z"
   },
   {
    "duration": 318,
    "start_time": "2025-01-11T17:13:18.461Z"
   },
   {
    "duration": 0,
    "start_time": "2025-01-11T17:13:18.782Z"
   },
   {
    "duration": 0,
    "start_time": "2025-01-11T17:13:18.783Z"
   },
   {
    "duration": 0,
    "start_time": "2025-01-11T17:13:18.784Z"
   },
   {
    "duration": 0,
    "start_time": "2025-01-11T17:13:18.785Z"
   },
   {
    "duration": 81,
    "start_time": "2025-01-11T17:13:30.430Z"
   },
   {
    "duration": 67,
    "start_time": "2025-01-11T17:13:54.841Z"
   },
   {
    "duration": 77,
    "start_time": "2025-01-11T17:14:11.992Z"
   },
   {
    "duration": 67,
    "start_time": "2025-01-11T17:14:16.991Z"
   },
   {
    "duration": 133,
    "start_time": "2025-01-11T17:14:44.223Z"
   },
   {
    "duration": 26,
    "start_time": "2025-01-11T17:17:57.982Z"
   },
   {
    "duration": 12,
    "start_time": "2025-01-11T17:17:58.946Z"
   },
   {
    "duration": 15,
    "start_time": "2025-01-11T17:17:59.715Z"
   },
   {
    "duration": 111,
    "start_time": "2025-01-11T17:18:19.107Z"
   },
   {
    "duration": 1428,
    "start_time": "2025-01-11T18:13:40.529Z"
   },
   {
    "duration": 83,
    "start_time": "2025-01-11T18:13:41.959Z"
   },
   {
    "duration": 94,
    "start_time": "2025-01-11T18:13:42.043Z"
   },
   {
    "duration": 12,
    "start_time": "2025-01-11T18:13:42.139Z"
   },
   {
    "duration": 105,
    "start_time": "2025-01-11T18:13:42.152Z"
   },
   {
    "duration": 100,
    "start_time": "2025-01-11T18:13:42.259Z"
   },
   {
    "duration": 55,
    "start_time": "2025-01-11T18:13:42.361Z"
   },
   {
    "duration": 21,
    "start_time": "2025-01-11T18:13:42.419Z"
   },
   {
    "duration": 9,
    "start_time": "2025-01-11T18:13:42.441Z"
   },
   {
    "duration": 21,
    "start_time": "2025-01-11T18:13:42.455Z"
   },
   {
    "duration": 27,
    "start_time": "2025-01-11T18:13:42.478Z"
   },
   {
    "duration": 7,
    "start_time": "2025-01-11T18:13:42.507Z"
   },
   {
    "duration": 9,
    "start_time": "2025-01-11T18:13:42.516Z"
   },
   {
    "duration": 8,
    "start_time": "2025-01-11T18:13:42.527Z"
   },
   {
    "duration": 8,
    "start_time": "2025-01-11T18:13:42.537Z"
   },
   {
    "duration": 784,
    "start_time": "2025-01-11T18:13:42.548Z"
   },
   {
    "duration": 152,
    "start_time": "2025-01-11T18:13:43.334Z"
   },
   {
    "duration": 7,
    "start_time": "2025-01-11T18:13:43.488Z"
   },
   {
    "duration": 14,
    "start_time": "2025-01-11T18:13:43.496Z"
   },
   {
    "duration": 5,
    "start_time": "2025-01-11T18:13:43.512Z"
   },
   {
    "duration": 4,
    "start_time": "2025-01-11T18:13:43.519Z"
   },
   {
    "duration": 5,
    "start_time": "2025-01-11T18:13:43.525Z"
   },
   {
    "duration": 6,
    "start_time": "2025-01-11T18:13:43.532Z"
   },
   {
    "duration": 8,
    "start_time": "2025-01-11T18:13:43.539Z"
   },
   {
    "duration": 8,
    "start_time": "2025-01-11T18:13:43.548Z"
   },
   {
    "duration": 74,
    "start_time": "2025-01-11T18:13:43.557Z"
   },
   {
    "duration": 12,
    "start_time": "2025-01-11T18:13:43.633Z"
   },
   {
    "duration": 9,
    "start_time": "2025-01-11T18:13:43.650Z"
   },
   {
    "duration": 60,
    "start_time": "2025-01-11T18:13:43.660Z"
   },
   {
    "duration": 14,
    "start_time": "2025-01-11T18:13:43.722Z"
   },
   {
    "duration": 14,
    "start_time": "2025-01-11T18:13:43.738Z"
   },
   {
    "duration": 2052,
    "start_time": "2025-01-11T18:13:43.754Z"
   },
   {
    "duration": 135,
    "start_time": "2025-01-11T18:13:45.808Z"
   },
   {
    "duration": 330,
    "start_time": "2025-01-11T18:13:45.945Z"
   },
   {
    "duration": 3,
    "start_time": "2025-01-11T18:13:46.276Z"
   },
   {
    "duration": 7,
    "start_time": "2025-01-11T18:13:46.280Z"
   },
   {
    "duration": 18,
    "start_time": "2025-01-11T18:13:46.288Z"
   },
   {
    "duration": 347,
    "start_time": "2025-01-11T18:13:46.307Z"
   },
   {
    "duration": 329,
    "start_time": "2025-01-11T18:13:46.656Z"
   },
   {
    "duration": 120,
    "start_time": "2025-01-11T18:13:46.987Z"
   },
   {
    "duration": 106,
    "start_time": "2025-01-11T18:13:47.109Z"
   },
   {
    "duration": 88,
    "start_time": "2025-01-11T18:13:47.217Z"
   },
   {
    "duration": 4,
    "start_time": "2025-01-11T18:13:47.307Z"
   },
   {
    "duration": 339,
    "start_time": "2025-01-11T18:13:47.313Z"
   },
   {
    "duration": 73,
    "start_time": "2025-01-11T18:13:47.654Z"
   },
   {
    "duration": 139,
    "start_time": "2025-01-11T18:13:47.729Z"
   },
   {
    "duration": 25,
    "start_time": "2025-01-11T18:13:47.870Z"
   },
   {
    "duration": 118,
    "start_time": "2025-01-11T18:13:47.897Z"
   },
   {
    "duration": 155,
    "start_time": "2025-01-14T01:18:34.869Z"
   },
   {
    "duration": 1371,
    "start_time": "2025-01-14T01:19:21.368Z"
   },
   {
    "duration": 86,
    "start_time": "2025-01-14T01:19:22.742Z"
   },
   {
    "duration": 148,
    "start_time": "2025-01-14T01:19:22.829Z"
   },
   {
    "duration": 15,
    "start_time": "2025-01-14T01:19:22.979Z"
   },
   {
    "duration": 110,
    "start_time": "2025-01-14T01:19:22.995Z"
   },
   {
    "duration": 95,
    "start_time": "2025-01-14T01:19:23.106Z"
   },
   {
    "duration": 53,
    "start_time": "2025-01-14T01:19:23.202Z"
   },
   {
    "duration": 25,
    "start_time": "2025-01-14T01:19:23.257Z"
   },
   {
    "duration": 7,
    "start_time": "2025-01-14T01:19:23.284Z"
   },
   {
    "duration": 19,
    "start_time": "2025-01-14T01:19:23.295Z"
   },
   {
    "duration": 4,
    "start_time": "2025-01-14T01:19:23.317Z"
   },
   {
    "duration": 6,
    "start_time": "2025-01-14T01:19:23.322Z"
   },
   {
    "duration": 41,
    "start_time": "2025-01-14T01:19:23.329Z"
   },
   {
    "duration": 8,
    "start_time": "2025-01-14T01:19:23.372Z"
   },
   {
    "duration": 8,
    "start_time": "2025-01-14T01:19:23.382Z"
   },
   {
    "duration": 800,
    "start_time": "2025-01-14T01:19:23.391Z"
   },
   {
    "duration": 720,
    "start_time": "2025-01-14T01:19:24.193Z"
   },
   {
    "duration": 8,
    "start_time": "2025-01-14T01:19:24.915Z"
   },
   {
    "duration": 5,
    "start_time": "2025-01-14T01:19:24.925Z"
   },
   {
    "duration": 7,
    "start_time": "2025-01-14T01:19:24.933Z"
   },
   {
    "duration": 27,
    "start_time": "2025-01-14T01:19:24.943Z"
   },
   {
    "duration": 4,
    "start_time": "2025-01-14T01:19:24.972Z"
   },
   {
    "duration": 5,
    "start_time": "2025-01-14T01:19:24.978Z"
   },
   {
    "duration": 8,
    "start_time": "2025-01-14T01:19:24.985Z"
   },
   {
    "duration": 7,
    "start_time": "2025-01-14T01:19:24.995Z"
   },
   {
    "duration": 30,
    "start_time": "2025-01-14T01:19:25.004Z"
   },
   {
    "duration": 41,
    "start_time": "2025-01-14T01:19:25.036Z"
   },
   {
    "duration": 9,
    "start_time": "2025-01-14T01:19:25.082Z"
   },
   {
    "duration": 37,
    "start_time": "2025-01-14T01:19:25.092Z"
   },
   {
    "duration": 38,
    "start_time": "2025-01-14T01:19:25.132Z"
   },
   {
    "duration": 13,
    "start_time": "2025-01-14T01:19:25.171Z"
   },
   {
    "duration": 2119,
    "start_time": "2025-01-14T01:19:25.186Z"
   },
   {
    "duration": 135,
    "start_time": "2025-01-14T01:19:27.307Z"
   },
   {
    "duration": 352,
    "start_time": "2025-01-14T01:19:27.444Z"
   },
   {
    "duration": 3,
    "start_time": "2025-01-14T01:19:27.799Z"
   },
   {
    "duration": 7,
    "start_time": "2025-01-14T01:19:27.804Z"
   },
   {
    "duration": 6,
    "start_time": "2025-01-14T01:19:27.812Z"
   },
   {
    "duration": 384,
    "start_time": "2025-01-14T01:19:27.819Z"
   },
   {
    "duration": 335,
    "start_time": "2025-01-14T01:19:28.204Z"
   },
   {
    "duration": 124,
    "start_time": "2025-01-14T01:19:28.546Z"
   },
   {
    "duration": 106,
    "start_time": "2025-01-14T01:19:28.672Z"
   },
   {
    "duration": 112,
    "start_time": "2025-01-14T01:19:28.780Z"
   },
   {
    "duration": 5,
    "start_time": "2025-01-14T01:19:28.894Z"
   },
   {
    "duration": 323,
    "start_time": "2025-01-14T01:19:28.900Z"
   },
   {
    "duration": 75,
    "start_time": "2025-01-14T01:19:29.226Z"
   },
   {
    "duration": 143,
    "start_time": "2025-01-14T01:19:29.303Z"
   },
   {
    "duration": 34,
    "start_time": "2025-01-14T01:19:29.448Z"
   },
   {
    "duration": 122,
    "start_time": "2025-01-14T01:19:29.484Z"
   },
   {
    "duration": 1389,
    "start_time": "2025-01-14T07:57:22.922Z"
   },
   {
    "duration": 80,
    "start_time": "2025-01-14T07:57:24.313Z"
   },
   {
    "duration": 104,
    "start_time": "2025-01-14T07:57:24.394Z"
   },
   {
    "duration": 12,
    "start_time": "2025-01-14T07:57:24.500Z"
   },
   {
    "duration": 114,
    "start_time": "2025-01-14T07:57:24.515Z"
   },
   {
    "duration": 97,
    "start_time": "2025-01-14T07:57:24.631Z"
   },
   {
    "duration": 67,
    "start_time": "2025-01-14T07:57:24.730Z"
   },
   {
    "duration": 16,
    "start_time": "2025-01-14T07:57:24.799Z"
   },
   {
    "duration": 7,
    "start_time": "2025-01-14T07:57:24.817Z"
   },
   {
    "duration": 19,
    "start_time": "2025-01-14T07:57:24.826Z"
   },
   {
    "duration": 24,
    "start_time": "2025-01-14T07:57:24.847Z"
   },
   {
    "duration": 6,
    "start_time": "2025-01-14T07:57:24.873Z"
   },
   {
    "duration": 8,
    "start_time": "2025-01-14T07:57:24.880Z"
   },
   {
    "duration": 6,
    "start_time": "2025-01-14T07:57:24.893Z"
   },
   {
    "duration": 7,
    "start_time": "2025-01-14T07:57:24.901Z"
   },
   {
    "duration": 777,
    "start_time": "2025-01-14T07:57:24.910Z"
   },
   {
    "duration": 673,
    "start_time": "2025-01-14T07:57:25.689Z"
   },
   {
    "duration": 11,
    "start_time": "2025-01-14T07:57:26.364Z"
   },
   {
    "duration": 5,
    "start_time": "2025-01-14T07:57:26.377Z"
   },
   {
    "duration": 5,
    "start_time": "2025-01-14T07:57:26.384Z"
   },
   {
    "duration": 4,
    "start_time": "2025-01-14T07:57:26.390Z"
   },
   {
    "duration": 5,
    "start_time": "2025-01-14T07:57:26.395Z"
   },
   {
    "duration": 6,
    "start_time": "2025-01-14T07:57:26.401Z"
   },
   {
    "duration": 8,
    "start_time": "2025-01-14T07:57:26.408Z"
   },
   {
    "duration": 9,
    "start_time": "2025-01-14T07:57:26.417Z"
   },
   {
    "duration": 83,
    "start_time": "2025-01-14T07:57:26.427Z"
   },
   {
    "duration": 17,
    "start_time": "2025-01-14T07:57:26.512Z"
   },
   {
    "duration": 17,
    "start_time": "2025-01-14T07:57:26.531Z"
   },
   {
    "duration": 62,
    "start_time": "2025-01-14T07:57:26.553Z"
   },
   {
    "duration": 17,
    "start_time": "2025-01-14T07:57:26.618Z"
   },
   {
    "duration": 16,
    "start_time": "2025-01-14T07:57:26.637Z"
   },
   {
    "duration": 2086,
    "start_time": "2025-01-14T07:57:26.672Z"
   },
   {
    "duration": 132,
    "start_time": "2025-01-14T07:57:28.760Z"
   },
   {
    "duration": 330,
    "start_time": "2025-01-14T07:57:28.893Z"
   },
   {
    "duration": 2,
    "start_time": "2025-01-14T07:57:29.225Z"
   },
   {
    "duration": 6,
    "start_time": "2025-01-14T07:57:29.229Z"
   },
   {
    "duration": 5,
    "start_time": "2025-01-14T07:57:29.237Z"
   },
   {
    "duration": 374,
    "start_time": "2025-01-14T07:57:29.245Z"
   },
   {
    "duration": 333,
    "start_time": "2025-01-14T07:57:29.621Z"
   },
   {
    "duration": 123,
    "start_time": "2025-01-14T07:57:29.957Z"
   },
   {
    "duration": 107,
    "start_time": "2025-01-14T07:57:30.084Z"
   },
   {
    "duration": 111,
    "start_time": "2025-01-14T07:57:30.193Z"
   },
   {
    "duration": 4,
    "start_time": "2025-01-14T07:57:30.306Z"
   },
   {
    "duration": 315,
    "start_time": "2025-01-14T07:57:30.312Z"
   },
   {
    "duration": 73,
    "start_time": "2025-01-14T07:57:30.629Z"
   },
   {
    "duration": 145,
    "start_time": "2025-01-14T07:57:30.704Z"
   },
   {
    "duration": 33,
    "start_time": "2025-01-14T07:57:30.851Z"
   },
   {
    "duration": 113,
    "start_time": "2025-01-14T07:57:30.886Z"
   },
   {
    "duration": 1184,
    "start_time": "2025-01-14T07:57:43.383Z"
   },
   {
    "duration": 82,
    "start_time": "2025-01-14T07:57:44.571Z"
   },
   {
    "duration": 97,
    "start_time": "2025-01-14T07:57:44.654Z"
   },
   {
    "duration": 17,
    "start_time": "2025-01-14T07:57:44.754Z"
   },
   {
    "duration": 103,
    "start_time": "2025-01-14T07:57:44.773Z"
   },
   {
    "duration": 86,
    "start_time": "2025-01-14T07:57:44.878Z"
   },
   {
    "duration": 61,
    "start_time": "2025-01-14T07:57:44.971Z"
   },
   {
    "duration": 14,
    "start_time": "2025-01-14T07:57:45.035Z"
   },
   {
    "duration": 23,
    "start_time": "2025-01-14T07:57:45.050Z"
   },
   {
    "duration": 21,
    "start_time": "2025-01-14T07:57:45.077Z"
   },
   {
    "duration": 5,
    "start_time": "2025-01-14T07:57:45.101Z"
   },
   {
    "duration": 5,
    "start_time": "2025-01-14T07:57:45.109Z"
   },
   {
    "duration": 9,
    "start_time": "2025-01-14T07:57:45.116Z"
   },
   {
    "duration": 8,
    "start_time": "2025-01-14T07:57:45.126Z"
   },
   {
    "duration": 37,
    "start_time": "2025-01-14T07:57:45.135Z"
   },
   {
    "duration": 797,
    "start_time": "2025-01-14T07:57:45.174Z"
   },
   {
    "duration": 710,
    "start_time": "2025-01-14T07:57:45.973Z"
   },
   {
    "duration": 10,
    "start_time": "2025-01-14T07:57:46.684Z"
   },
   {
    "duration": 6,
    "start_time": "2025-01-14T07:57:46.696Z"
   },
   {
    "duration": 6,
    "start_time": "2025-01-14T07:57:46.704Z"
   },
   {
    "duration": 4,
    "start_time": "2025-01-14T07:57:46.712Z"
   },
   {
    "duration": 5,
    "start_time": "2025-01-14T07:57:46.717Z"
   },
   {
    "duration": 5,
    "start_time": "2025-01-14T07:57:46.724Z"
   },
   {
    "duration": 40,
    "start_time": "2025-01-14T07:57:46.730Z"
   },
   {
    "duration": 11,
    "start_time": "2025-01-14T07:57:46.772Z"
   },
   {
    "duration": 30,
    "start_time": "2025-01-14T07:57:46.785Z"
   },
   {
    "duration": 13,
    "start_time": "2025-01-14T07:57:46.817Z"
   },
   {
    "duration": 37,
    "start_time": "2025-01-14T07:57:46.834Z"
   },
   {
    "duration": 40,
    "start_time": "2025-01-14T07:57:46.874Z"
   },
   {
    "duration": 14,
    "start_time": "2025-01-14T07:57:46.916Z"
   },
   {
    "duration": 15,
    "start_time": "2025-01-14T07:57:46.931Z"
   },
   {
    "duration": 429,
    "start_time": "2025-01-14T07:57:46.948Z"
   },
   {
    "duration": 133,
    "start_time": "2025-01-14T07:57:47.379Z"
   },
   {
    "duration": 332,
    "start_time": "2025-01-14T07:57:47.514Z"
   },
   {
    "duration": 2,
    "start_time": "2025-01-14T07:57:47.848Z"
   },
   {
    "duration": 6,
    "start_time": "2025-01-14T07:57:47.852Z"
   },
   {
    "duration": 14,
    "start_time": "2025-01-14T07:57:47.859Z"
   },
   {
    "duration": 335,
    "start_time": "2025-01-14T07:57:47.875Z"
   },
   {
    "duration": 327,
    "start_time": "2025-01-14T07:57:48.212Z"
   },
   {
    "duration": 128,
    "start_time": "2025-01-14T07:57:48.541Z"
   },
   {
    "duration": 160,
    "start_time": "2025-01-14T07:57:48.671Z"
   },
   {
    "duration": 92,
    "start_time": "2025-01-14T07:57:48.832Z"
   },
   {
    "duration": 6,
    "start_time": "2025-01-14T07:57:48.925Z"
   },
   {
    "duration": 320,
    "start_time": "2025-01-14T07:57:48.933Z"
   },
   {
    "duration": 85,
    "start_time": "2025-01-14T07:57:49.255Z"
   },
   {
    "duration": 151,
    "start_time": "2025-01-14T07:57:49.342Z"
   },
   {
    "duration": 26,
    "start_time": "2025-01-14T07:57:49.495Z"
   },
   {
    "duration": 123,
    "start_time": "2025-01-14T07:57:49.522Z"
   }
  ],
  "kernelspec": {
   "display_name": "Python 3 (ipykernel)",
   "language": "python",
   "name": "python3"
  },
  "language_info": {
   "codemirror_mode": {
    "name": "ipython",
    "version": 3
   },
   "file_extension": ".py",
   "mimetype": "text/x-python",
   "name": "python",
   "nbconvert_exporter": "python",
   "pygments_lexer": "ipython3",
   "version": "3.9.19"
  },
  "toc": {
   "base_numbering": 1,
   "nav_menu": {},
   "number_sections": true,
   "sideBar": true,
   "skip_h1_title": true,
   "title_cell": "Table of Contents",
   "title_sidebar": "Contents",
   "toc_cell": false,
   "toc_position": {
    "height": "calc(100% - 180px)",
    "left": "10px",
    "top": "150px",
    "width": "436px"
   },
   "toc_section_display": true,
   "toc_window_display": true
  },
  "vscode": {
   "interpreter": {
    "hash": "01a7be9ec63e704a62cefc5fe7a4756944464ee731be31632bdf42a4cb4688cf"
   }
  }
 },
 "nbformat": 4,
 "nbformat_minor": 5
}
